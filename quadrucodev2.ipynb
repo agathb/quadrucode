{
 "cells": [
  {
   "cell_type": "code",
   "execution_count": 1,
   "metadata": {},
   "outputs": [],
   "source": [
    "# Importing libraries \n",
    "import numpy as np\n",
    "import emcee as em\n",
    "import pandas as pd\n",
    "import matplotlib.pyplot as plt"
   ]
  },
  {
   "cell_type": "code",
   "execution_count": 2,
   "metadata": {},
   "outputs": [],
   "source": [
    "import subprocess\n",
    "import os\n",
    "import sys"
   ]
  },
  {
   "cell_type": "code",
   "execution_count": 3,
   "metadata": {},
   "outputs": [],
   "source": [
    "current_directory = os.getcwd()"
   ]
  },
  {
   "cell_type": "code",
   "execution_count": 4,
   "metadata": {},
   "outputs": [],
   "source": [
    "#metre une erreur pour jetfit si on est out ouf bounds et paser à la suite?\n",
    "#bien revoir les paths de boxfit avant de mettre en public et redire quels paths changer quand boxfit s'installe"
   ]
  },
  {
   "cell_type": "code",
   "execution_count": 5,
   "metadata": {},
   "outputs": [],
   "source": [
    "# Dictionnary containing all the parameters, all models will read of of this dictionnary\n",
    "\n",
    "D = {\n",
    "     # Lightcurve and spectrum settings\n",
    "     'nu_0': 3e9, # ! Lowest frequency for spectrum, frequency for light curve (Hz)\n",
    "     'nu_1': 1e21, #! Highest frequency for spectrum (Hz)\n",
    "     't_0': 1.7e5,  #! Earliest time for light curve, time for spectrum (s)\n",
    "     't_1':  9.5e7, #  ! Latest time for light curve (s)\n",
    "     'no_points': 100, # ! how many data points in the light curve / spectrum\n",
    "\n",
    "    # Jet parameters\n",
    "     'E': 1.0208249320351635e+53,                  #\n",
    "     'n': 1e-2,                #\n",
    "     'theta_0': 0.0698132,\n",
    "     'theta_obs': 0.44,\n",
    "     'p': 2.15,\n",
    "     'd_L': 1.2e26,              #observer luminosity distance (cm)\n",
    "     'z': 0.00973,               #redshift\n",
    "\n",
    "     # Environment\n",
    "     'k': 0,                                  # (ISM) wind power index\n",
    "     'A': 0, \n",
    "\n",
    "     # Microphysics\n",
    "    'epsilon_B': 7e-6, # ! magnetic field energy fraction\n",
    "    'epsilon_E': 1e-1,# ! accelerated particle energy density fraction\n",
    "    'ksi_N': 1,    #    ! accelerated particle number density fraction\n",
    "    \n",
    "     # Boxfit commands and resolution settings\n",
    "     'what_to_do': 1, #if 1 or 2 lightcurve, spectra\n",
    "     'eds_r_res': 100,           #number of rays in EDS r direction\n",
    "     'eds_phi_res': 30,\n",
    "     'fluid_res': 100,\n",
    "\n",
    "     #Afterglowpy \n",
    "     'b': 4.5,\n",
    "\n",
    "     #JetFit\n",
    "     'Eta0': 8,                                          #8\n",
    "     'GammaB': 12, \n",
    "     'lf': 300,\n",
    "\n",
    "       }"
   ]
  },
  {
   "cell_type": "code",
   "execution_count": 6,
   "metadata": {},
   "outputs": [],
   "source": [
    "# Boundaries for time and frequency from the D dictionnary\n",
    "t_min = D['t_0']\n",
    "t_max = D['t_1'] \n",
    "\n",
    "nu_min = D['nu_0']\n",
    "nu_max = D['nu_1']\n",
    "\n",
    "points = int(D['no_points'])"
   ]
  },
  {
   "cell_type": "code",
   "execution_count": 7,
   "metadata": {},
   "outputs": [],
   "source": [
    "#The arrays for times and frequencies\n",
    "times = np.geomspace(t_min, t_max, points)\n",
    "freqs = np.geomspace(nu_min, nu_max, points)\n",
    "\n",
    "freq = np.ones(freqs.shape)*t_min\n",
    "time = np.ones(times.shape)*nu_min"
   ]
  },
  {
   "cell_type": "code",
   "execution_count": 8,
   "metadata": {},
   "outputs": [],
   "source": [
    "#Converts E to Eiso\n",
    "def convert_E_Eiso(E,theta):\n",
    "    Eiso = E/(1-np.cos(theta))  #Theta being the half opening angle of the jet\n",
    "    print(E, np.cos(theta))\n",
    "    return Eiso "
   ]
  },
  {
   "cell_type": "code",
   "execution_count": 9,
   "metadata": {},
   "outputs": [],
   "source": [
    "#Converts Eiso to E\n",
    "def convert_Eiso_E(Eiso,theta):\n",
    "    E = Eiso*(1-np.cos(theta)) #Theta being the half opening angle of the jet\n",
    "    return E "
   ]
  },
  {
   "cell_type": "code",
   "execution_count": 10,
   "metadata": {},
   "outputs": [
    {
     "name": "stdout",
     "output_type": "stream",
     "text": [
      "2.5e+50 0.9975510002532796\n",
      "1.0208249320351635e+53\n"
     ]
    }
   ],
   "source": [
    "print(convert_E_Eiso(2.5*10**50,0.07))"
   ]
  },
  {
   "cell_type": "code",
   "execution_count": 11,
   "metadata": {},
   "outputs": [],
   "source": [
    "#Converts time in s to time in days\n",
    "def convert_ts_td(t):\n",
    "    return t/(60*60*24)"
   ]
  },
  {
   "cell_type": "code",
   "execution_count": 12,
   "metadata": {},
   "outputs": [],
   "source": [
    "#Calculate the lorentz factor \n",
    "def calc_lf(eta_0, gamma_B):\n",
    "    gamma = 2*eta_0*gamma_B\n",
    "    return gamma"
   ]
  },
  {
   "cell_type": "markdown",
   "metadata": {},
   "source": [
    "# BoxFit"
   ]
  },
  {
   "cell_type": "code",
   "execution_count": 13,
   "metadata": {},
   "outputs": [],
   "source": [
    "def case_read():\n",
    "    # Importing the files from BOXFIT\n",
    "    lightcurve_box = os.path.join(current_directory, 'boxfitcode', 'lightcurve.txt')        #For the lightcurve\n",
    "    # spectrum_box = os.path.join(current_directory, 'boxfitcode', 'spectrum.txt')          #For the spectrum\n",
    "\n",
    "    tbox, nubox, Flbox, Fnubox =  [], [], [], []\n",
    "\n",
    "    def read_data_box(f, lightcurve = True): #lightcurve = true when getting the lightcurve data, lightcurve = false for the spectrum\n",
    "        #Dummy index\n",
    "        i = 0\n",
    "\n",
    "        #Loop on the line\n",
    "        for line in f:\n",
    "\n",
    "            #Ignore line if it's a comment\n",
    "            if line.startswith('#'):\n",
    "                i = i + 1\n",
    "                continue  # The loop restarts\n",
    "        \n",
    "            #Split line into columns and remove the commas\n",
    "            columns = line.strip().replace(',','').split()  \n",
    "\n",
    "            #Add data to lists\n",
    "            tbox.append(float(columns[1]))\n",
    "            nubox.append(float(columns[2]))        \n",
    "            if lightcurve == True:\n",
    "                Flbox.append(float(columns[3]))\n",
    "            else:\n",
    "                Fnubox.append(float(columns[3]))\n",
    "                \n",
    "            \n",
    "\n",
    "    # To read the data from Boxfit and plot it \n",
    "    with open(lightcurve_box, 'r') as f1:\n",
    "        read_data_box(f1, lightcurve=True)  #Getting the lightcurve\n",
    "\n",
    "    # with open(spectrum_box, 'r') as f2:\n",
    "    #     read_data_box(f2,lightcurve=False)  #Getting the spectrum\n",
    "\n",
    "    # Convert lists to arrays\n",
    "    tbox = np.array(tbox)       #Just here to make sure it's the same as the linspace tl\n",
    "    nubox = np.array(nubox)     #Same for nus\n",
    "    #Fnubox = np.array(Fnubox)\n",
    "    Flbox = np.array(Flbox)\n",
    "\n",
    "    return tbox, nubox, Flbox\n"
   ]
  },
  {
   "cell_type": "code",
   "execution_count": 14,
   "metadata": {},
   "outputs": [
    {
     "name": "stdout",
     "output_type": "stream",
     "text": [
      "1\n"
     ]
    }
   ],
   "source": [
    "value = int(input(\"Enter 1 to run boxfit and 2 to read boxfit output file\"))\n",
    "print(value)"
   ]
  },
  {
   "cell_type": "code",
   "execution_count": 15,
   "metadata": {},
   "outputs": [
    {
     "name": "stdout",
     "output_type": "stream",
     "text": [
      "You have chosen to run boxfit here, please wait until the program is completed.\n",
      "#######################################################\n",
      "#              BOX-FIT. Release 2 \n",
      "# Last modified: July 29, 2016, by HJvE \n",
      "#\n",
      "# reference: \"Gamma-ray burst afterglow broadband \n",
      "#   fitting based directly on hydrodynamics simulations\"\n",
      "#   H.J. van Eerten, A.J. van der Horst, A.I. MacFadyen\n",
      "#   ApJ (2012) Issue 749, Page 44\n",
      "#   ArXiv: 1110.5089\n",
      "#\n",
      "# Development of the Boxfit code was supported in part \n",
      "# by NASA through grant NNX10AF62G issued through the \n",
      "# Astrophysics Theory Program and by the NSF through \n",
      "# grant AST-1009863.\n",
      "#######################################################\n",
      "# function call:  boxfitcode/boxfit boxfitcode/boxfitsettings.txt\n",
      "# Loading 34 BOXES ...done. First box has version 2.00\n",
      "# BOXFIT Compiled WITHOUT boosted frames support\n",
      "# I/O settings:\n",
      "#   using parameter file boxfitcode/boxfitsettings.txt\n",
      "#   base filename BOX files: /home/agath/snap/firefox/common/Downloads/boxfitv2/data/boxISM_\n",
      "#   Not storing intermediate d F / d t_e\n",
      "#####################################################\n",
      "# radiation switches\n",
      "#   synchrotron self-absorption is enabled\n",
      "#   synchrotron self-absorption is computed globally for each ray.\n",
      "#   electron cooling is enabled\n",
      "#   box data is included\n",
      "#   Blandford-McKee analytical data is included\n",
      "#   Calculating forward jet only.\n",
      "#####################################################\n",
      "# Model parameter settings:\n",
      "#   theta_0 = 6.981320e-02 (rad)\n",
      "#   E_iso = 1.020825e+53 (erg)\n",
      "#   n_0 = 1.000000e-02 (cm^-3)\n",
      "#   theta_obs = 4.400000e-01 (rad)\n",
      "#   p = 2.150000e+00\n",
      "#   epsilon_B = 7.000000e-06\n",
      "#   epsilon_E = 1.000000e-01\n",
      "#   ksi_N = 1.000000e+00\n",
      "###################################################\n",
      "# Time and frequency settings\n",
      "#   nu_0 = 3.000000e+09 (Hz)\n",
      "#   t_0 = 1.700000e+05 (s), t_1 = 9.500000e+07 (s)\n",
      "#####################################################\n",
      "# Observer distance settings\n",
      "#   luminosity distance: 1.200000e+26 (cm)\n",
      "#   redshift: 9.730000e-03\n",
      "#####################################################\n",
      "# BOX data:\n",
      "#   number of boxes: 34\n",
      "#   box 0 : theta_0 = 1.000000e-02\n",
      "#   box 1 : theta_0 = 2.000000e-02\n",
      "#   box 2 : theta_0 = 3.000000e-02\n",
      "#   box 3 : theta_0 = 4.000000e-02\n",
      "#   box 4 : theta_0 = 4.500000e-02\n",
      "#   box 5 : theta_0 = 5.000000e-02\n",
      "#   box 6 : theta_0 = 7.500000e-02\n",
      "#   box 7 : theta_0 = 1.000000e-01\n",
      "#   box 8 : theta_0 = 1.250000e-01\n",
      "#   box 9 : theta_0 = 1.500000e-01\n",
      "#   box 10 : theta_0 = 1.750000e-01\n",
      "#   box 11 : theta_0 = 2.000000e-01\n",
      "#   box 12 : theta_0 = 2.250000e-01\n",
      "#   box 13 : theta_0 = 2.500000e-01\n",
      "#   box 14 : theta_0 = 2.750000e-01\n",
      "#   box 15 : theta_0 = 3.000000e-01\n",
      "#   box 16 : theta_0 = 3.250000e-01\n",
      "#   box 17 : theta_0 = 3.500000e-01\n",
      "#   box 18 : theta_0 = 3.750000e-01\n",
      "#   box 19 : theta_0 = 4.000000e-01\n",
      "#   box 20 : theta_0 = 4.250000e-01\n",
      "#   box 21 : theta_0 = 4.500000e-01\n",
      "#   box 22 : theta_0 = 5.000000e-01\n",
      "#   box 23 : theta_0 = 6.000000e-01\n",
      "#   box 24 : theta_0 = 7.000000e-01\n",
      "#   box 25 : theta_0 = 8.000000e-01\n",
      "#   box 26 : theta_0 = 9.000000e-01\n",
      "#   box 27 : theta_0 = 1.000000e+00\n",
      "#   box 28 : theta_0 = 1.100000e+00\n",
      "#   box 29 : theta_0 = 1.200000e+00\n",
      "#   box 30 : theta_0 = 1.300000e+00\n",
      "#   box 31 : theta_0 = 1.400000e+00\n",
      "#   box 32 : theta_0 = 1.500000e+00\n",
      "#   box 33 : theta_0 = 1.600000e+00\n",
      "#   BOX data for k = 0 (ISM environment).\n",
      "#####################################################\n",
      "# Resolution settings:\n",
      "#   BM / BOX emission time resolution 'res' = 100\n",
      "#   EDS resolution: phi rays = 30, r rays = 100\n",
      "#   EDS ur_max computed dynamically\n",
      "#   Emission time t_0 computed dynamically\n",
      "#   Emission time t_1 computed dynamically\n",
      "#   Starting Blandford-McKee fluid Lorentz factor: 3.000000e+02\n",
      "#   EDS outer radius estimated analytically\n",
      "#   Emission frame time t0 estimated analytically.\n",
      "#   Emission frame time t1 estimated analytically.\n",
      "#####################################################\n",
      "# 0, 1.700000e+05, 3.000000e+09, 0.000000e+00\n",
      "# 1, 1.812171e+05, 3.000000e+09, 0.000000e+00\n",
      "# 2, 1.931743e+05, 3.000000e+09, 0.000000e+00\n",
      "# 3, 2.059205e+05, 3.000000e+09, 0.000000e+00\n",
      "# 4, 2.195078e+05, 3.000000e+09, 0.000000e+00\n",
      "# 5, 2.339915e+05, 3.000000e+09, 0.000000e+00\n",
      "# 6, 2.494310e+05, 3.000000e+09, 0.000000e+00\n",
      "# 7, 2.658892e+05, 3.000000e+09, 0.000000e+00\n",
      "# 8, 2.834333e+05, 3.000000e+09, 0.000000e+00\n",
      "# 9, 3.021351e+05, 3.000000e+09, 0.000000e+00\n",
      "# 10, 3.220708e+05, 3.000000e+09, 0.000000e+00\n",
      "# 11, 3.433220e+05, 3.000000e+09, 0.000000e+00\n",
      "# 12, 3.659754e+05, 3.000000e+09, 0.000000e+00\n",
      "# 13, 3.901235e+05, 3.000000e+09, 0.000000e+00\n",
      "# 14, 4.158650e+05, 3.000000e+09, 0.000000e+00\n",
      "# 15, 4.433050e+05, 3.000000e+09, 0.000000e+00\n",
      "# 16, 4.725556e+05, 3.000000e+09, 0.000000e+00\n",
      "# 17, 5.037362e+05, 3.000000e+09, 0.000000e+00\n",
      "# 18, 5.369742e+05, 3.000000e+09, 0.000000e+00\n",
      "# 19, 5.724053e+05, 3.000000e+09, 0.000000e+00\n",
      "# 20, 6.101743e+05, 3.000000e+09, 0.000000e+00\n",
      "# 21, 6.504354e+05, 3.000000e+09, 0.000000e+00\n",
      "# 22, 6.933530e+05, 3.000000e+09, 0.000000e+00\n",
      "# 23, 7.391025e+05, 3.000000e+09, 0.000000e+00\n",
      "# 24, 7.878706e+05, 3.000000e+09, 0.000000e+00\n",
      "# 25, 8.398566e+05, 3.000000e+09, 0.000000e+00\n",
      "# 26, 8.952728e+05, 3.000000e+09, 1.514814e-07\n",
      "# 27, 9.543456e+05, 3.000000e+09, 5.788921e-07\n",
      "# 28, 1.017316e+06, 3.000000e+09, 3.179579e-07\n",
      "# 29, 1.084442e+06, 3.000000e+09, 1.605276e-06\n",
      "# 30, 1.155996e+06, 3.000000e+09, 1.146922e-06\n",
      "# 31, 1.232272e+06, 3.000000e+09, 1.009551e-06\n",
      "# 32, 1.313581e+06, 3.000000e+09, 1.345201e-06\n",
      "# 33, 1.400255e+06, 3.000000e+09, 3.443389e-06\n",
      "# 34, 1.492648e+06, 3.000000e+09, 4.166948e-06\n",
      "# 35, 1.591137e+06, 3.000000e+09, 5.654103e-06\n",
      "# 36, 1.696125e+06, 3.000000e+09, 6.742736e-06\n",
      "# 37, 1.808040e+06, 3.000000e+09, 9.847781e-06\n",
      "# 38, 1.927340e+06, 3.000000e+09, 2.094393e-04\n",
      "# 39, 2.054512e+06, 3.000000e+09, 2.552282e-04\n",
      "# 40, 2.190075e+06, 3.000000e+09, 2.037469e-04\n",
      "# 41, 2.334582e+06, 3.000000e+09, 2.132972e-04\n",
      "# 42, 2.488625e+06, 3.000000e+09, 4.321848e-04\n",
      "# 43, 2.652831e+06, 3.000000e+09, 9.433319e-05\n",
      "# 44, 2.827873e+06, 3.000000e+09, 1.537710e-04\n",
      "# 45, 3.014464e+06, 3.000000e+09, 3.178266e-04\n",
      "# 46, 3.213367e+06, 3.000000e+09, 2.610757e-04\n",
      "# 47, 3.425395e+06, 3.000000e+09, 4.121081e-04\n",
      "# 48, 3.651412e+06, 3.000000e+09, 5.768680e-04\n",
      "# 49, 3.892343e+06, 3.000000e+09, 6.926996e-04\n",
      "# 50, 4.149172e+06, 3.000000e+09, 9.077013e-03\n",
      "# 51, 4.422946e+06, 3.000000e+09, 7.291952e-04\n",
      "# 52, 4.714785e+06, 3.000000e+09, 1.510852e-02\n",
      "# 53, 5.025880e+06, 3.000000e+09, 2.759316e-03\n",
      "# 54, 5.357503e+06, 3.000000e+09, 3.246507e-03\n",
      "# 55, 5.711006e+06, 3.000000e+09, 1.998786e-02\n",
      "# 56, 6.087835e+06, 3.000000e+09, 1.053599e-02\n",
      "# 57, 6.489528e+06, 3.000000e+09, 2.487351e-02\n",
      "# 58, 6.917726e+06, 3.000000e+09, 2.544006e-02\n",
      "# 59, 7.374178e+06, 3.000000e+09, 3.255536e-02\n",
      "# 60, 7.860748e+06, 3.000000e+09, 4.605091e-02\n",
      "# 61, 8.379423e+06, 3.000000e+09, 2.518185e-02\n",
      "# 62, 8.932322e+06, 3.000000e+09, 5.959249e-02\n",
      "# 63, 9.521703e+06, 3.000000e+09, 4.972027e-02\n",
      "# 64, 1.014997e+07, 3.000000e+09, 3.256786e-02\n",
      "# 65, 1.081970e+07, 3.000000e+09, 4.553438e-02\n",
      "# 66, 1.153361e+07, 3.000000e+09, 3.057072e-02\n",
      "# 67, 1.229463e+07, 3.000000e+09, 4.911814e-02\n",
      "# 68, 1.310587e+07, 3.000000e+09, 5.767249e-02\n",
      "# 69, 1.397063e+07, 3.000000e+09, 3.074812e-02\n",
      "# 70, 1.489246e+07, 3.000000e+09, 4.168612e-02\n",
      "# 71, 1.587511e+07, 3.000000e+09, 3.823738e-02\n",
      "# 72, 1.692259e+07, 3.000000e+09, 2.134749e-02\n",
      "# 73, 1.803919e+07, 3.000000e+09, 1.987377e-02\n",
      "# 74, 1.922947e+07, 3.000000e+09, 2.563178e-02\n",
      "# 75, 2.049829e+07, 3.000000e+09, 1.353895e-02\n",
      "# 76, 2.185083e+07, 3.000000e+09, 1.041297e-02\n",
      "# 77, 2.329261e+07, 3.000000e+09, 1.481716e-02\n",
      "# 78, 2.482952e+07, 3.000000e+09, 1.039254e-02\n",
      "# 79, 2.646785e+07, 3.000000e+09, 5.128795e-03\n",
      "# 80, 2.821427e+07, 3.000000e+09, 4.831725e-03\n",
      "# 81, 3.007593e+07, 3.000000e+09, 3.381619e-03\n",
      "# 82, 3.206043e+07, 3.000000e+09, 2.910818e-03\n",
      "# 83, 3.417587e+07, 3.000000e+09, 1.984534e-03\n",
      "# 84, 3.643090e+07, 3.000000e+09, 1.631586e-03\n",
      "# 85, 3.883471e+07, 3.000000e+09, 1.941625e-03\n",
      "# 86, 4.139714e+07, 3.000000e+09, 1.518690e-03\n",
      "# 87, 4.412865e+07, 3.000000e+09, 1.138101e-03\n",
      "# 88, 4.704038e+07, 3.000000e+09, 8.837133e-04\n",
      "# 89, 5.014425e+07, 3.000000e+09, 6.959287e-04\n",
      "# 90, 5.345291e+07, 3.000000e+09, 6.699027e-04\n",
      "# 91, 5.697989e+07, 3.000000e+09, 6.082212e-04\n",
      "# 92, 6.073959e+07, 3.000000e+09, 4.756725e-04\n",
      "# 93, 6.474737e+07, 3.000000e+09, 3.895723e-04\n",
      "# 94, 6.901959e+07, 3.000000e+09, 3.377004e-04\n",
      "# 95, 7.357370e+07, 3.000000e+09, 2.744197e-04\n",
      "# 96, 7.842831e+07, 3.000000e+09, 2.661737e-04\n",
      "# 97, 8.360324e+07, 3.000000e+09, 2.376291e-04\n",
      "# 98, 8.911963e+07, 3.000000e+09, 2.110763e-04\n",
      "# 99, 9.500000e+07, 3.000000e+09, 1.809600e-04\n",
      "# i, t (s), nu (Hz), F (mJy)\n",
      "0, 1.700000e+05, 3.000000e+09, 0.000000e+00\n",
      "1, 1.812171e+05, 3.000000e+09, 0.000000e+00\n",
      "2, 1.931743e+05, 3.000000e+09, 0.000000e+00\n",
      "3, 2.059205e+05, 3.000000e+09, 0.000000e+00\n",
      "4, 2.195078e+05, 3.000000e+09, 0.000000e+00\n",
      "5, 2.339915e+05, 3.000000e+09, 0.000000e+00\n",
      "6, 2.494310e+05, 3.000000e+09, 0.000000e+00\n",
      "7, 2.658892e+05, 3.000000e+09, 0.000000e+00\n",
      "8, 2.834333e+05, 3.000000e+09, 0.000000e+00\n",
      "9, 3.021351e+05, 3.000000e+09, 0.000000e+00\n",
      "10, 3.220708e+05, 3.000000e+09, 0.000000e+00\n",
      "11, 3.433220e+05, 3.000000e+09, 0.000000e+00\n",
      "12, 3.659754e+05, 3.000000e+09, 0.000000e+00\n",
      "13, 3.901235e+05, 3.000000e+09, 0.000000e+00\n",
      "14, 4.158650e+05, 3.000000e+09, 0.000000e+00\n",
      "15, 4.433050e+05, 3.000000e+09, 0.000000e+00\n",
      "16, 4.725556e+05, 3.000000e+09, 0.000000e+00\n",
      "17, 5.037362e+05, 3.000000e+09, 0.000000e+00\n",
      "18, 5.369742e+05, 3.000000e+09, 0.000000e+00\n",
      "19, 5.724053e+05, 3.000000e+09, 0.000000e+00\n",
      "20, 6.101743e+05, 3.000000e+09, 0.000000e+00\n",
      "21, 6.504354e+05, 3.000000e+09, 0.000000e+00\n",
      "22, 6.933530e+05, 3.000000e+09, 0.000000e+00\n",
      "23, 7.391025e+05, 3.000000e+09, 0.000000e+00\n",
      "24, 7.878706e+05, 3.000000e+09, 0.000000e+00\n",
      "25, 8.398566e+05, 3.000000e+09, 0.000000e+00\n",
      "26, 8.952728e+05, 3.000000e+09, 1.514814e-07\n",
      "27, 9.543456e+05, 3.000000e+09, 5.788921e-07\n",
      "28, 1.017316e+06, 3.000000e+09, 3.179579e-07\n",
      "29, 1.084442e+06, 3.000000e+09, 1.605276e-06\n",
      "30, 1.155996e+06, 3.000000e+09, 1.146922e-06\n",
      "31, 1.232272e+06, 3.000000e+09, 1.009551e-06\n",
      "32, 1.313581e+06, 3.000000e+09, 1.345201e-06\n",
      "33, 1.400255e+06, 3.000000e+09, 3.443389e-06\n",
      "34, 1.492648e+06, 3.000000e+09, 4.166948e-06\n",
      "35, 1.591137e+06, 3.000000e+09, 5.654103e-06\n",
      "36, 1.696125e+06, 3.000000e+09, 6.742736e-06\n",
      "37, 1.808040e+06, 3.000000e+09, 9.847781e-06\n",
      "38, 1.927340e+06, 3.000000e+09, 2.094393e-04\n",
      "39, 2.054512e+06, 3.000000e+09, 2.552282e-04\n",
      "40, 2.190075e+06, 3.000000e+09, 2.037469e-04\n",
      "41, 2.334582e+06, 3.000000e+09, 2.132972e-04\n",
      "42, 2.488625e+06, 3.000000e+09, 4.321848e-04\n",
      "43, 2.652831e+06, 3.000000e+09, 9.433319e-05\n",
      "44, 2.827873e+06, 3.000000e+09, 1.537710e-04\n",
      "45, 3.014464e+06, 3.000000e+09, 3.178266e-04\n",
      "46, 3.213367e+06, 3.000000e+09, 2.610757e-04\n",
      "47, 3.425395e+06, 3.000000e+09, 4.121081e-04\n",
      "48, 3.651412e+06, 3.000000e+09, 5.768680e-04\n",
      "49, 3.892343e+06, 3.000000e+09, 6.926996e-04\n",
      "50, 4.149172e+06, 3.000000e+09, 9.077013e-03\n",
      "51, 4.422946e+06, 3.000000e+09, 7.291952e-04\n",
      "52, 4.714785e+06, 3.000000e+09, 1.510852e-02\n",
      "53, 5.025880e+06, 3.000000e+09, 2.759316e-03\n",
      "54, 5.357503e+06, 3.000000e+09, 3.246507e-03\n",
      "55, 5.711006e+06, 3.000000e+09, 1.998786e-02\n",
      "56, 6.087835e+06, 3.000000e+09, 1.053599e-02\n",
      "57, 6.489528e+06, 3.000000e+09, 2.487351e-02\n",
      "58, 6.917726e+06, 3.000000e+09, 2.544006e-02\n",
      "59, 7.374178e+06, 3.000000e+09, 3.255536e-02\n",
      "60, 7.860748e+06, 3.000000e+09, 4.605091e-02\n",
      "61, 8.379423e+06, 3.000000e+09, 2.518185e-02\n",
      "62, 8.932322e+06, 3.000000e+09, 5.959249e-02\n",
      "63, 9.521703e+06, 3.000000e+09, 4.972027e-02\n",
      "64, 1.014997e+07, 3.000000e+09, 3.256786e-02\n",
      "65, 1.081970e+07, 3.000000e+09, 4.553438e-02\n",
      "66, 1.153361e+07, 3.000000e+09, 3.057072e-02\n",
      "67, 1.229463e+07, 3.000000e+09, 4.911814e-02\n",
      "68, 1.310587e+07, 3.000000e+09, 5.767249e-02\n",
      "69, 1.397063e+07, 3.000000e+09, 3.074812e-02\n",
      "70, 1.489246e+07, 3.000000e+09, 4.168612e-02\n",
      "71, 1.587511e+07, 3.000000e+09, 3.823738e-02\n",
      "72, 1.692259e+07, 3.000000e+09, 2.134749e-02\n",
      "73, 1.803919e+07, 3.000000e+09, 1.987377e-02\n",
      "74, 1.922947e+07, 3.000000e+09, 2.563178e-02\n",
      "75, 2.049829e+07, 3.000000e+09, 1.353895e-02\n",
      "76, 2.185083e+07, 3.000000e+09, 1.041297e-02\n",
      "77, 2.329261e+07, 3.000000e+09, 1.481716e-02\n",
      "78, 2.482952e+07, 3.000000e+09, 1.039254e-02\n",
      "79, 2.646785e+07, 3.000000e+09, 5.128795e-03\n",
      "80, 2.821427e+07, 3.000000e+09, 4.831725e-03\n",
      "81, 3.007593e+07, 3.000000e+09, 3.381619e-03\n",
      "82, 3.206043e+07, 3.000000e+09, 2.910818e-03\n",
      "83, 3.417587e+07, 3.000000e+09, 1.984534e-03\n",
      "84, 3.643090e+07, 3.000000e+09, 1.631586e-03\n",
      "85, 3.883471e+07, 3.000000e+09, 1.941625e-03\n",
      "86, 4.139714e+07, 3.000000e+09, 1.518690e-03\n",
      "87, 4.412865e+07, 3.000000e+09, 1.138101e-03\n",
      "88, 4.704038e+07, 3.000000e+09, 8.837133e-04\n",
      "89, 5.014425e+07, 3.000000e+09, 6.959287e-04\n",
      "90, 5.345291e+07, 3.000000e+09, 6.699027e-04\n",
      "91, 5.697989e+07, 3.000000e+09, 6.082212e-04\n",
      "92, 6.073959e+07, 3.000000e+09, 4.756725e-04\n",
      "93, 6.474737e+07, 3.000000e+09, 3.895723e-04\n",
      "94, 6.901959e+07, 3.000000e+09, 3.377004e-04\n",
      "95, 7.357370e+07, 3.000000e+09, 2.744197e-04\n",
      "96, 7.842831e+07, 3.000000e+09, 2.661737e-04\n",
      "97, 8.360324e+07, 3.000000e+09, 2.376291e-04\n",
      "98, 8.911963e+07, 3.000000e+09, 2.110763e-04\n",
      "99, 9.500000e+07, 3.000000e+09, 1.809600e-04\n",
      "# Program completed.\n"
     ]
    }
   ],
   "source": [
    "match value:\n",
    "\n",
    "    case 1:\n",
    "        print(\"You have chosen to run boxfit here, please wait until the program is completed.\")\n",
    "\n",
    "        # Importing the path to the boxfitsettings file \n",
    "        settings = os.path.join('boxfitcode', 'boxfitsettings.txt')\n",
    "\n",
    "        # Read the content of boxfitsettings.txt\n",
    "        with open(settings, 'r') as file:\n",
    "            settings_content = file.readlines()\n",
    "\n",
    "            # Modify some lines according to the D disctionary\n",
    "            for index, line in enumerate(settings_content):\n",
    "\n",
    "                # Check if line is not an overall comment, has an equal and a comment to describe the parameter\n",
    "                if not line.strip().startswith('!') and '=' in line and '!' in line:\n",
    "                    keyval_extra = line.strip().split('!')                          #Split the key and value from the comment using the !\n",
    "                    key_value = keyval_extra[0].split('=')                          #Split the key from the value using the = \n",
    "                    key, value = key_value[0].strip(), key_value[1].strip()         #Store them\n",
    "                    \n",
    "                    if key in D:\n",
    "                        # If the key is also in D, update the key with the new value from the D dictionary\n",
    "                        value = D[key]\n",
    "                        comment = keyval_extra[1]\n",
    "                        settings_content[index] = f\"{key} = {value} !{comment}\\n\"\n",
    "\n",
    "        # Write down the new lines in the settings file \n",
    "        with open(settings, 'w') as file:\n",
    "            file.writelines(settings_content)\n",
    "\n",
    "\n",
    "        # Importing the path to the boxfit executable \n",
    "        boxfitcode = os.path.join('boxfitcode', 'boxfit')\n",
    "\n",
    "        # Run Boxfit with the shell, using the new boxfitsettings parameter file and saving the output in a list\n",
    "        with subprocess.Popen([\"boxfitcode/boxfit\", settings], stdout=subprocess.PIPE, text=True) as process:\n",
    "            output_boxfit = []\n",
    "            for line in process.stdout:\n",
    "                sys.stdout.write(line)      # Print the output to see the progression\n",
    "                output_boxfit.append(line)  # Store the output\n",
    "                \n",
    "        # Saving BoxFit's output as three arrays: time, frequency and flux\n",
    "        times_box, freq_box, Fl_box = [], [], []\n",
    "        for line in output_boxfit:\n",
    "            if not line.startswith('#'):                # Check if line is not a comment\n",
    "                output_list = line.strip().split(',')  \n",
    "                times_box.append(float(output_list[1]))\n",
    "                freq_box.append(float(output_list[2]))\n",
    "                Fl_box.append(float(output_list[3]))\n",
    "\n",
    "        # Convert lists to arrays\n",
    "        times_box = np.array(times_box) \n",
    "        freq_box = np.array(freq_box)     \n",
    "        Fl_box = np.array(Fl_box)\n",
    "\n",
    "\n",
    "    case 2:\n",
    "        print(\"You have chosen to read boxfit output, please make sure the lightcurve.txt file is in the boxfitcode folder.\")\n",
    "\n",
    "        times_box, freq_box, Fl_box = case_read()\n",
    "\n",
    "\n",
    "    case _:\n",
    "        print(\"Please select either 1 to run BoxFit or 2 to read BoxFit output file.\")"
   ]
  },
  {
   "cell_type": "markdown",
   "metadata": {},
   "source": [
    "# Afterglowpy"
   ]
  },
  {
   "cell_type": "code",
   "execution_count": 16,
   "metadata": {},
   "outputs": [],
   "source": [
    "import afterglowpy as grb"
   ]
  },
  {
   "cell_type": "code",
   "execution_count": 17,
   "metadata": {},
   "outputs": [],
   "source": [
    "#Afterglowpy dictionary contining the specifics of the jet and environment parameters\n",
    "A = {'jetType':     grb.jet.TopHat,     # Top-Hat jet\n",
    "     'specType':    0,                  # Basic Synchrotron Spectrum\n",
    "     'thetaWing':   2*D['theta_obs'],   # Outer truncation angle\n",
    "     'thetaObs':    D['theta_obs'],     # Viewing angle in radians, (roughly 20 degrees)\n",
    "     'E0':          D['E'],             # Isotropic-equivalent energy in erg\n",
    "     'thetaCore':   D['theta_0'],       # Half-opening angle in radians\n",
    "     'n0':          D['n'],             # circumburst density in cm^{-3}\n",
    "     'p':           D['p'],             # electron energy distribution index\n",
    "     'epsilon_e':   D['epsilon_E'],     # epsilon_e\n",
    "     'epsilon_B':   D['epsilon_B'],     # epsilon_B\n",
    "     'xi_N':        D['ksi_N'],         # Fraction of electrons accelerated\n",
    "     'd_L':         D['d_L'],           # Luminosity distance in cm (40Mpc)\n",
    "     'z':           D['z'],             # redshift\n",
    "     'b':           D['b']              # power for power-law structure theta**(-b)\n",
    "     }                \n",
    "\n"
   ]
  },
  {
   "cell_type": "code",
   "execution_count": 18,
   "metadata": {},
   "outputs": [],
   "source": [
    "def light_curve_afterglowpy(A):\n",
    "    # Calculate the fluxes\n",
    "    Fnula = grb.fluxDensity(times, freq, **A)   # For the lightcurve\n",
    "    Fnusa = grb.fluxDensity(time, freqs, **A)   # For the spectrum\n",
    "\n",
    "    return Fnula, Fnusa\n",
    "\n",
    "Fnula, Fnusa = light_curve_afterglowpy(A)"
   ]
  },
  {
   "cell_type": "code",
   "execution_count": 19,
   "metadata": {},
   "outputs": [],
   "source": [
    "#Get multiple geometries from Afterglowpy\n",
    "\n",
    "#Here are all the types of jets and their names\n",
    "types_jets = [grb.jet.TopHat, grb.jet.Gaussian, grb.jet.PowerLaw,  grb.jet.GaussianCore, grb.jet.PowerLawCore]\n",
    "name_types_jets = ['TopHat', 'Gaussian', 'PowerLaw', 'GaussianCore','PowerLawCore']\n",
    "\n",
    "#Make a loop over them and store the fluxes for each jet\n",
    "afterglowpys = [light_curve_afterglowpy(A) for A['jetType'] in types_jets]"
   ]
  },
  {
   "cell_type": "markdown",
   "metadata": {},
   "source": [
    "# JetFit"
   ]
  },
  {
   "cell_type": "code",
   "execution_count": 20,
   "metadata": {},
   "outputs": [],
   "source": [
    "jetfitcode_path = os.path.join(current_directory, 'jetfitcode')\n",
    "sys.path.append(jetfitcode_path)\n",
    "\n",
    "from FitterClass import *\n",
    "from FluxGeneratorClass import *\n",
    "from collections import defaultdict"
   ]
  },
  {
   "cell_type": "code",
   "execution_count": 21,
   "metadata": {},
   "outputs": [],
   "source": [
    "#Importing the precomputed fluxes to put in the JetFit functions\n",
    "Table = os.path.join(jetfitcode_path, 'Table.h5') "
   ]
  },
  {
   "cell_type": "code",
   "execution_count": 22,
   "metadata": {},
   "outputs": [],
   "source": [
    "#Function that removes the logscales\n",
    "def Log2Linear(Log, Info):\n",
    "    Linear = {} #Defined as a dictionary\n",
    "    for i, key in enumerate(Info['Fit']):   #Going through all the parameters\n",
    "        if key in Info['Log']:              #If it is in logscale, then use the exponential or 10^X\n",
    "            if Info['LogType'] == 'Log10':\n",
    "                Linear[key] = np.power(10.,Log[key])\n",
    "            else:\n",
    "                Linear[key] = np.exp(Log[key])\n",
    "        else:\n",
    "            Linear[key] = Log[key]\n",
    "    # print(Linear['E'],Linear) #Debug statement to see the full dict\n",
    "    return Linear\n"
   ]
  },
  {
   "cell_type": "code",
   "execution_count": 23,
   "metadata": {},
   "outputs": [],
   "source": [
    "#Calculates the range for time with respect to the bounds of tau for jetfit\n",
    "\n",
    "def range_time_tau():\n",
    "    #The range and formula from the paper\n",
    "    tau_min = 8.64e2\n",
    "    tau_max = 8.64e7\n",
    "    scale = (1. + J['z'])*(J['E']/J['n'])**(1./3.)\n",
    "    ti = tau_min*scale\n",
    "    tf = tau_max*scale\n",
    "\n",
    "    print('The time range allowed by tau is: [',\"{:e}\".format(ti),',',\"{:e}\".format(tf),']')\n",
    "\n",
    "    if t_min < ti:\n",
    "        print('The lower boundary is out of bounds:', \"{:e}\".format(t_min), 'is lower than', \"{:e}\".format(ti))\n",
    "    elif t_max > tf:\n",
    "        print('The upper boundary is out of bounds:', \"{:e}\".format(t_max),'is higher than', \"{:e}\".format(tf))\n",
    "    else:\n",
    "        print('The values are within the time range.')\n",
    "    return ti, tf"
   ]
  },
  {
   "cell_type": "code",
   "execution_count": 24,
   "metadata": {},
   "outputs": [],
   "source": [
    "def light_curve_jetfit(P):\n",
    "    #Call to the function to know if we are in the domain of validity of JetFit\n",
    "    ti, tf = range_time_tau()\n",
    "    \n",
    "    #Calculate flux\n",
    "    flux_jet = np.asarray(FluxGenerator.GetSpectral(times, freq, P))\n",
    "\n",
    "    return flux_jet"
   ]
  },
  {
   "cell_type": "code",
   "execution_count": 25,
   "metadata": {},
   "outputs": [],
   "source": [
    "def get_integrated_jetfit(P):\n",
    "\n",
    "    #The function takes as an input an array with two columns, so we split the data into two arrays with points (because points/2 fails)\n",
    "    mid_point = freqs[int(points/2)]\n",
    "    nus_col = np.column_stack((np.geomspace(nu_min, mid_point, points), np.geomspace(mid_point, nu_max, points)))\n",
    "    \n",
    "    #Calculate flux\n",
    "    Fsjet = np.asarray(FluxGenerator.GetIntegratedFlux(time, nus_col, P))\n",
    "\n",
    "    return nus_col, Fsjet"
   ]
  },
  {
   "cell_type": "code",
   "execution_count": 26,
   "metadata": {},
   "outputs": [
    {
     "name": "stdout",
     "output_type": "stream",
     "text": [
      "The time range allowed by tau is: [ 5.486040e+03 , 5.486040e+08 ]\n",
      "The values are within the time range.\n",
      "Made it to the if\n",
      "break1\n",
      "break2\n",
      "sucessfully through the if\n",
      "Made it to the if\n",
      "Made it to the exept\n"
     ]
    }
   ],
   "source": [
    "#JetFit informations\n",
    "Info = {\n",
    "    'Fit': np.array(['E', 'Eta0', 'GammaB','theta_obs','epsb','epse','n','p','z','xiN','dL','theta_obs']),  # Fitting parameters (Parameter names see P dictionary below)\n",
    "    'Log': np.array([]),                                                                                    # Set parameters in log scale 'E','n','epse','epsb' (mesured in log for mcmc analysis)\n",
    "    'LogType': 'Log10',                                                                                     # Log scale type: Log10 or Log\n",
    "    'ThetaObsPrior': 'Sine',                                                                                # Prior for observation angle: Sine or Uniform\n",
    "    'FluxType': 'Spectral'                                                                                  # Flux type: Spectral or Integrated\n",
    "}\n",
    "\n",
    "#JetFit bounds for parameters in linear scale\n",
    "FitBound = {\n",
    "    'E': np.array([1e-6, 1e3]),         \n",
    "    'n': np.array([1e-6, 1e3]),\n",
    "    'Eta0': np.array([2.,10.]),\n",
    "    'GammaB': np.array([1.,12.]),\n",
    "    'theta_obs': np.array([0.,1.]),\n",
    "    'epse': np.array([1e-6,1.]),\n",
    "    'epsb': np.array([1e-6,1.]),\n",
    "    'p': np.array([2.,4.])\n",
    "}\n",
    "\n",
    "#JetFit dict\n",
    "Explore = False # For non-fiting parameters, P set default values. \n",
    "\n",
    "J = {\n",
    "    'E': convert_Eiso_E(D['E'],D['theta_0'])/10**50,    # E0/10^50, need to convert because B takes Eiso as an input \n",
    "    'Eta0': D['Eta0'],                                          #8\n",
    "    'GammaB': D['GammaB'],                                       #12\n",
    "    'dL': D['d_L']/10**28,                              # dl/10^28 cm\n",
    "    'epsb': D['epsilon_B'],\n",
    "    'epse': D['epsilon_E'],\n",
    "    'n': D['n'],                                        # has no unit because cm^{-3}/1cm^{-3}\n",
    "    'p': D['p'],\n",
    "    'theta_obs': D['theta_obs'],                        # This is the half opening angle\n",
    "    'xiN': D['ksi_N'],\n",
    "    'z': D['z']\n",
    "}\n",
    "\n",
    "#Transform the log variables from the P dictionnary to linear ones\n",
    "J = Log2Linear(J,Info) \n",
    "\n",
    "#Create FluxGeneratorClass based on the given table\n",
    "FluxGenerator = FluxGeneratorClass(Table)\n",
    "\n",
    "#Get the lightcurve from the function\n",
    "Fljet = light_curve_jetfit(J)\n",
    "\n",
    "#Get the integrated lightcurve from the function\n",
    "nusj, Fsjet = get_integrated_jetfit(J)"
   ]
  },
  {
   "cell_type": "markdown",
   "metadata": {},
   "source": [
    "# JetSimpy"
   ]
  },
  {
   "cell_type": "code",
   "execution_count": 27,
   "metadata": {},
   "outputs": [],
   "source": [
    "import jetsimpy"
   ]
  },
  {
   "cell_type": "code",
   "execution_count": 28,
   "metadata": {},
   "outputs": [],
   "source": [
    "JS = dict(\n",
    "    Eiso = 1.0208249320351635e+53,                          # (Jet) Isotropic equivalent energy\n",
    "    lf = calc_lf(D['Eta0'], D['GammaB']),   # (Jet) Lorentz factor\n",
    "    theta_c = D['theta_0'],                 # (Jet) half opening angle\n",
    "    n0 = D['n'],                            # (ISM) constant number density\n",
    "    k = D['k'],                                  # (ISM) wind power index\n",
    "    A = D['A'],                                  # (ISM) wind amplitude\n",
    "    eps_e = D['epsilon_E'],                 # (Radiation) epsilon_e\n",
    "    eps_b = D['epsilon_B'],                 # (Radiation) epsilon_b\n",
    "    p = D['p'],                             # (Radiation) electron power index\n",
    "    theta_v = D['theta_obs'],               # (Radiation) viewing angle\n",
    "    d = D['d_L']/3.08e24,                   # (radiation) distance (Mpc)\n",
    "    z = D['z'],                             # (radiation) redshift\n",
    "    b = 1,                                  # (radiation) magnetic field anisotropy\n",
    ")"
   ]
  },
  {
   "cell_type": "code",
   "execution_count": 29,
   "metadata": {},
   "outputs": [
    {
     "name": "stderr",
     "output_type": "stream",
     "text": [
      "/tmp/ipykernel_19942/910133170.py:25: RuntimeWarning: invalid value encountered in sqrt\n",
      "  gamma_max = gb*(e0 + vb*np.cos(theta))*np.sqrt((e0*v0)**2 - sin_fact**2)/(1 + sin_fact**2)\n"
     ]
    }
   ],
   "source": [
    "#Theta Linspace\n",
    "theta = np.linspace(0, np.pi, 1000) \n",
    "\n",
    "#Constructing the Eiso linspace\n",
    "theta_c = D['theta_0']\n",
    "b = A['b']\n",
    "E_0 = 1.0208249320351635e+53\n",
    "gb = D['GammaB']\n",
    "e0 = D['Eta0']\n",
    "\n",
    "# Top Hat np.heaviside(-thetalinsp+theta_c,thetalinsp[999]- theta_c)\n",
    "Eiso_th = E_0*np.heaviside(-theta+theta_c,theta[999]-theta_c) # Using the heaviside funcion that is 0 for x < 0 and 1 for x > 1 with x running from 1 to -9 to get only a small potion that is = 1 with sharp edges\n",
    "\n",
    "# Gaussian\n",
    "Eiso_g = E_0*np.exp(-0.5*(theta/theta_c)**2) \n",
    "\n",
    "# Power-Law\n",
    "Eiso_pl = E_0*( 1 + (1/b)*(theta/theta_c)**2 )**(-b/2)\n",
    "\n",
    "# Boosted Fireball\n",
    "v0 = np.sqrt(1 - 1/e0**2)\n",
    "vb = np.sqrt(1 - 1/gb**2) \n",
    "sin_fact = gb*vb*np.sin(theta) #convert_deg_to_rad(thetalinsp)\n",
    "gamma_max_0 = gb*(e0 + vb*e0*v0)\n",
    "gamma_max = gb*(e0 + vb*np.cos(theta))*np.sqrt((e0*v0)**2 - sin_fact**2)/(1 + sin_fact**2)\n",
    "#Eiso = (E_0/4*np.pi)*(gamma_max/gamma_max_0)**3\n",
    "\n",
    "#Eiso = B[\"E\"] * np.exp(- 0.5 * (theta / B[\"theta_0\"]) ** 2)\n",
    "\n",
    "# Lorentz fator\n",
    "lf = (calc_lf(D['Eta0'], D['GammaB']) - 1) * np.exp(- 0.5 * (theta / D[\"theta_0\"]) ** 2) + 1"
   ]
  },
  {
   "cell_type": "code",
   "execution_count": 30,
   "metadata": {},
   "outputs": [],
   "source": [
    "def flux_jetsimpy(theta, Eiso, lf):\n",
    "    # jet with spreading (show full argument and keyword list)\n",
    "    theta, Eiso, lf = jetsimpy.Gaussian(D[\"theta_0\"], D[\"E\"], lf0=D[\"lf\"])\n",
    "    jet = jetsimpy.Jet(\n",
    "        (theta, Eiso, lf),             # [tuple of tabulated data]: (polar angles, rest mass excluded energy, Lorentz factor)\n",
    "        D[\"A\"],                        # [wind density scale]: n = nwind * (r / 1e17)^-2 + nism (cm^-3)\n",
    "        D[\"n\"],                       # [ism density scale]: n = nwind * (r / 1e17)^-2 + nism (cm^-3)\n",
    "        t_min,                     # [simulation start time]: (s)\n",
    "        t_max,                    # [simulation end time]: (s)\n",
    "        grid=jetsimpy.NorthPole(D[\"theta_0\"], 129),    # [cell edge angles]: must start with 0 and end with pi.\n",
    "        tail=True,                     # [isotropic tail]: add an extremely low energy low velocity isotropic tail for safty\n",
    "        spread=True,                   # w/wo spreading effect \n",
    "        cal_level=1,                   # [calibration level]: 0: no calibration. 1: BM all time. 2: smoothly go from BM to ST (dangerous)\n",
    "        rtol=1e-6,                     # [primitive variable solver tolerance]: Don't change it unless you know what is going on.\n",
    "        cfl=0.9,                       # [cfl number]: Don't change it unless you know what is going on.\n",
    "    )\n",
    "    # calculate the afterglow flux density (unit: mJy)\n",
    "    Fl_js = jet.FluxDensity(\n",
    "        times,                 # [second] observing time span\n",
    "        freq,                # [Hz]     observing frequency\n",
    "        JS,                 # parameter dictionary for radiation\n",
    "        rtol=1e-2,          # (default=1e-2) integration error tolerance\n",
    "        model=\"sync\",       # default radiation model\n",
    "    )\n",
    "    return Fl_js"
   ]
  },
  {
   "cell_type": "code",
   "execution_count": 31,
   "metadata": {},
   "outputs": [
    {
     "ename": "RuntimeError",
     "evalue": "EATS: Observing time exceeds PDE maximum evolution time!\n",
     "output_type": "error",
     "traceback": [
      "\u001b[0;31m---------------------------------------------------------------------------\u001b[0m",
      "\u001b[0;31mRuntimeError\u001b[0m                              Traceback (most recent call last)",
      "Cell \u001b[0;32mIn[31], line 2\u001b[0m\n\u001b[1;32m      1\u001b[0m energy_jets \u001b[38;5;241m=\u001b[39m [Eiso_th, Eiso_g, Eiso_pl]\n\u001b[0;32m----> 2\u001b[0m jetsimpys \u001b[38;5;241m=\u001b[39m [\u001b[43mflux_jetsimpy\u001b[49m\u001b[43m(\u001b[49m\u001b[43mtheta\u001b[49m\u001b[43m,\u001b[49m\u001b[43m \u001b[49m\u001b[43mEiso\u001b[49m\u001b[43m,\u001b[49m\u001b[43m \u001b[49m\u001b[43mlf\u001b[49m\u001b[43m)\u001b[49m \u001b[38;5;28;01mfor\u001b[39;00m Eiso \u001b[38;5;129;01min\u001b[39;00m energy_jets] \n",
      "Cell \u001b[0;32mIn[30], line 18\u001b[0m, in \u001b[0;36mflux_jetsimpy\u001b[0;34m(theta, Eiso, lf)\u001b[0m\n\u001b[1;32m      4\u001b[0m jet \u001b[38;5;241m=\u001b[39m jetsimpy\u001b[38;5;241m.\u001b[39mJet(\n\u001b[1;32m      5\u001b[0m     (theta, Eiso, lf),             \u001b[38;5;66;03m# [tuple of tabulated data]: (polar angles, rest mass excluded energy, Lorentz factor)\u001b[39;00m\n\u001b[1;32m      6\u001b[0m     D[\u001b[38;5;124m\"\u001b[39m\u001b[38;5;124mA\u001b[39m\u001b[38;5;124m\"\u001b[39m],                        \u001b[38;5;66;03m# [wind density scale]: n = nwind * (r / 1e17)^-2 + nism (cm^-3)\u001b[39;00m\n\u001b[0;32m   (...)\u001b[0m\n\u001b[1;32m     15\u001b[0m     cfl\u001b[38;5;241m=\u001b[39m\u001b[38;5;241m0.9\u001b[39m,                       \u001b[38;5;66;03m# [cfl number]: Don't change it unless you know what is going on.\u001b[39;00m\n\u001b[1;32m     16\u001b[0m )\n\u001b[1;32m     17\u001b[0m \u001b[38;5;66;03m# calculate the afterglow flux density (unit: mJy)\u001b[39;00m\n\u001b[0;32m---> 18\u001b[0m Fl_js \u001b[38;5;241m=\u001b[39m \u001b[43mjet\u001b[49m\u001b[38;5;241;43m.\u001b[39;49m\u001b[43mFluxDensity\u001b[49m\u001b[43m(\u001b[49m\n\u001b[1;32m     19\u001b[0m \u001b[43m    \u001b[49m\u001b[43mtimes\u001b[49m\u001b[43m,\u001b[49m\u001b[43m                 \u001b[49m\u001b[38;5;66;43;03m# [second] observing time span\u001b[39;49;00m\n\u001b[1;32m     20\u001b[0m \u001b[43m    \u001b[49m\u001b[43mfreq\u001b[49m\u001b[43m,\u001b[49m\u001b[43m                \u001b[49m\u001b[38;5;66;43;03m# [Hz]     observing frequency\u001b[39;49;00m\n\u001b[1;32m     21\u001b[0m \u001b[43m    \u001b[49m\u001b[43mJS\u001b[49m\u001b[43m,\u001b[49m\u001b[43m                 \u001b[49m\u001b[38;5;66;43;03m# parameter dictionary for radiation\u001b[39;49;00m\n\u001b[1;32m     22\u001b[0m \u001b[43m    \u001b[49m\u001b[43mrtol\u001b[49m\u001b[38;5;241;43m=\u001b[39;49m\u001b[38;5;241;43m1e-2\u001b[39;49m\u001b[43m,\u001b[49m\u001b[43m          \u001b[49m\u001b[38;5;66;43;03m# (default=1e-2) integration error tolerance\u001b[39;49;00m\n\u001b[1;32m     23\u001b[0m \u001b[43m    \u001b[49m\u001b[43mmodel\u001b[49m\u001b[38;5;241;43m=\u001b[39;49m\u001b[38;5;124;43m\"\u001b[39;49m\u001b[38;5;124;43msync\u001b[39;49m\u001b[38;5;124;43m\"\u001b[39;49m\u001b[43m,\u001b[49m\u001b[43m       \u001b[49m\u001b[38;5;66;43;03m# default radiation model\u001b[39;49;00m\n\u001b[1;32m     24\u001b[0m \u001b[43m\u001b[49m\u001b[43m)\u001b[49m\n\u001b[1;32m     25\u001b[0m \u001b[38;5;28;01mreturn\u001b[39;00m Fl_js\n",
      "File \u001b[0;32m~/anaconda3/envs/JetFit/lib/python3.12/site-packages/jetsimpy-0.4.0-py3.12-linux-x86_64.egg/jetsimpy/_jetsimpy.py:123\u001b[0m, in \u001b[0;36mJet.FluxDensity\u001b[0;34m(self, t, nu, para, model, rtol)\u001b[0m\n\u001b[1;32m    121\u001b[0m     L \u001b[38;5;241m=\u001b[39m \u001b[38;5;28mself\u001b[39m\u001b[38;5;241m.\u001b[39m_jet\u001b[38;5;241m.\u001b[39mcalculateLuminosity(t, nu, rtol)\n\u001b[1;32m    122\u001b[0m \u001b[38;5;28;01mexcept\u001b[39;00m \u001b[38;5;167;01mException\u001b[39;00m \u001b[38;5;28;01mas\u001b[39;00m e:\n\u001b[0;32m--> 123\u001b[0m     \u001b[38;5;28;01mraise\u001b[39;00m e\n\u001b[1;32m    125\u001b[0m \u001b[38;5;28;01mreturn\u001b[39;00m L \u001b[38;5;241m*\u001b[39m (\u001b[38;5;241m1\u001b[39m \u001b[38;5;241m+\u001b[39m para[\u001b[38;5;124m\"\u001b[39m\u001b[38;5;124mz\u001b[39m\u001b[38;5;124m\"\u001b[39m]) \u001b[38;5;241m/\u001b[39m \u001b[38;5;241m4\u001b[39m \u001b[38;5;241m/\u001b[39m np\u001b[38;5;241m.\u001b[39mpi \u001b[38;5;241m/\u001b[39m (para[\u001b[38;5;124m\"\u001b[39m\u001b[38;5;124md\u001b[39m\u001b[38;5;124m\"\u001b[39m] \u001b[38;5;241m*\u001b[39m _MPC) \u001b[38;5;241m*\u001b[39m\u001b[38;5;241m*\u001b[39m \u001b[38;5;241m2\u001b[39m \u001b[38;5;241m/\u001b[39m _mJy\n",
      "File \u001b[0;32m~/anaconda3/envs/JetFit/lib/python3.12/site-packages/jetsimpy-0.4.0-py3.12-linux-x86_64.egg/jetsimpy/_jetsimpy.py:121\u001b[0m, in \u001b[0;36mJet.FluxDensity\u001b[0;34m(self, t, nu, para, model, rtol)\u001b[0m\n\u001b[1;32m    118\u001b[0m \u001b[38;5;28mself\u001b[39m\u001b[38;5;241m.\u001b[39m_jet\u001b[38;5;241m.\u001b[39mconfigEmissivity(model)\n\u001b[1;32m    120\u001b[0m \u001b[38;5;28;01mtry\u001b[39;00m:\n\u001b[0;32m--> 121\u001b[0m     L \u001b[38;5;241m=\u001b[39m \u001b[38;5;28;43mself\u001b[39;49m\u001b[38;5;241;43m.\u001b[39;49m\u001b[43m_jet\u001b[49m\u001b[38;5;241;43m.\u001b[39;49m\u001b[43mcalculateLuminosity\u001b[49m\u001b[43m(\u001b[49m\u001b[43mt\u001b[49m\u001b[43m,\u001b[49m\u001b[43m \u001b[49m\u001b[43mnu\u001b[49m\u001b[43m,\u001b[49m\u001b[43m \u001b[49m\u001b[43mrtol\u001b[49m\u001b[43m)\u001b[49m\n\u001b[1;32m    122\u001b[0m \u001b[38;5;28;01mexcept\u001b[39;00m \u001b[38;5;167;01mException\u001b[39;00m \u001b[38;5;28;01mas\u001b[39;00m e:\n\u001b[1;32m    123\u001b[0m     \u001b[38;5;28;01mraise\u001b[39;00m e\n",
      "\u001b[0;31mRuntimeError\u001b[0m: EATS: Observing time exceeds PDE maximum evolution time!\n"
     ]
    }
   ],
   "source": [
    "energy_jets = [Eiso_th, Eiso_g, Eiso_pl]\n",
    "jetsimpys = [flux_jetsimpy(theta, Eiso, lf) for Eiso in energy_jets] "
   ]
  },
  {
   "cell_type": "markdown",
   "metadata": {},
   "source": [
    "# Get the data points from an event "
   ]
  },
  {
   "cell_type": "code",
   "execution_count": null,
   "metadata": {},
   "outputs": [],
   "source": [
    "# Getting the data from GW170817\n",
    "gw = os.path.join(current_directory, 'data', 'GW170817_3GHz_VLAobs.txt')\n",
    "\n",
    "#Declare lists for the variables\n",
    "t_gw = []\n",
    "nu_gw = []\n",
    "Fl_gw = []\n",
    "Flerr_gw = []\n",
    "\n",
    "with open(gw,'r') as file:\n",
    "\n",
    "    for line in file:\n",
    "        #Ignore the comments in the file\n",
    "        if line.startswith('#'): \n",
    "            continue\n",
    "        \n",
    "        #Split line into columns and remove the spaces\n",
    "        columns = line.strip().split()  \n",
    "\n",
    "        t_gw.append(float(columns[0]))\n",
    "        Fl_gw.append(float(columns[1]))\n",
    "        Flerr_gw.append(float(columns[2]))\n",
    "        nu_gw.append(float(columns[3]))\n",
    "\n",
    "# Convert lists to arrays\n",
    "t_gw = np.array(t_gw) #Contrary to the others, the time is in days\n",
    "Fl_gw = np.array(Fl_gw)\n",
    "Flerr_gw = np.array(Flerr_gw)\n",
    "nu_gw = np.array(nu_gw)        "
   ]
  },
  {
   "cell_type": "markdown",
   "metadata": {},
   "source": [
    "## Plot the Lightcurves and Spectra"
   ]
  },
  {
   "cell_type": "code",
   "execution_count": null,
   "metadata": {},
   "outputs": [
    {
     "name": "stdout",
     "output_type": "stream",
     "text": [
      "[   1.96759259   16.20665509  133.49085648 1099.53703704]\n"
     ]
    }
   ],
   "source": [
    "print(convert_ts_td(times_box))"
   ]
  },
  {
   "cell_type": "code",
   "execution_count": null,
   "metadata": {},
   "outputs": [
    {
     "name": "stderr",
     "output_type": "stream",
     "text": [
      "/tmp/ipykernel_94196/2893060074.py:57: UserWarning: FigureCanvasAgg is non-interactive, and thus cannot be shown\n",
      "  fig1.show()\n"
     ]
    },
    {
     "data": {
      "image/png": "[encoded data removed]",
      "text/plain": [
       "<Figure size 640x480 with 1 Axes>"
      ]
     },
     "metadata": {},
     "output_type": "display_data"
    }
   ],
   "source": [
    "#To get a Label\n",
    "Label = {\n",
    "    r'$E_{iso}$': D['E'],\n",
    "    r'$n$': D['n'],\n",
    "    r'$\\eta_0$': D['Eta0'],\n",
    "    r'$\\gamma_B$': D['GammaB'],\n",
    "    r'$\\theta_{obs}$': D['theta_obs'],\n",
    "    r'$\\epsilon_e$': D['epsilon_E'],\n",
    "    r'$\\epsilon_b$': D['epsilon_B']\n",
    "}\n",
    "\n",
    "labels = [\"{}: {}\".format(key, value) for key, value in Label.items()]\n",
    "\n",
    "\n",
    "#Instructions for plotting the lightcurve\n",
    "\n",
    "fig1, ax1 = plt.subplots(1, 1)\n",
    "\n",
    "# Top Hat\n",
    "ax1.plot(convert_ts_td(times_box), Fl_box, label=\"BoxFit\") #convert_ts_td(tbox)\n",
    "ax1.plot(convert_ts_td(times), afterglowpys[0][0], label=\"Afterglowpy (Top Hat)\", color = 'tab:blue', linestyle='dashed')\n",
    "ax1.plot(convert_ts_td(times), jetsimpys[0], label=\"JetSimpy (Top Hat)\", color = 'tab:blue', linestyle='dotted') #convert_ts_td(tlj)\n",
    "\n",
    "#Gaussian\n",
    "ax1.plot(convert_ts_td(times), afterglowpys[1][0], label=\"Afterglowpy (Gaussian)\", color = 'tab:orange', linestyle='dashed')\n",
    "ax1.plot(convert_ts_td(times), jetsimpys[1], label=\"JetSimpy (Gaussian)\", color = 'tab:orange', linestyle='dotted') #convert_ts_td(tlj) \n",
    "\n",
    "#Power-Law\n",
    "ax1.plot(convert_ts_td(times), afterglowpys[2][0], label=\"Afterglowpy (Power-Law)\", color = 'tab:green', linestyle='dashed')\n",
    "ax1.plot(convert_ts_td(times), jetsimpys[2], label=\"JetSimpy (Power-Law)\", color = 'tab:green', linestyle='dotted') #convert_ts_td(tlj)\n",
    "\n",
    "\n",
    "#Boosted ireball (JetFit)\n",
    "ax1.plot(convert_ts_td(times), Fljet, label=\"JetFit\", color = 'tab:red') #convert_ts_td(tlj) Fljet*1e-6\n",
    "\n",
    "\n",
    "# Afterglowpy for every jet type\n",
    "#[ax1.plot(convert_ts_td(tl), afterglowpys[i][0], label= f\"Afterglowpy ({name_types_jets[i]})\", linestyle='dashed') for i in range(3)] #convert_ts_td(tl) #len(afterglowpys)\n",
    "#ax1.plot(convert_ts_td(tl), Fnula, label=\"Afterglowpy\") #convert_ts_td(tl)\n",
    "\n",
    "\n",
    "#Event data with its errorbars\n",
    "ax1.scatter(t_gw, Fl_gw, label = \"GW170817\", marker = '+')\n",
    "ax1.errorbar(t_gw, Fl_gw,yerr=Flerr_gw,linestyle='', color='black')\n",
    "\n",
    "#DeepGlow\n",
    "#ax1.plot(convert_ts_td(tl), Fldeep , label=\"DeepGlow\")\n",
    "\n",
    "#ax1.set_title(\"{}\".format(\",\".join(labels)))\n",
    "ax1.set(xscale='log', xlabel=r'time elapsed (d)',\n",
    "       yscale='log', ylabel=r'$F_\\nu$ (mJy)')\n",
    "#ax1.legend(bbox_to_anchor=(1.05, 1), loc='upper left')\n",
    "ax1.set_ylim(10**-4,)\n",
    "plt.subplots_adjust(right=0.85)\n",
    "fig1.savefig(\"lightcurve_comp.pdf\", bbox_inches='tight')\n",
    "\n",
    "fig1.show()\n",
    "\n",
    "# #Instructions for plotting the spectrum\n",
    "\n",
    "# fig2, ax2 = plt.subplots(1, 1)\n",
    "# [ax2.plot(nus, afterglowpys[i][1], label= f\"Afterglowpy ({name_types_jets[i]})\", linestyle='dashed') for i in range(len(afterglowpys))] #convert_ts_td(tl)\n",
    "# #ax2.plot(nus, Fnusa, label=\"Afterglowpy\")\n",
    "# ax2.plot(nus, Fnubox, label=\"BoxFit\")\n",
    "# ax2.plot(nusj, Fsjet, label=\"JetFit\")\n",
    "# ax2.set_title(\"Spectrum from different models\")\n",
    "# ax2.set(xscale='log', xlabel=r'$\\nu$ (Hz)',\n",
    "#        yscale='log', ylabel=r'$F_\\nu$ (mJy)')\n",
    "# ax2.legend()\n",
    "# fig2.savefig(\"spectrum_comp.png\")\n",
    "#fig2.show()\n",
    "\n"
   ]
  },
  {
   "cell_type": "markdown",
   "metadata": {},
   "source": [
    "### Table of the input of each model"
   ]
  },
  {
   "cell_type": "markdown",
   "metadata": {},
   "source": [
    "This table indicates the input of each model with its units (or a . when there's no unit). "
   ]
  },
  {
   "cell_type": "markdown",
   "metadata": {},
   "source": [
    "| Input Parameter | BoxFit | Afterglowpy | JetFit | JetSimpy |\n",
    "|:--------:|:--------:|:--------:| :--------:| :--------:|\n",
    "|  $\\theta_{obs}$   | . rad   | . rad  |   | . rad  |\n",
    "|  $\\theta_{j}$    | . rad   |  . rad  |   | . rad  |\n",
    "|  $\\theta_{wing}$    |    |  rad   |   |  |\n",
    "|  $n$    | . $cm^{-3}$   | . $cm^{-3}$   | . $cm^{-3}$/1 $cm^{-3}$  | . $cm^{-3}$   |\n",
    "|  $p$    |  .  |  .   | .   | .  |\n",
    "|  $E$   |     |     | . erg / 10^50   |    |\n",
    "|  $E_{iso}$   |  . erg   | . erg   |   | . erg   |\n",
    "|  $\\eta_0$   |     |    | .   |    |\n",
    "|  $\\gamma_B$    |     |    | .   |    |\n",
    "|  $\\Gamma$    |     |    |    | .  |\n",
    "|  $\\epsilon_B$   |  .  |  .   | .   | .  |\n",
    "|  $\\epsilon_E$   |  .   |  .  | .  | .  |\n",
    "|  $\\xi_N$   |  .  |  .   | .   |   |\n",
    "|  $d_L$   |  cm   |  cm   | cm  | Mpc   |\n",
    "|  $z$   |  .  |  .   | .   | .  |\n",
    "|  $b$   |    |  .   |   | .  |"
   ]
  },
  {
   "cell_type": "markdown",
   "metadata": {},
   "source": [
    "Table of the inputs of each model for generating the lightcurves above."
   ]
  },
  {
   "cell_type": "code",
   "execution_count": null,
   "metadata": {},
   "outputs": [
    {
     "name": "stdout",
     "output_type": "stream",
     "text": [
      "                                BoxFit                 Afterglowpy  \\\n",
      "theta_obs                     0.44 rad                    0.44 rad   \n",
      "theta_j                  0.0698132 rad               0.0698132 rad   \n",
      "theta_wing                                                0.88 rad   \n",
      "eta_0                                                                \n",
      "gamma_B                                                              \n",
      "lf                                                                   \n",
      "E                                                                    \n",
      "E_iso       1.0208249320351635e+53 erg  1.0208249320351635e+53 erg   \n",
      "n                           0.01 cm^-3                  0.01 cm^-3   \n",
      "p                                 2.15                        2.15   \n",
      "b                                                              4.5   \n",
      "eps_e                              0.1                         0.1   \n",
      "eps_b                            7e-06                       7e-06   \n",
      "xi_N                                 1                           1   \n",
      "d_L                         1.2e+26 cm                  1.2e+26 cm   \n",
      "z                              0.00973                     0.00973   \n",
      "\n",
      "                        JetFit                    JetSimpy  \n",
      "theta_obs                                         0.44 rad  \n",
      "theta_j                                      0.0698132 rad  \n",
      "theta_wing                                                  \n",
      "eta_0                        8                              \n",
      "gamma_B                     12                              \n",
      "lf                                                     192  \n",
      "E           2.49e+00 erg/10^50                              \n",
      "E_iso                           1.0208249320351635e+53 erg  \n",
      "n                         0.01                  0.01 cm^-3  \n",
      "p                         2.15                        2.15  \n",
      "b                                                        1  \n",
      "eps_e                      0.1                         0.1  \n",
      "eps_b                    7e-06                       7e-06  \n",
      "xi_N                         1                              \n",
      "d_L             0.012 cm/10^28                3.90e+01 Mpc  \n",
      "z                      0.00973                     0.00973  \n"
     ]
    }
   ],
   "source": [
    "import pandas as pd\n",
    "\n",
    "models = {\n",
    "    \"BoxFit\": [D['theta_obs'], D['theta_0'], '', '', '', '', '', D['E'], D['n'], D['p'], '', D['epsilon_E'], D['epsilon_B'], D['ksi_N'], D['d_L'], D['z']],\n",
    "    \"Afterglowpy\": [A['thetaObs'], A['thetaCore'], A['thetaWing'], '','', '', '', A['E0'], A['n0'], A['p'], A['b'], A['epsilon_e'], A['epsilon_B'], A['xi_N'], A['d_L'], A['z']],\n",
    "    \"JetFit\": ['', '','', J['Eta0'], J['GammaB'], '', format(J['E'],'.2e'), '', J['n'], J['p'], '', J['epse'], J['epsb'], J['xiN'], J['dL'], J['z']],\n",
    "    \"JetSimpy\": [JS['theta_v'], JS['theta_c'], '', '', '', JS['lf'], '', JS['Eiso'], JS['n0'], JS['p'], JS['b'], JS['eps_e'], JS['eps_b'], '', format(JS['d'],'.2e'), JS['z']]\n",
    "}\n",
    "\n",
    "# The format is the following:\n",
    "# \"Model\": [D['thetaObs'], D['thetaCore'], D['thetaWing'], D['Eta0'], D['GammaB'], D['E'], D['Eiso'], D['n0'], D['p'], D['b'], D['epsilon_e'], D['epsilon_B'], D['xi_N'], D['d_L'], D['z']]\n",
    "\n",
    "variables = ['theta_obs','theta_j', 'theta_wing', 'eta_0', 'gamma_B', 'lf', 'E', 'E_iso', 'n', 'p', 'b', 'eps_e', 'eps_b', 'xi_N', 'd_L', 'z']\n",
    "\n",
    "variables_unit_B = [' rad', ' rad', '', '', '', '','', ' erg', ' cm^-3', '', '', '', '', '', ' cm', '']\n",
    "variables_unit_A = [' rad', ' rad', ' rad', '', '', '','', ' erg', ' cm^-3', '', '', '', '', '', ' cm', '']\n",
    "variables_unit_J = ['', '', '', '', '', '',' erg/10^50', '', '', '', '', '', '', '', ' cm/10^28', '']\n",
    "variables_unit_JS = [' rad', ' rad', '', '', '', '', '',' erg', ' cm^-3', '', '', '', '', '', ' Mpc', '']\n",
    "\n",
    "df = pd.DataFrame(models, variables)\n",
    "df['BoxFit'] = df['BoxFit'].astype(str) + variables_unit_B\n",
    "df['Afterglowpy'] = df['Afterglowpy'].astype(str) + variables_unit_A\n",
    "df['JetFit'] = df['JetFit'].astype(str) + variables_unit_J\n",
    "df['JetSimpy'] = df['JetSimpy'].astype(str) + variables_unit_JS\n",
    "\n",
    "print(df)"
   ]
  },
  {
   "cell_type": "markdown",
   "metadata": {},
   "source": [
    "### Attempt to verify that only the ratio $\\theta_{obs}$/$\\theta_j$ is constrained"
   ]
  },
  {
   "cell_type": "code",
   "execution_count": null,
   "metadata": {},
   "outputs": [],
   "source": [
    "def time_flux_peaks(Fnu, t):\n",
    "    \n",
    "    Fnu_peak = np.max(Fnu)\n",
    "    t_peak = t[np.argmax(Fnu)]\n",
    "\n",
    "    return Fnu_peak, t_peak"
   ]
  },
  {
   "cell_type": "code",
   "execution_count": null,
   "metadata": {},
   "outputs": [
    {
     "name": "stdout",
     "output_type": "stream",
     "text": [
      "8.164637406157533\n"
     ]
    }
   ],
   "source": [
    "import random\n",
    "\n",
    "print(np.random.uniform(1,10))\n",
    "#Rescaling as in Nakar\n",
    "\n",
    "def rescaling( theta_obs, theta_0,E, n, epse, nu, d_L,p, Fl, t, ): #maybe change this with **kwargs but beware that not all dictionnaries have the same key name for the same physical variable (or the same scale, check jetfit)\n",
    "\n",
    "    #Get the old ratio, should be constrained between 10 and 3\n",
    "    ratio = theta_obs/theta_0\n",
    "    print('The ratio is', ratio)\n",
    "\n",
    "    #Get the new angle values with the same ratio, theta_obs contrained between 0 and 1.57, theta_0 between 0.045 and 0.5, wrote a statement in case out of bounds\n",
    "    theta_obs_re = np.random.uniform(0.045*ratio,1.57)\n",
    "    theta_0_re = theta_obs_re/ratio\n",
    "\n",
    "    if theta_0_re > 0.5 or theta_0_re < 0.045:\n",
    "        print('Random theta j out of bounds for this ratio and theta obs', theta_0_re)\n",
    "\n",
    "    #Get the previous t_peak and f_peak\n",
    "    Fl_peak, t_peak = time_flux_peaks(Fl, t)\n",
    "\n",
    "    #Get the new t_peak and F_peak\n",
    "    n_re = (((theta_obs_re - theta_0_re)**2*E**(1/3))/t_peak)**(1/3)\n",
    "    epsb_re = ((Fl_peak)/E*(n**(p+1/4))*(epse**(p-1))*(theta_obs**(-2*p))*(nu**(-(p-1)/2))*(d_L**-2))**(4/p+1)\n",
    "\n",
    "    #Calculate the \n",
    "    return theta_obs_re, theta_0_re, epsb_re, n_re"
   ]
  },
  {
   "cell_type": "code",
   "execution_count": null,
   "metadata": {},
   "outputs": [
    {
     "ename": "NameError",
     "evalue": "name 'time_box' is not defined",
     "output_type": "error",
     "traceback": [
      "\u001b[0;31m---------------------------------------------------------------------------\u001b[0m",
      "\u001b[0;31mNameError\u001b[0m                                 Traceback (most recent call last)",
      "Cell \u001b[0;32mIn[43], line 1\u001b[0m\n\u001b[0;32m----> 1\u001b[0m rescaling(D[\u001b[38;5;124m'\u001b[39m\u001b[38;5;124mtheta_obs\u001b[39m\u001b[38;5;124m'\u001b[39m], D[\u001b[38;5;124m'\u001b[39m\u001b[38;5;124mtheta_0\u001b[39m\u001b[38;5;124m'\u001b[39m], D[\u001b[38;5;124m'\u001b[39m\u001b[38;5;124mE\u001b[39m\u001b[38;5;124m'\u001b[39m], D[\u001b[38;5;124m'\u001b[39m\u001b[38;5;124mn\u001b[39m\u001b[38;5;124m'\u001b[39m], D[\u001b[38;5;124m'\u001b[39m\u001b[38;5;124mepsilon_E\u001b[39m\u001b[38;5;124m'\u001b[39m], freqs[\u001b[38;5;241m0\u001b[39m], D[\u001b[38;5;124m'\u001b[39m\u001b[38;5;124md_L\u001b[39m\u001b[38;5;124m'\u001b[39m], D[\u001b[38;5;124m'\u001b[39m\u001b[38;5;124mp\u001b[39m\u001b[38;5;124m'\u001b[39m], Fl_box, \u001b[43mtime_box\u001b[49m)\n",
      "\u001b[0;31mNameError\u001b[0m: name 'time_box' is not defined"
     ]
    }
   ],
   "source": [
    "rescaling(D['theta_obs'], D['theta_0'], D['E'], D['n'], D['epsilon_E'], freqs[0], D['d_L'], D['p'], Fl_box, time_box)"
   ]
  },
  {
   "cell_type": "markdown",
   "metadata": {},
   "source": [
    "### Attempt to calculate the flux peak for every model"
   ]
  },
  {
   "cell_type": "code",
   "execution_count": null,
   "metadata": {},
   "outputs": [
    {
     "name": "stdout",
     "output_type": "stream",
     "text": [
      "0.10460664450890762\n",
      "3.871036958265211e-07 3.7005650801996416e-06\n"
     ]
    }
   ],
   "source": [
    "# Variables\n",
    "E = B['E']\n",
    "n = B['n']\n",
    "p = B['p']\n",
    "eps_e = B['epsilon_E']\n",
    "eps_B = B['epsilon_B']\n",
    "d = B['d_L']\n",
    "nu = nul[0]\n",
    "theta_obs = B['theta_0']\n",
    "\n",
    "def flux_peak(F):\n",
    "    actual_peak = np.amax(F)\n",
    "    flux_peak = E*np.power(n,(p+1)/4)*np.power(eps_e,p-1)*np.power(eps_B,(p+1)/4)*np.power(theta_obs,-2*p)*np.power(nu,-(p-1)/2)*np.power(d,-2)\n",
    "    constant = flux_peak/actual_peak\n",
    "    return flux_peak, constant\n",
    "\n",
    "#flux_peak, constant = flux_peak(Flbox)\n",
    "#print(flux_peak, constant)\n",
    "\n",
    "print(np.amax(Fljet))\n",
    "abcdefg, hijklmn = flux_peak(Fljet)\n",
    "#print(flux_peak_jet, constant_jet)\n",
    "print(abcdefg, hijklmn)"
   ]
  },
  {
   "cell_type": "markdown",
   "metadata": {},
   "source": [
    "## Plotting E($\\theta$) for every jet structure"
   ]
  },
  {
   "cell_type": "code",
   "execution_count": null,
   "metadata": {},
   "outputs": [],
   "source": [
    "def convert_deg_to_rad(deg):\n",
    "    return deg*np.pi/180"
   ]
  },
  {
   "cell_type": "code",
   "execution_count": null,
   "metadata": {},
   "outputs": [],
   "source": [
    "def convert_rad_to_deg(rad):\n",
    "    return rad*180/np.pi"
   ]
  },
  {
   "cell_type": "code",
   "execution_count": null,
   "metadata": {},
   "outputs": [
    {
     "data": {
      "text/plain": [
       "0.17453292519943295"
      ]
     },
     "execution_count": 45,
     "metadata": {},
     "output_type": "execute_result"
    }
   ],
   "source": [
    "convert_deg_to_rad(10)"
   ]
  },
  {
   "cell_type": "code",
   "execution_count": null,
   "metadata": {},
   "outputs": [],
   "source": [
    "thetalinsp = np.linspace(0, 0.6981317007977318, 1000)\n",
    "\n",
    "# Fetching the variables\n",
    "\n",
    "theta_c = 0.0698132 # 10 degrees 0.17453292519943295\n",
    "b = A['b']\n",
    "E_iso = B['E']\n",
    "gb = J['GammaB']\n",
    "e0 = J['Eta0']\n",
    "c = 3*10**8 #speed of light in vacuum \n",
    "\n",
    "# Top Hat\n",
    "E_th = np.heaviside(-thetalinsp+theta_c,thetalinsp[999]- theta_c) # Using the heaviside funcion that is 0 for x < 0 and 1 for x > 1 with x running from 1 to -9 to get only a small potion that is = 1 with sharp edges\n",
    "\n",
    "# Gaussian\n",
    "E_g = np.exp(-0.5*(thetalinsp/theta_c)**2) \n",
    "\n",
    "# Power-Law\n",
    "E_pl = ( 1 + (1/b)*(thetalinsp/theta_c)**2 )**(-b/2)\n",
    "\n",
    "# Boosted Fireball\n",
    "v0 = np.sqrt(1 - 1/e0**2)\n",
    "vb = np.sqrt(1 - 1/gb**2) \n",
    "sin_fact = gb*vb*np.sin(thetalinsp)\n",
    "gamma_max_0 = gb*(e0 + vb*e0*v0)\n",
    "gamma_max = gb*(e0 + vb*np.cos(thetalinsp))*np.sqrt((e0*v0)**2 - sin_fact**2)/(1 + sin_fact**2)\n",
    "E_bf = (gamma_max/gamma_max_0)**3\n"
   ]
  },
  {
   "cell_type": "code",
   "execution_count": null,
   "metadata": {},
   "outputs": [],
   "source": [
    "def normalize_E(E):\n",
    "    return E/E[0]"
   ]
  },
  {
   "cell_type": "code",
   "execution_count": null,
   "metadata": {},
   "outputs": [
    {
     "data": {
      "image/png": "[encoded data removed]",
      "text/plain": [
       "<Figure size 640x480 with 1 Axes>"
      ]
     },
     "metadata": {},
     "output_type": "display_data"
    }
   ],
   "source": [
    "fig3, ax3 = plt.subplots(1, 1)\n",
    "plt.rcParams.update({'font.size': 15})\n",
    "ax3.plot(convert_rad_to_deg(thetalinsp), E_th, label=\"Top Hat\")\n",
    "ax3.plot(convert_rad_to_deg(thetalinsp), E_g, label=\"Gaussian\") \n",
    "ax3.plot(convert_rad_to_deg(thetalinsp), E_pl, label=\"Power-Law\") \n",
    "ax3.plot(convert_rad_to_deg(thetalinsp), normalize_E(E_bf), label=\"Boosted Fireball\") \n",
    "ax3.set_xlim(0,30)\n",
    "ax3.set_ylim(0,)\n",
    "#ax3.set_title(\"Energy per angle of structured jets\")\n",
    "ax3.set(xlabel=r'$\\theta$ (deg)', ylabel=r'$E$ ($E_0$)')\n",
    "ax3.legend()\n",
    "plt.tight_layout()\n",
    "fig3.savefig(\"profiles.png\")"
   ]
  }
 ],
 "metadata": {
  "kernelspec": {
   "display_name": "JetFit",
   "language": "python",
   "name": "python3"
  },
  "language_info": {
   "codemirror_mode": {
    "name": "ipython",
    "version": 3
   },
   "file_extension": ".py",
   "mimetype": "text/x-python",
   "name": "python",
   "nbconvert_exporter": "python",
   "pygments_lexer": "ipython3",
   "version": "3.12.2"
  }
 },
 "nbformat": 4,
 "nbformat_minor": 2
}
