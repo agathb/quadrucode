{
 "cells": [
  {
   "cell_type": "code",
   "execution_count": 1,
   "metadata": {},
   "outputs": [],
   "source": [
    "import numpy as np\n",
    "import pandas as pd\n",
    "import matplotlib.pyplot as plt"
   ]
  },
  {
   "cell_type": "code",
   "execution_count": 2,
   "metadata": {},
   "outputs": [],
   "source": [
    "import subprocess\n",
    "import os\n",
    "import sys"
   ]
  },
  {
   "cell_type": "code",
   "execution_count": 3,
   "metadata": {},
   "outputs": [],
   "source": [
    "# Defining the current directory here for the rest of the code to get the proper paths\n",
    "current_directory = os.getcwd()"
   ]
  },
  {
   "cell_type": "code",
   "execution_count": 4,
   "metadata": {},
   "outputs": [],
   "source": [
    "# Dictionnary containing all the parameters, all models will read of of this dictionnary\n",
    "\n",
    "D = {\n",
    "  # Lightcurve and spectrum settings\n",
    "  'nu_0'     : 3e9,   # Lowest frequency for spectrum, frequency for light curve (Hz)\n",
    "  'nu_1'     : 1e21,  # Highest frequency for spectrum (Hz)\n",
    "  't_0'      : 1.7e5, # Earliest time for light curve, time for spectrum (s)\n",
    "  't_1'      : 9.5e7, # Latest time for light curve (s)\n",
    "  'no_points': 100,   # Number of data points in the light curve / spectrum\n",
    "\n",
    "  # Jet parameters\n",
    "  'E'        : 1.03e+53, # Isotropic equivalent energy (erg)\n",
    "  'n'        : 1e-2,                   # Constant circumburst number density (cm^-3)\n",
    "  'theta_0'  : 0.0698132,              # Jet half opening angle (radians)\n",
    "  'theta_obs': 0.44,                   # Observer angle (rad)\n",
    "  #'theta_wing': 4*0.0698132,             # Outer truncation angle (rad) \n",
    "  'b'        : 6,                    # Power for power-law structure theta**(-b/2)\n",
    "  \n",
    "  # Interstellar Medium\n",
    "  'd_L': 1.2e26,  # Observer luminosity distance (cm)\n",
    "  'z'  : 0.00973, # Redshift\n",
    "  'k'  : 0,       # Wind power index\n",
    "  'A'  : 0,       # Wind amplitude\n",
    "\n",
    "  # Shock microphysical parameters\n",
    "  'epsilon_B': 7e-6, # Magnetic field energy fraction\n",
    "  'epsilon_E': 1e-1, # Accelerated particle energy density fraction\n",
    "  'ksi_N'    : 1,    # Accelerated particle number density fraction\n",
    "  'p'        : 2.15, # Synchrotron electron power law index\n",
    "  \n",
    "  # Boxfit specific parameters and resolution settings, see BoxFit userguide for complete description\n",
    "  'what_to_do'     : 1,         # 1 to create light curve with observer frequency nu_0 and 2 to create spectrum at time t_0\n",
    "  'eds_r_res'      : 500,       # Number of rays in EDS r direction\n",
    "  'eds_phi_res'    : 100,        # Number of rays in EDS phi direction\n",
    "  'fluid_res'      : 1000,       # How many time 'snapshots' are used\n",
    "  'jet'            : 'forward', # Which jets to compute, use 'forward', 'both' or 'receding'\n",
    "  'self_absorption': 1,         # 1 to enable synchrotron self-absorption and 0 to disable it\n",
    "\n",
    "  #JetFit and JetSimpy parameters\n",
    "  'Eta0'  : 8,   # Specific internal energy, approximately E/M\n",
    "  'GammaB': 12,  # Bulk Lorentz factor\n",
    "  'lf'    : 300, # Lorentz factor\n",
    "\n",
    "    }"
   ]
  },
  {
   "cell_type": "code",
   "execution_count": 5,
   "metadata": {},
   "outputs": [],
   "source": [
    "# Boundaries for time and frequency from the D dictionnary\n",
    "t_min = D['t_0']\n",
    "t_max = D['t_1']\n",
    "\n",
    "nu_min = D['nu_0']\n",
    "nu_max = D['nu_1']\n",
    "\n",
    "points = int(D['no_points'])"
   ]
  },
  {
   "cell_type": "code",
   "execution_count": 6,
   "metadata": {},
   "outputs": [],
   "source": [
    "#The arrays for times and frequencies\n",
    "times = np.geomspace(t_min, t_max, points)\n",
    "freqs = np.geomspace(nu_min, nu_max, points)\n",
    "\n",
    "freq = np.ones(freqs.shape)*nu_min\n",
    "time = np.ones(times.shape)*t_min"
   ]
  },
  {
   "cell_type": "code",
   "execution_count": 7,
   "metadata": {},
   "outputs": [],
   "source": [
    "#Converts E to Eiso\n",
    "def convert_E_Eiso(E,theta): \n",
    "    Eiso = E/(1-np.cos(theta))  #Theta being the opening angle of the jet\n",
    "    return Eiso "
   ]
  },
  {
   "cell_type": "code",
   "execution_count": 8,
   "metadata": {},
   "outputs": [],
   "source": [
    "#Converts Eiso to E\n",
    "def convert_Eiso_E(Eiso,theta): \n",
    "    E = Eiso*(1-np.cos(theta)) #Theta being the opening angle of the jet\n",
    "    return E "
   ]
  },
  {
   "cell_type": "code",
   "execution_count": 9,
   "metadata": {},
   "outputs": [],
   "source": [
    "#Converts time in s to time in days\n",
    "def convert_ts_td(t): \n",
    "    return t/(60*60*24)"
   ]
  },
  {
   "cell_type": "code",
   "execution_count": 10,
   "metadata": {},
   "outputs": [],
   "source": [
    "#Calculate the lorentz factor \n",
    "def calc_lf(eta_0, gamma_B): \n",
    "    gamma = 2*eta_0*gamma_B\n",
    "    return gamma"
   ]
  },
  {
   "cell_type": "markdown",
   "metadata": {},
   "source": [
    "# BoxFit"
   ]
  },
  {
   "cell_type": "code",
   "execution_count": 11,
   "metadata": {},
   "outputs": [],
   "source": [
    "# Function to read BoxFIt output from a .txt file \n",
    "def case_read(): \n",
    "\n",
    "    # Importing the file\n",
    "    lightcurve_box = os.path.join(current_directory, 'boxfitcode', 'lightcurve.txt')        #For the lightcurve\n",
    "    #spectrum_box  = os.path.join(current_directory, 'boxfitcode', 'spectrum.txt')          #For the spectrum\n",
    "\n",
    "    # Initializing the lists\n",
    "    tbox, nubox, Flbox, Fnubox = [], [], [], []\n",
    "\n",
    "    # lightcurve = true when getting the lightcurve data, lightcurve = false for the spectrum\n",
    "    def read_data_box(f, lightcurve = True): \n",
    "        #Dummy index\n",
    "        i = 0\n",
    "\n",
    "        #Loop on the line\n",
    "        for line in f: \n",
    "\n",
    "            #Ignore line if it's a comment\n",
    "            if line.startswith('#'): \n",
    "                i = i + 1\n",
    "                continue  # The loop restarts\n",
    "        \n",
    "            #Split line into columns and remove the commas\n",
    "            columns = line.strip().replace(',','').split()\n",
    "\n",
    "            #Add data to lists\n",
    "            tbox.append(float(columns[1]))\n",
    "            nubox.append(float(columns[2])) \n",
    "\n",
    "            if lightcurve == True:\n",
    "                Flbox.append(float(columns[3]))\n",
    "            else: \n",
    "                Fnubox.append(float(columns[3]))\n",
    "                \n",
    "            \n",
    "    with open(lightcurve_box, 'r') as f1: \n",
    "        read_data_box(f1, lightcurve=True)  # Getting the lightcurve\n",
    "\n",
    "    # with open(spectrum_box, 'r') as f2: \n",
    "    #     read_data_box(f2,lightcurve=False)  # Getting the spectrum\n",
    "\n",
    "    # Convert lists to arrays\n",
    "    tbox    = np.array(tbox)\n",
    "    nubox   = np.array(nubox)\n",
    "    #Fnubox = np.array(Fnubox)\n",
    "    Flbox   = np.array(Flbox)\n",
    "\n",
    "    return tbox, nubox, Flbox\n"
   ]
  },
  {
   "cell_type": "code",
   "execution_count": 12,
   "metadata": {},
   "outputs": [
    {
     "name": "stdout",
     "output_type": "stream",
     "text": [
      "2\n"
     ]
    }
   ],
   "source": [
    "value = int(input(\"Enter 1 to run boxfit and 2 to read boxfit output file\"))\n",
    "print(value)"
   ]
  },
  {
   "cell_type": "code",
   "execution_count": 13,
   "metadata": {},
   "outputs": [
    {
     "name": "stdout",
     "output_type": "stream",
     "text": [
      "You have chosen to read boxfit output, please make sure the lightcurve.txt file is in the boxfitcode folder.\n"
     ]
    }
   ],
   "source": [
    "# A switch to know whether the user would rather run or read BoxFit based on the input value\n",
    "\n",
    "match value: \n",
    "\n",
    "    case 1: \n",
    "        print(\"You have chosen to run boxfit here, please wait until the program is completed.\")\n",
    "\n",
    "        # Importing the paths \n",
    "        boxfitcode_dir = 'boxfitcode'\n",
    "        settings = 'boxfitsettings.txt'\n",
    "        \n",
    "        # Changing the directory to run boxfit in boxfitcode folder\n",
    "        os.chdir(boxfitcode_dir)\n",
    "\n",
    "        # Read the content of boxfitsettings.txt\n",
    "        with open(settings, 'r') as file: \n",
    "            settings_content = file.readlines()\n",
    "\n",
    "            # Modify some lines according to the D disctionary\n",
    "            for index, line in enumerate(settings_content): \n",
    "\n",
    "                # Check if line is not an overall comment, has an equal and a comment to describe the parameter\n",
    "                if not line.strip().startswith('!') and '=' in line and '!' in line: \n",
    "                    keyval_extra = line.strip().split('!')                          #Split the key and value from the comment using the !\n",
    "                    key_value    = keyval_extra[0].split('=')                       #Split the key from the value using the = \n",
    "                    key          = key_value[0].strip()              #Store them\n",
    "                    value        = key_value[1].strip()\n",
    "\n",
    "                    # If the key is also in D, update the key with the new value from the D dictionary\n",
    "                    if key in D: \n",
    "                        value                   = D[key]\n",
    "                        comment                 = keyval_extra[1]\n",
    "                        settings_content[index] = f\"{key} = {value} !{comment}\\n\"\n",
    "\n",
    "        # Write down the new lines in the settings file \n",
    "        with open(settings, 'w') as file: \n",
    "            file.writelines(settings_content)\n",
    "\n",
    "\n",
    "        # Importing the path of the BoxFit executable \n",
    "        executable = './boxfit'\n",
    "\n",
    "        # Run BoxFit with the shell, using the new boxfitsettings parameter file and saving the output in a list\n",
    "        with subprocess.Popen([executable, settings], stdout=subprocess.PIPE, text=True) as process: \n",
    "            output_boxfit = []\n",
    "            for line in process.stdout: \n",
    "                sys.stdout.write(line)      # Print the output to see the progression\n",
    "                output_boxfit.append(line)  # Store the output\n",
    "                \n",
    "        # Saving BoxFit's output as three lists: time, frequency and flux\n",
    "        times_box, freq_box, Fl_box = [], [], []\n",
    "\n",
    "        for line in output_boxfit   : \n",
    "            if  not line.startswith('#'): # Check if line is not a comment\n",
    "                output_list = line.strip().split(',')  # Split the output into the values for time, frequency and flux using the comma\n",
    "                times_box.append(float(output_list[1]))\n",
    "                freq_box.append(float(output_list[2]))\n",
    "                Fl_box.append(float(output_list[3]))\n",
    "\n",
    "        # Convert lists to arrays\n",
    "        times_box = np.array(times_box)\n",
    "        freq_box  = np.array(freq_box)\n",
    "        Fl_box    = np.array(Fl_box)\n",
    "\n",
    "        os.chdir(current_directory)\n",
    "\n",
    "    case 2: \n",
    "        print(\"You have chosen to read boxfit output, please make sure the lightcurve.txt file is in the boxfitcode folder.\")\n",
    "\n",
    "        times_box, freq_box, Fl_box = case_read()\n",
    "\n",
    "\n",
    "    case _: \n",
    "        print(\"Please select either 1 to run BoxFit or 2 to read BoxFit output file.\")"
   ]
  },
  {
   "cell_type": "markdown",
   "metadata": {},
   "source": [
    "# Afterglowpy"
   ]
  },
  {
   "cell_type": "code",
   "execution_count": 14,
   "metadata": {},
   "outputs": [],
   "source": [
    "import afterglowpy as grb"
   ]
  },
  {
   "cell_type": "code",
   "execution_count": 37,
   "metadata": {},
   "outputs": [],
   "source": [
    "#Afterglowpy dictionary contining the specifics of the jet and environment parameters\n",
    "A = {'jetType':     grb.jet.TopHat, # Top-Hat jet\n",
    "     'specType' : 0,                # Basic Synchrotron Spectrum\n",
    "     'thetaWing': 4*D['theta_0'], # Outer truncation angle \n",
    "     'thetaObs' : D['theta_obs'],   # Viewing angle in radians\n",
    "     'E0'       : D['E'],           # Isotropic-equivalent energy in erg\n",
    "     'thetaCore': D['theta_0'],     # Half-opening angle in radians\n",
    "     'n0'       : D['n'],           # circumburst density in cm^{-3}\n",
    "     'p'        : D['p'],           # electron energy distribution index\n",
    "     'epsilon_e': D['epsilon_E'],   # epsilon_e\n",
    "     'epsilon_B': D['epsilon_B'],   # epsilon_B\n",
    "     'xi_N'     : D['ksi_N'],       # Fraction of electrons accelerated\n",
    "     'd_L'      : D['d_L'],         # Luminosity distance in cm (40Mpc)\n",
    "     'z'        : D['z'],           # redshift\n",
    "     'b'        : D['b']            # power for power-law structure theta**(-b)\n",
    "     }                \n"
   ]
  },
  {
   "cell_type": "code",
   "execution_count": 38,
   "metadata": {},
   "outputs": [],
   "source": [
    "# Function to calculate the fluxes with afterglowpy\n",
    "def light_curve_afterglowpy(A):     \n",
    "    Fl_a = grb.fluxDensity(times, freq, **A)   # For the lightcurve\n",
    "    return Fl_a"
   ]
  },
  {
   "cell_type": "code",
   "execution_count": 39,
   "metadata": {},
   "outputs": [],
   "source": [
    "# Get multiple types of jets and their labels from Afterglowpy \n",
    "types_jets = [grb.jet.TopHat, grb.jet.Gaussian, grb.jet.PowerLaw]\n",
    "name_types_jets = ['TopHat', 'Gaussian', 'PowerLaw',]\n",
    "\n",
    "# Loop and store the fluxes for each jet\n",
    "afterglowpys = [light_curve_afterglowpy(A) for A['jetType'] in types_jets]"
   ]
  },
  {
   "cell_type": "markdown",
   "metadata": {},
   "source": [
    "# JetFit"
   ]
  },
  {
   "cell_type": "code",
   "execution_count": 40,
   "metadata": {},
   "outputs": [],
   "source": [
    "# Get the path of JetFit's classes\n",
    "jetfitcode_path = os.path.join(current_directory, 'jetfitcode')\n",
    "sys.path.append(jetfitcode_path)\n",
    "\n",
    "from FitterClass import *\n",
    "from FluxGeneratorClass import *\n",
    "from collections import defaultdict"
   ]
  },
  {
   "cell_type": "code",
   "execution_count": 41,
   "metadata": {},
   "outputs": [],
   "source": [
    "# Importing the precomputed fluxes of JetFit for interpolation\n",
    "Table = os.path.join(jetfitcode_path, 'Table.h5') "
   ]
  },
  {
   "cell_type": "code",
   "execution_count": 42,
   "metadata": {},
   "outputs": [],
   "source": [
    "# Function that removes the logscales\n",
    "def Log2Linear(Log, Info):\n",
    "    Linear = {} # Defined as a dictionary\n",
    "    for i, key in enumerate(Info['Fit']):           # Going through all the parameters\n",
    "        if key in Info['Log']:                      # If it is in logscale, then use the exponential or 10^X\n",
    "            if Info['LogType'] == 'Log10':\n",
    "                Linear[key] = np.power(10.,Log[key])\n",
    "            else:\n",
    "                Linear[key] = np.exp(Log[key])\n",
    "        else:\n",
    "            Linear[key] = Log[key]\n",
    "    return Linear\n"
   ]
  },
  {
   "cell_type": "code",
   "execution_count": 43,
   "metadata": {},
   "outputs": [],
   "source": [
    "#Calculates the range for the observing time with respect to the bounds of tau for JetFit\n",
    "def range_time_tau(J): \n",
    "    \n",
    "    #The range and formula from the paper\n",
    "    tau_min = 8.64e2\n",
    "    tau_max = 8.64e7\n",
    "    scale   = (1. + J['z'])*(J['E']/J['n'])**(1./3.)\n",
    "    ti      = tau_min*scale\n",
    "    tf      = tau_max*scale\n",
    "\n",
    "    print('The time range allowed by tau is: [',\"{:e}\".format(ti),',',\"{:e}\".format(tf),']')\n",
    "\n",
    "    if t_min < ti: \n",
    "        print('The lower boundary is out of bounds:', \"{:e}\".format(t_min), 'is lower than', \"{:e}\".format(ti))\n",
    "    elif t_max > tf: \n",
    "        print('The upper boundary is out of bounds:', \"{:e}\".format(t_max),'is higher than', \"{:e}\".format(tf))\n",
    "    else: \n",
    "        print('The values are within the time range.')\n",
    "    return ti, tf"
   ]
  },
  {
   "cell_type": "code",
   "execution_count": 44,
   "metadata": {},
   "outputs": [],
   "source": [
    "# Function to calculate the flux with JetFit for light-curves\n",
    "def light_curve_jetfit(P): \n",
    "    # Call to the function to know if we are in the domain of validity of JetFit\n",
    "    ti, tf = range_time_tau(P)\n",
    "    \n",
    "    flux_jet = np.asarray(FluxGenerator.GetSpectral(times, freq, P))\n",
    "\n",
    "    return flux_jet"
   ]
  },
  {
   "cell_type": "code",
   "execution_count": 45,
   "metadata": {},
   "outputs": [
    {
     "name": "stdout",
     "output_type": "stream",
     "text": [
      "The time range allowed by tau is: [ 5.502427e+03 , 5.502427e+08 ]\n",
      "The values are within the time range.\n"
     ]
    }
   ],
   "source": [
    "#JetFit informations\n",
    "Info = {\n",
    "    'Fit'          : np.array(['E', 'Eta0', 'GammaB','theta_obs','epsb','epse','n','p','z','xiN','dL','theta_obs']),          # Fitting parameters (Parameter names see P dictionary below)\n",
    "    'Log'          : np.array([]),                                                                                            # Set parameters in log scale 'E', 'n', 'epse', 'epsb' (mesured in log for mcmc analysis)\n",
    "    'LogType'      : 'Log10',                                                                                                 # Log scale type                 : Log10 or Log\n",
    "    'ThetaObsPrior': 'Sine',                                                                                                  # Prior for observation angle    : Sine or Uniform\n",
    "    'FluxType'     : 'Spectral'                                                                                  # Flux type: Spectral or Integrated\n",
    "}\n",
    "\n",
    "#JetFit bounds for parameters in linear scale\n",
    "FitBound = {\n",
    "    'E'        : np.array([1e-6, 1e3]),\n",
    "    'n'        : np.array([1e-6, 1e3]),\n",
    "    'Eta0'     : np.array([2.,10.]),\n",
    "    'GammaB'   : np.array([1.,12.]),\n",
    "    'theta_obs': np.array([0.,1.]),\n",
    "    'epse'     : np.array([1e-6,1.]),\n",
    "    'epsb'     : np.array([1e-6,1.]),\n",
    "    'p'        : np.array([2.,4.])\n",
    "}\n",
    "\n",
    "\n",
    "Explore = False # For non-fiting parameters, P set default values.\n",
    "\n",
    "#JetFit dict\n",
    "J = {\n",
    "    'E'        : convert_Eiso_E(D['E'],D['theta_0'])/10**50, # Jet energy/10^50 (erg)\n",
    "    'Eta0'     : D['Eta0'],                                  # Specific internal energy, approximately E/M\n",
    "    'GammaB'   : D['GammaB'],                                # Bulk Lorentz factor\n",
    "    'dL'       : D['d_L']/10**28,                            # Observer luminosity distance/10^28 (cm)\n",
    "    'epsb'     : D['epsilon_B'],                             # Magnetic field energy fraction\n",
    "    'epse'     : D['epsilon_E'],                             # Accelerated particle energy density fraction\n",
    "    'n'        : D['n'],                                     # Constant circumburst number density (unitless because cm^{-3}/1cm^{-3})\n",
    "    'p'        : D['p'],                                     # Synchrotron electron power law index\n",
    "    'theta_obs': D['theta_obs'],                             # Observer angle (rad)\n",
    "    'xiN'      : D['ksi_N'],                                 # Accelerated particle number density fraction\n",
    "    'z'        : D['z']                                      # Redshift\n",
    "}\n",
    "\n",
    "#Transform the log variables from the P dictionnary to linear ones\n",
    "J = Log2Linear(J,Info)\n",
    "\n",
    "#Create FluxGeneratorClass based on the given table\n",
    "FluxGenerator = FluxGeneratorClass(Table)\n",
    "\n",
    "#Get the lightcurve from the function for JetFit\n",
    "Fljet = light_curve_jetfit(J)"
   ]
  },
  {
   "cell_type": "markdown",
   "metadata": {},
   "source": [
    "# JetSimpy"
   ]
  },
  {
   "cell_type": "code",
   "execution_count": 46,
   "metadata": {},
   "outputs": [],
   "source": [
    "import jetsimpy"
   ]
  },
  {
   "cell_type": "code",
   "execution_count": 47,
   "metadata": {},
   "outputs": [],
   "source": [
    "JS = dict(\n",
    "    Eiso = D['E'],                          # (Jet) Isotropic equivalent energy\n",
    "    lf = D['lf'],   # (Jet) Lorentz factor: set to 10e100 to disable coasting\n",
    "    theta_c = D['theta_0'],                 # (Jet) half opening angle\n",
    "    n0 = D['n'],                            # (ISM) constant number density\n",
    "    k = D['k'],                             # (ISM) wind power index\n",
    "    A = D['A'],                             # (ISM) wind amplitude\n",
    "    eps_e = D['epsilon_E'],                 # (Radiation) epsilon_e\n",
    "    eps_b = D['epsilon_B'],                 # (Radiation) epsilon_b\n",
    "    p = D['p'],                             # (Radiation) electron power index\n",
    "    theta_v = D['theta_obs'],               # (Radiation) viewing angle\n",
    "    d = D['d_L']/3.08e24,                   # (radiation) distance (Mpc)\n",
    "    z = D['z'],                             # (radiation) redshift\n",
    "    b = 1,                                  # (radiation) magnetic field anisotropy\n",
    ")"
   ]
  },
  {
   "cell_type": "code",
   "execution_count": 48,
   "metadata": {},
   "outputs": [],
   "source": [
    "# Function to calculate the flux with JetSimpy for light-curves\n",
    "def flux_jetsimpy(jet_type):\n",
    "\n",
    "    # jet with spreading (show full argument and keyword list)\n",
    "    jet = jetsimpy.Jet(\n",
    "        jet_type,                       # [tuple of tabulated data]: (polar angles, rest mass excluded energy, Lorentz factor)\n",
    "        JS['A'],                         # [wind density scale]: n = nwind * (r / 1e17)^-2 + nism (cm^-3)\n",
    "        JS['n0'],                         # [ism density scale]: n = nwind * (r / 1e17)^-2 + nism (cm^-3)\n",
    "        tmin=10,                          # [simulation start time]: (s)\n",
    "        tmax=3.2e9,                     # [simulation end time]: (s)\n",
    "        grid=jetsimpy.NorthPole(JS['theta_c'], 129),    # [cell edge angles]: must start with 0 and end with pi.\n",
    "        tail=True,                      # [isotropic tail]: add an extremely low energy low velocity isotropic tail for safty\n",
    "        spread=True,                    # w/wo spreading effect \n",
    "        cal_level=1,                    # [calibration level]: 0: no calibration. 1: BM all time. 2: smoothly go from BM to ST (dangerous)\n",
    "        rtol=1e-6,                      # [primitive variable solver tolerance]: Don't change it unless you know what is going on.\n",
    "        cfl=0.9,                        # [cfl number]: Don't change it unless you know what is going on.\n",
    "    )\n",
    "    # calculate the afterglow flux density (unit: mJy)\n",
    "    Fl_js = jet.FluxDensity(\n",
    "        times,                 # [second] observing time span\n",
    "        freq,                # [Hz] observing frequency\n",
    "        JS,                 # parameter dictionary for radiation\n",
    "        rtol  = 1e-2,   # (default=1e-2) integration error tolerance\n",
    "        model = \"sync\", # default radiation model\n",
    "    )\n",
    "    return Fl_js"
   ]
  },
  {
   "cell_type": "code",
   "execution_count": 49,
   "metadata": {},
   "outputs": [],
   "source": [
    "#Theta Linspace\n",
    "theta = np.linspace(0, np.pi, 1000) \n",
    "\n",
    "#Constructing the Eiso Power-Law linspace\n",
    "theta_c = JS['theta_c']\n",
    "b = D['b']\n",
    "E_0 = JS['Eiso']\n",
    "lf0 = JS['lf']\n",
    "\n",
    "Eiso_pl = E_0*( 1 + (1/b)*(theta/theta_c)**2 )**(-b/2)\n",
    "\n",
    "# Lorentz fator\n",
    "lf = (JS['lf'] - 1) *( 1 + (1/b)*(theta/theta_c)**2 )**(-b/2) + 1"
   ]
  },
  {
   "cell_type": "code",
   "execution_count": 50,
   "metadata": {},
   "outputs": [],
   "source": [
    "# Get multiple types of jets and their labels from JetSimpy \n",
    "jet_types = [jetsimpy.TopHat(D[\"theta_0\"], D[\"E\"], lf0=JS[\"lf\"]), \n",
    "            jetsimpy.Gaussian(D[\"theta_0\"], D[\"E\"], lf0=JS[\"lf\"]), \n",
    "            [theta,Eiso_pl,lf] ]\n",
    "#jetsimpy.PowerLaw(D[\"theta_0\"], D[\"E\"], lf0=JS[\"lf\"], s=A['b']) ] # #[theta,energy,lf]\n",
    "jet_type_name = ['TopHat', 'Gaussian', 'PowerLaw']\n",
    "\n",
    "# Loop and store the fluxes for each jet\n",
    "jetsimpys = [flux_jetsimpy(jet_type) for jet_type in jet_types] "
   ]
  },
  {
   "cell_type": "markdown",
   "metadata": {},
   "source": [
    "# Get the data points from an event "
   ]
  },
  {
   "cell_type": "code",
   "execution_count": 51,
   "metadata": {},
   "outputs": [],
   "source": [
    "# Getting the data from GW170817\n",
    "gw = os.path.join(current_directory, 'data', 'GW170817_3GHz_VLAobs.txt')\n",
    "\n",
    "#Declare lists for the variables\n",
    "t_gw, nu_gw, Fl_gw, Flerr_gw = [], [], [], []\n",
    "\n",
    "with open(gw,'r') as file: \n",
    "\n",
    "    for line in file: \n",
    "        #Ignore the comments in the file\n",
    "        if line.startswith('#'): \n",
    "            continue\n",
    "        \n",
    "        #Split line into columns and remove the spaces\n",
    "        columns = line.strip().split()\n",
    "\n",
    "        t_gw.append(float(columns[0]))\n",
    "        Fl_gw.append(float(columns[1]))\n",
    "        Flerr_gw.append(float(columns[2]))\n",
    "        nu_gw.append(float(columns[3]))\n",
    "\n",
    "# Convert lists to arrays\n",
    "t_gw     = np.array(t_gw) # Contrary to the others, the time is in days\n",
    "Fl_gw    = np.array(Fl_gw)\n",
    "Flerr_gw = np.array(Flerr_gw)\n",
    "nu_gw    = np.array(nu_gw)"
   ]
  },
  {
   "cell_type": "markdown",
   "metadata": {},
   "source": [
    "# Plot the Lightcurves and Spectra"
   ]
  },
  {
   "cell_type": "code",
   "execution_count": 52,
   "metadata": {},
   "outputs": [
    {
     "name": "stderr",
     "output_type": "stream",
     "text": [
      "/tmp/ipykernel_6644/3887578696.py:32: UserWarning: FigureCanvasAgg is non-interactive, and thus cannot be shown\n",
      "  fig1.show()\n"
     ]
    },
    {
     "data": {
      "image/png": "[encoded data removed]",
      "text/plain": [
       "<Figure size 640x480 with 1 Axes>"
      ]
     },
     "metadata": {},
     "output_type": "display_data"
    }
   ],
   "source": [
    "#Instructions for plotting the lightcurve\n",
    "fig1, ax1 = plt.subplots(1, 1)\n",
    "\n",
    "# Top Hat\n",
    "ax1.plot(convert_ts_td(times_box), Fl_box, label=\"BoxFit\") \n",
    "ax1.plot(convert_ts_td(times), afterglowpys[0], label=\"Afterglowpy (Top Hat)\", color = 'tab:blue', linestyle='dashed')\n",
    "ax1.plot(convert_ts_td(times), jetsimpys[0], label=\"JetSimpy (Top Hat)\", color = 'tab:blue', linestyle='dotted') \n",
    "\n",
    "#Gaussian\n",
    "ax1.plot(convert_ts_td(times), afterglowpys[1], label=\"Afterglowpy (Gaussian)\", color = 'tab:orange', linestyle='dashed')\n",
    "ax1.plot(convert_ts_td(times), jetsimpys[1], label=\"JetSimpy (Gaussian)\", color = 'tab:orange', linestyle='dotted') \n",
    "\n",
    "#Power-Law\n",
    "ax1.plot(convert_ts_td(times), afterglowpys[2], label=\"Afterglowpy (Power-Law)\", color = 'tab:green', linestyle='dashed')\n",
    "ax1.plot(convert_ts_td(times), jetsimpys[2], label=\"JetSimpy (Power-Law)\", color = 'tab:green', linestyle='dotted') \n",
    "\n",
    "#Boosted fireball\n",
    "ax1.plot(convert_ts_td(times), Fljet, label=\"JetFit\", color = 'tab:red') \n",
    "\n",
    "#Event data with its errorbars\n",
    "ax1.scatter(t_gw, Fl_gw, label = \"GW170817 3GHz\", marker = '+', color='black')\n",
    "ax1.errorbar(t_gw, Fl_gw,yerr=Flerr_gw,linestyle='', color='black')\n",
    "\n",
    "#ax1.set_title(\"Lightcurves different jet structures and GW170817 event data\")\n",
    "ax1.set(xscale='log', xlabel=r'time elapsed (d)',\n",
    "       yscale='log', ylabel=r'$F_\\nu$ (mJy)')\n",
    "\n",
    "ax1.legend(bbox_to_anchor=(1.05, 1), loc='upper left')\n",
    "ax1.set_ylim(10**-4,)\n",
    "plt.subplots_adjust(right=0.85)\n",
    "fig1.savefig(\"lightcurve_comp.pdf\", bbox_inches='tight')\n",
    "fig1.show()\n"
   ]
  },
  {
   "cell_type": "markdown",
   "metadata": {},
   "source": [
    "# Appendix"
   ]
  },
  {
   "cell_type": "markdown",
   "metadata": {},
   "source": [
    "Table indicating the input of each model with its units (or \".\" when there's no unit). "
   ]
  },
  {
   "cell_type": "markdown",
   "metadata": {},
   "source": [
    "| Input Parameter | BoxFit | Afterglowpy | JetFit | JetSimpy |\n",
    "|:--------:|:--------:|:--------:| :--------:| :--------:|\n",
    "|  $\\theta_{obs}$   | . rad   | . rad  |   | . rad  |\n",
    "|  $\\theta_{j}$    | . rad   |  . rad  |   | . rad  |\n",
    "|  $\\theta_{wing}$    |    |  rad   |   |  |\n",
    "|  $n$    | . $cm^{-3}$   | . $cm^{-3}$   | . $cm^{-3}$/1 $cm^{-3}$  | . $cm^{-3}$   |\n",
    "|  $p$    |  .  |  .   | .   | .  |\n",
    "|  $E$   |     |     | . erg / 10^50   |    |\n",
    "|  $E_{iso}$   |  . erg   | . erg   |   | . erg   |\n",
    "|  $\\eta_0$   |     |    | .   |    |\n",
    "|  $\\gamma_B$    |     |    | .   |    |\n",
    "|  $\\Gamma$    |     |    |    | .  |\n",
    "|  $\\epsilon_B$   |  .  |  .   | .   | .  |\n",
    "|  $\\epsilon_E$   |  .   |  .  | .  | .  |\n",
    "|  $\\xi_N$   |  .  |  .   | .   |   |\n",
    "|  $d_L$   |  cm   |  cm   | cm  | Mpc   |\n",
    "|  $z$   |  .  |  .   | .   | .  |\n",
    "|  $b$   |    |  .   |   | .  |"
   ]
  },
  {
   "cell_type": "markdown",
   "metadata": {},
   "source": [
    "Second table of the inputs of each model with their values"
   ]
  },
  {
   "cell_type": "code",
   "execution_count": 53,
   "metadata": {},
   "outputs": [
    {
     "name": "stdout",
     "output_type": "stream",
     "text": [
      "                   BoxFit    Afterglowpy              JetFit       JetSimpy\n",
      "theta_obs        0.44 rad       0.44 rad                           0.44 rad\n",
      "theta_j     0.0698132 rad  0.0698132 rad                      0.0698132 rad\n",
      "theta_wing                 0.2094396 rad                                   \n",
      "eta_0                                                      8               \n",
      "gamma_B                                                   12               \n",
      "lf                                                                      300\n",
      "E                                         2.51e+00 erg/10^50               \n",
      "E_iso        1.03e+53 erg   1.03e+53 erg                       1.03e+53 erg\n",
      "n              0.01 cm^-3     0.01 cm^-3                0.01     0.01 cm^-3\n",
      "p                    2.15           2.15                2.15           2.15\n",
      "b                                      6                                  1\n",
      "eps_e                 0.1            0.1                 0.1            0.1\n",
      "eps_b               7e-06          7e-06               7e-06          7e-06\n",
      "xi_N                    1              1                   1               \n",
      "d_L            1.2e+26 cm     1.2e+26 cm      0.012 cm/10^28   3.90e+01 Mpc\n",
      "z                 0.00973        0.00973             0.00973        0.00973\n"
     ]
    }
   ],
   "source": [
    "import pandas as pd\n",
    "\n",
    "# The format is the following: \n",
    "# \"Model\"                    : [D['thetaObs'], D['thetaCore'], D['thetaWing'], D['Eta0'], D['GammaB'], D['E'], D['Eiso'], D['n0'], D['p'], D['b'], D['epsilon_e'], D['epsilon_B'], D['xi_N'], D['d_L'], D['z']]\n",
    "\n",
    "models = {\n",
    "    \"BoxFit\"     : [D['theta_obs'], D['theta_0'], '', '', '', '', '', D['E'], D['n'], D['p'], '', D['epsilon_E'], D['epsilon_B'], D['ksi_N'], D['d_L'], D['z']],\n",
    "    \"Afterglowpy\": [A['thetaObs'], A['thetaCore'], A['thetaWing'], '','', '', '', A['E0'], A['n0'], A['p'], A['b'], A['epsilon_e'], A['epsilon_B'], A['xi_N'], A['d_L'], A['z']],\n",
    "    \"JetFit\"     : ['', '','', J['Eta0'], J['GammaB'], '', format(J['E'],'.2e'), '', J['n'], J['p'], '', J['epse'], J['epsb'], J['xiN'], J['dL'], J['z']],\n",
    "    \"JetSimpy\"   : [JS['theta_v'], JS['theta_c'], '', '', '', JS['lf'], '', JS['Eiso'], JS['n0'], JS['p'], JS['b'], JS['eps_e'], JS['eps_b'], '', format(JS['d'],'.2e'), JS['z']]\n",
    "}\n",
    "\n",
    "\n",
    "variables = ['theta_obs','theta_j', 'theta_wing', 'eta_0', 'gamma_B', 'lf', 'E', 'E_iso', 'n', 'p', 'b', 'eps_e', 'eps_b', 'xi_N', 'd_L', 'z']\n",
    "\n",
    "variables_unit_B  = [' rad', ' rad', '', '', '', '','', ' erg', ' cm^-3', '', '', '', '', '', ' cm', '']\n",
    "variables_unit_A  = [' rad', ' rad', ' rad', '', '', '','', ' erg', ' cm^-3', '', '', '', '', '', ' cm', '']\n",
    "variables_unit_J  = ['', '', '', '', '', '',' erg/10^50', '', '', '', '', '', '', '', ' cm/10^28', '']\n",
    "variables_unit_JS = [' rad', ' rad', '', '', '', '', '',' erg', ' cm^-3', '', '', '', '', '', ' Mpc', '']\n",
    "\n",
    "df                = pd.DataFrame(models, variables)\n",
    "df['BoxFit']      = df['BoxFit'].astype(str) + variables_unit_B\n",
    "df['Afterglowpy'] = df['Afterglowpy'].astype(str) + variables_unit_A\n",
    "df['JetFit']      = df['JetFit'].astype(str) + variables_unit_J\n",
    "df['JetSimpy']    = df['JetSimpy'].astype(str) + variables_unit_JS\n",
    "\n",
    "print(df)"
   ]
  },
  {
   "cell_type": "markdown",
   "metadata": {},
   "source": [
    "Plotting E($\\theta$) for every jet structure"
   ]
  },
  {
   "cell_type": "code",
   "execution_count": 54,
   "metadata": {},
   "outputs": [],
   "source": [
    "def convert_deg_to_rad(deg):\n",
    "    return deg*np.pi/180"
   ]
  },
  {
   "cell_type": "code",
   "execution_count": 55,
   "metadata": {},
   "outputs": [],
   "source": [
    "def convert_rad_to_deg(rad):\n",
    "    return rad*180/np.pi"
   ]
  },
  {
   "cell_type": "code",
   "execution_count": 56,
   "metadata": {},
   "outputs": [],
   "source": [
    "# Linspace from 0° to 40°\n",
    "thetalinsp = np.linspace(0, 0.6981317007977318, 1000)\n",
    "\n",
    "theta_c = D['theta_0']\n",
    "b       = A['b']\n",
    "E_iso   = D['E']\n",
    "gb      = J['GammaB']\n",
    "e0      = J['Eta0']\n",
    "\n",
    "\n",
    "# Top Hat\n",
    "E_th = np.heaviside(-thetalinsp+theta_c,thetalinsp[999]- theta_c) # Using the heaviside funcion that is 0 for x < 0 and 1 for x > 1 with x running from 1 to -9 to get only a small potion that is = 1 with sharp edges\n",
    "\n",
    "# Gaussian\n",
    "E_g = np.exp(-0.5*(thetalinsp/theta_c)**2)\n",
    "\n",
    "# Power-Law\n",
    "E_pl = ( 1 + (1/b)*(thetalinsp/theta_c)**2 )**(-b/2)\n",
    "\n",
    "# Boosted Fireball model: using formulas found in  Wu & MacFadyen 2018\n",
    "v0          = np.sqrt(1 - 1/e0**2)\n",
    "vb          = np.sqrt(1 - 1/gb**2)\n",
    "sin_fact    = gb*vb*np.sin(thetalinsp)\n",
    "gamma_max_0 = gb*(e0 + vb*e0*v0)\n",
    "gamma_max   = gb*(e0 + vb*np.cos(thetalinsp))*np.sqrt((e0*v0)**2 - sin_fact**2)/(1 + sin_fact**2)\n",
    "E_bf        = (gamma_max/gamma_max_0)**3\n"
   ]
  },
  {
   "cell_type": "code",
   "execution_count": 57,
   "metadata": {},
   "outputs": [],
   "source": [
    "def normalize_E(E):\n",
    "    return E/E[0]"
   ]
  },
  {
   "cell_type": "code",
   "execution_count": 58,
   "metadata": {},
   "outputs": [
    {
     "data": {
      "image/png": "[encoded data removed]",
      "text/plain": [
       "<Figure size 640x480 with 1 Axes>"
      ]
     },
     "metadata": {},
     "output_type": "display_data"
    }
   ],
   "source": [
    "fig3, ax3 = plt.subplots(1, 1)\n",
    "#plt.rcParams.update({'font.size': 15})         #Make the plot bigger\n",
    "ax3.plot(convert_rad_to_deg(thetalinsp), E_th, label=\"Top Hat\")\n",
    "ax3.plot(convert_rad_to_deg(thetalinsp), E_g, label=\"Gaussian\") \n",
    "ax3.plot(convert_rad_to_deg(thetalinsp), E_pl, label=\"Power-Law\") \n",
    "ax3.plot(convert_rad_to_deg(thetalinsp), normalize_E(E_bf), label=\"Boosted Fireball\") \n",
    "ax3.set_xlim(0,30)\n",
    "ax3.set_ylim(0,)\n",
    "ax3.set_title(\"Energy per angle of structured jets\")\n",
    "ax3.set(xlabel=r'$\\theta$ (deg)', ylabel=r'$E$ ($E_0$)')\n",
    "ax3.legend()\n",
    "plt.tight_layout()\n",
    "fig3.savefig(\"profiles.png\")"
   ]
  }
 ],
 "metadata": {
  "kernelspec": {
   "display_name": "JetFit",
   "language": "python",
   "name": "python3"
  },
  "language_info": {
   "codemirror_mode": {
    "name": "ipython",
    "version": 3
   },
   "file_extension": ".py",
   "mimetype": "text/x-python",
   "name": "python",
   "nbconvert_exporter": "python",
   "pygments_lexer": "ipython3",
   "version": "3.12.2"
  }
 },
 "nbformat": 4,
 "nbformat_minor": 2
}
