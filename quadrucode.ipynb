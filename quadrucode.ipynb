{
 "cells": [
  {
   "cell_type": "code",
   "execution_count": 1,
   "metadata": {},
   "outputs": [],
   "source": [
    "import numpy as np\n",
    "import emcee as em\n",
    "import pandas as pd\n",
    "\n",
    "#import sys\n",
    "#sys.path.append(\"/home/agath/anaconda3/envs/JetFit/lib/python3.12/site-packages/afterglowpy/\")\n",
    "import afterglowpy as grb\n",
    "\n",
    "import subprocess\n",
    "import os\n",
    "import sys\n",
    "\n",
    "current_directory = os.getcwd()\n",
    "jetfitcode_path = os.path.join(current_directory, 'jetfitcode')\n",
    "sys.path.append(jetfitcode_path)\n",
    "\n",
    "from FitterClass import *\n",
    "from FluxGeneratorClass import *\n",
    "from collections import defaultdict\n",
    "\n",
    "import matplotlib.pyplot as plt #For plotting\n",
    "\n",
    "#import jetsimpy"
   ]
  },
  {
   "cell_type": "code",
   "execution_count": 2,
   "metadata": {},
   "outputs": [],
   "source": [
    "#Importing the precomputed fluxes to put in the JetFit functions\n",
    "Table = os.path.join(jetfitcode_path, 'Table.h5') \n",
    "\n",
    "#Importing the files from BOXFIT\n",
    "settings = '/home/agath/boxfitoutput/boxfitsettings.txt'\n",
    "lightcurve_box = '/home/agath/boxfitoutput/lightcurve.txt'\n",
    "spectrum_box = '/home/agath/boxfitoutput/spectrum.txt'\n",
    "\n",
    "#Data from GW170817\n",
    "gw = '/home/agath/boxfitoutput/GW170817_3GHz_VLAobs.txt'"
   ]
  },
  {
   "cell_type": "markdown",
   "metadata": {},
   "source": [
    "### Boxfit\n",
    "\n",
    "To import the input parameters, and keep them for the rest of the code, and get the output values of BoxFit"
   ]
  },
  {
   "cell_type": "code",
   "execution_count": 3,
   "metadata": {},
   "outputs": [],
   "source": [
    "def read_boxfit(settings): #Read the parameters from boxfit and apply them to afterglowpy and maybe jetfit\n",
    "    B = {} #Declare an empty dictionary\n",
    "    with open(settings,'r') as f:\n",
    "        for line in f:\n",
    "            #Check if line is not an overall comment and has an equal and a comment to describe the parameter\n",
    "            if not line.strip().startswith('!') and '=' in line and '!' in line: \n",
    "                keyval_extra = line.strip().split('!') #Split the key + value from the comment using the !\n",
    "                key_value = keyval_extra[0].split('=') #Split the key from the value using the = \n",
    "                key, value = key_value[0].strip(), key_value[1].strip() #Store them\n",
    "                \n",
    "                #If the value is a number, store it in B, and convert it from a str to a float\n",
    "                if value.isdigit() or 'e-' in value or 'e' in value or '.' in value:\n",
    "                    if not '.txt' in value: #Because simplex and grbdata could get past this point\n",
    "                        B[key] = float(value) \n",
    "    return B"
   ]
  },
  {
   "cell_type": "code",
   "execution_count": 4,
   "metadata": {},
   "outputs": [],
   "source": [
    "B = read_boxfit(settings)"
   ]
  },
  {
   "cell_type": "code",
   "execution_count": 5,
   "metadata": {},
   "outputs": [],
   "source": [
    "#Parameters common to all three models\n",
    "t_min = B['t_0']\n",
    "t_max = B['t_1'] \n",
    "\n",
    "nu_min = B['nu_0']\n",
    "nu_max = B['nu_1']\n",
    "\n",
    "points = int(B['no_points'])"
   ]
  },
  {
   "cell_type": "code",
   "execution_count": 6,
   "metadata": {},
   "outputs": [],
   "source": [
    "#The corresponding linspaces\n",
    "tl = np.geomspace(t_min, t_max, points)\n",
    "nus = np.geomspace(nu_min, nu_max, points)\n",
    "\n",
    "nul = np.ones(nus.shape)*nu_min\n",
    "ts = np.ones(tl.shape)*t_min"
   ]
  },
  {
   "cell_type": "code",
   "execution_count": 7,
   "metadata": {},
   "outputs": [],
   "source": [
    "#Initialize the lists for Boxfit\n",
    "tbox =  []\n",
    "nubox =  []\n",
    "Flbox =  []\n",
    "Fnubox =  []\n",
    "\n",
    "def read_data_box(f, lightcurve = True): #lightcurve = true when getting the lightcurve data, = false for the spectrum\n",
    "    #Dummy index\n",
    "    i = 0\n",
    "\n",
    "    #Loop on the line\n",
    "    for line in f:\n",
    "\n",
    "        #Ignore line if it's a comment\n",
    "        if line.startswith('#'):\n",
    "            i = i + 1\n",
    "            continue  # The loop restarts\n",
    "    \n",
    "        #Split line into columns and remove the commas\n",
    "        columns = line.strip().replace(',','').split()  \n",
    "\n",
    "        #Add data to lists        \n",
    "        if lightcurve == True:\n",
    "            tbox.append(float(columns[1]))\n",
    "            Flbox.append(float(columns[3]))\n",
    "        else:\n",
    "            nubox.append(float(columns[2]))\n",
    "            Fnubox.append(float(columns[3]))\n",
    "            \n",
    "        \n",
    "\n",
    "# To read the data from Boxfit and plot it \n",
    "with open(lightcurve_box, 'r') as f1, open(spectrum_box, 'r') as f2:\n",
    "    read_data_box(f1, lightcurve=True)\n",
    "    read_data_box(f2,lightcurve=False)\n",
    "\n",
    "# Convert lists to arrays\n",
    "tbox = np.array(tbox) #Just here to make sure it's the same as the linspace, same for nu\n",
    "nubox = np.array(nubox)\n",
    "Fnubox = np.array(Fnubox)\n",
    "Flbox = np.array(Flbox)\n"
   ]
  },
  {
   "cell_type": "code",
   "execution_count": 8,
   "metadata": {},
   "outputs": [],
   "source": [
    "#print('be',B['E'],'je',J['E'],'log10je',np.log(J['E']),'10**jE',10**J['E'],'Ae',A['E0'])\n",
    "#print('bn',B['n'],'jn',J['n'],'log10jn',np.log(J['n']),'10**jn',10**J['n'],'an',A['n0'])"
   ]
  },
  {
   "cell_type": "markdown",
   "metadata": {},
   "source": [
    "### Small useful functions "
   ]
  },
  {
   "cell_type": "code",
   "execution_count": 9,
   "metadata": {},
   "outputs": [],
   "source": [
    "#Converts E to Eiso\n",
    "def convert_E_Eiso(E,theta):\n",
    "    #Theta being the half opening angle of the jet\n",
    "    Eiso = E/(1-np.cos(theta)) #\n",
    "    return Eiso "
   ]
  },
  {
   "cell_type": "code",
   "execution_count": 10,
   "metadata": {},
   "outputs": [],
   "source": [
    "#Converts Eiso to E\n",
    "def convert_Eiso_E(Eiso,theta):\n",
    "    #Theta being the half opening angle of the jet\n",
    "    E = Eiso*(1-np.cos(theta)) #\n",
    "    return E "
   ]
  },
  {
   "cell_type": "code",
   "execution_count": 11,
   "metadata": {},
   "outputs": [],
   "source": [
    "# convert_Eiso_E(8.2e53,B['theta_0'])"
   ]
  },
  {
   "cell_type": "code",
   "execution_count": 12,
   "metadata": {},
   "outputs": [],
   "source": [
    "#Converts time in s to time in days\n",
    "def convert_ts_td(t):\n",
    "    return t/(60*60*24)"
   ]
  },
  {
   "cell_type": "code",
   "execution_count": 13,
   "metadata": {},
   "outputs": [],
   "source": [
    "# print(convert_E_Eiso(2.5e50,B['theta_0']))"
   ]
  },
  {
   "cell_type": "markdown",
   "metadata": {},
   "source": [
    "### Afterglowpy"
   ]
  },
  {
   "cell_type": "code",
   "execution_count": 14,
   "metadata": {},
   "outputs": [],
   "source": [
    "#Afterglowpy dictionary contining the specifics of the jet and environment parameters\n",
    "A = {'jetType':     grb.jet.TopHat,     # Top-Hat jet\n",
    "     'specType':    0,                  # Basic Synchrotron Spectrum\n",
    "     'thetaWing':   B['theta_obs'],  # Outer truncation angle\n",
    "     'thetaObs':    B['theta_obs'],   # Viewing angle in radians, (roughly 20 degrees)\n",
    "     'E0':          B['E'], # Isotropic-equivalent energy in erg\n",
    "     'thetaCore':   B['theta_0'],    # Half-opening angle in radians\n",
    "     'n0':          B['n'],    # circumburst density in cm^{-3}\n",
    "     'p':           B['p'],    # electron energy distribution index\n",
    "     'epsilon_e':   B['epsilon_E'],    # epsilon_e\n",
    "     'epsilon_B':   B['epsilon_B'],   # epsilon_B\n",
    "     'xi_N':        B['ksi_N'],    # Fraction of electrons accelerated\n",
    "     'd_L':         B['d_L'], # Luminosity distance in cm (40Mpc)\n",
    "     'z':           B['z'],   # redshift\n",
    "     'b':           4.5}  #power for power-law structure theta**(-b)\n",
    "\n"
   ]
  },
  {
   "cell_type": "code",
   "execution_count": 15,
   "metadata": {},
   "outputs": [],
   "source": [
    "def light_curve_afterglowpy(A):\n",
    "    # Calculate the flux for both\n",
    "    Fnula = grb.fluxDensity(tl, nul, **A)\n",
    "    Fnusa = grb.fluxDensity(ts, nus, **A)\n",
    "\n",
    "    return Fnula, Fnusa\n",
    "\n",
    "Fnula, Fnusa = light_curve_afterglowpy(A)"
   ]
  },
  {
   "cell_type": "code",
   "execution_count": 16,
   "metadata": {},
   "outputs": [],
   "source": [
    "#Get multiple geometries from Afterglowpy\n",
    "types_jets = [grb.jet.TopHat, grb.jet.Gaussian, grb.jet.GaussianCore, grb.jet.PowerLaw, grb.jet.PowerLawCore]\n",
    "name_types_jets = ['TopHat', 'Gaussian', 'GaussianCore', 'PowerLaw', 'PowerLawCore']\n",
    "\n",
    "afterglowpys = [light_curve_afterglowpy(A) for A['jetType'] in types_jets]\n",
    "\n",
    "#print(np.shape(afterglowpys))"
   ]
  },
  {
   "cell_type": "markdown",
   "metadata": {},
   "source": [
    "### DeepGlow"
   ]
  },
  {
   "cell_type": "code",
   "execution_count": 17,
   "metadata": {},
   "outputs": [],
   "source": [
    "#Insert here the training code for DeepGlow"
   ]
  },
  {
   "cell_type": "code",
   "execution_count": 18,
   "metadata": {},
   "outputs": [],
   "source": [
    "# #For DeepGlow\n",
    "# model = Emulator(simtype='ism')\n",
    "\n",
    "# abs_factor = (B['p'] - 2)/(B['p'] - 1)\n",
    "\n",
    "# deep_array = [B['z'],           #redshift\n",
    "#               np.log10(B['d_L']/10**28),    #luminosity distance (log10 of 10^28 cm)\n",
    "#               np.log10(B['E']/10**53),    #isotropic-equivalent energy (log10 of 10^53 erg)\n",
    "#               np.log10(B['n']),     #circumburst medium density (log10 of cm^-3)\n",
    "#               B['theta_0'],    #jet half-opening angle (rad)\n",
    "#               B['theta_obs']/B['theta_0'],   #off-axis observer angle as a fraction of the jet half-opening angle\n",
    "#               B['p'],    #electron spectral index\n",
    "#               np.log10(B['epsilon_E']*abs_factor),   # energy fraction in accelerated electrons (in log10), with factor of (p-2)/p-1 absorbed\n",
    "#               np.log10(B['epsilon_B']),  #energy fraction in magnetic field (in log10)\n",
    "#               np.log10(B['ksi_N'])  #fraction of electrons accelerated (in log10)\n",
    "#               ]\n",
    "\n",
    "# Fldeep = model.flux(params=deep_array, t_obs=tl, nu_obs=nul)\n"
   ]
  },
  {
   "cell_type": "markdown",
   "metadata": {},
   "source": [
    "### JetSimpy"
   ]
  },
  {
   "cell_type": "code",
   "execution_count": 19,
   "metadata": {},
   "outputs": [],
   "source": [
    "import jetsimpy"
   ]
  },
  {
   "cell_type": "code",
   "execution_count": 20,
   "metadata": {},
   "outputs": [],
   "source": [
    "\n",
    "\n",
    "# jet1 = jetsimpy.Afterglow(\n",
    "#     B['theta_0'],           # array of theta\n",
    "#     B['E'],            # array of isotropic equivalent energy\n",
    "#     300,              # array of initial lorentz factor\n",
    "#     0,          # scale of wind density\n",
    "#     B[\"n0\"],         # constant number density\n",
    "#     spread=False,    # (default = True) with/without spreading effect \n",
    "#     coast=True,      # (default = True) with/without coasting. If this is \"False\", the initial lorentz factor data will be omitted.\n",
    "# )"
   ]
  },
  {
   "cell_type": "markdown",
   "metadata": {},
   "source": [
    "### JetFit"
   ]
  },
  {
   "cell_type": "code",
   "execution_count": 21,
   "metadata": {},
   "outputs": [],
   "source": [
    "#JetFit informations\n",
    "Info = {\n",
    "    'Fit': np.array(['E', 'Eta0', 'GammaB','theta_obs','epsb','epse','n','p','z','xiN','dL','theta_obs']),         # Fitting parameters (Parameter names see P dictionary below)\n",
    "    'Log': np.array([]),        # Set parameters in log scale 'E','n','epse','epsb' (mesured in log for mcmc analysis)\n",
    "    'LogType': 'Log10',                              # Log scale type: Log10 or Log\n",
    "    'ThetaObsPrior': 'Sine',                         # Prior for observation angle: Sine or Uniform\n",
    "    'FluxType': 'Spectral'                           # Flux type: Spectral or Integrated\n",
    "}\n",
    "\n",
    "#JetFit bounds for parameters in linear scale\n",
    "FitBound = {\n",
    "    'E': np.array([1e-6, 1e3]),\n",
    "    'n': np.array([1e-6, 1e3]),\n",
    "    'Eta0': np.array([2.,10.]),\n",
    "    'GammaB': np.array([1.,12.]),\n",
    "    'theta_obs': np.array([0.,1.]),\n",
    "    'epse': np.array([1e-6,1.]),\n",
    "    'epsb': np.array([1e-6,1.]),\n",
    "    'p': np.array([2.,4.])\n",
    "}\n",
    "\n",
    "#JetFit dict\n",
    "Explore = False # For non-fiting parameters, P set default values. \n",
    "\n",
    "J = {\n",
    "    'E': convert_Eiso_E(B['E'],B['theta_0'])/10**50, #E/10^50 convert_Eiso_E(B['E'],B['theta_0'])\n",
    "    'Eta0': 8,\n",
    "    'GammaB': 12,\n",
    "    'dL': B['d_L']/10**28, #dl/10^28 cm\n",
    "    'epsb': 7e-6, #B['epsilon_B']\n",
    "    'epse': B['epsilon_E'],\n",
    "    'n': B['n'], #np/1 cm-3\n",
    "    'p': B['p'],\n",
    "    'theta_obs': B['theta_obs'],\n",
    "    'xiN': B['ksi_N'],\n",
    "    'z': B['z']\n",
    "}\n"
   ]
  },
  {
   "cell_type": "code",
   "execution_count": 22,
   "metadata": {},
   "outputs": [
    {
     "name": "stdout",
     "output_type": "stream",
     "text": [
      "1.0208249320351635e+53\n"
     ]
    }
   ],
   "source": [
    "print(B['E'])"
   ]
  },
  {
   "cell_type": "code",
   "execution_count": 23,
   "metadata": {},
   "outputs": [
    {
     "name": "stdout",
     "output_type": "stream",
     "text": [
      "2.4866803585502892\n"
     ]
    }
   ],
   "source": [
    "print(convert_Eiso_E(B['E'],B['theta_0'])/10**50)"
   ]
  },
  {
   "cell_type": "code",
   "execution_count": 37,
   "metadata": {},
   "outputs": [
    {
     "name": "stdout",
     "output_type": "stream",
     "text": [
      "{'E': 2.4866803585502892, 'Eta0': 8, 'GammaB': 12, 'theta_obs': 0.44, 'epsb': 7e-06, 'epse': 0.1, 'n': 0.01, 'p': 2.15, 'z': 0.00973, 'xiN': 1.0, 'dL': 0.012}\n"
     ]
    }
   ],
   "source": [
    "print(J)"
   ]
  },
  {
   "cell_type": "code",
   "execution_count": 24,
   "metadata": {},
   "outputs": [],
   "source": [
    "#Calculates the range for time with respect to the bounds of tau for jetfit\n",
    "\n",
    "def range_time_tau():\n",
    "    #print('jn',J['n'],'je',J['E'],'jz',J['z'],'tmin',t_min,'tmax',t_max)\n",
    "\n",
    "    #The range and formula from the paper\n",
    "    tau_min = 8.64e2\n",
    "    tau_max = 8.64e7\n",
    "    scale = (1. + J['z'])*(J['E']/J['n'])**(1./3.)\n",
    "    ti = tau_min*scale\n",
    "    tf = tau_max*scale\n",
    "\n",
    "    print('The time range allowed by tau is: [',\"{:e}\".format(ti),',',\"{:e}\".format(tf),']')\n",
    "\n",
    "    if t_min < ti:\n",
    "        print('The lower boundary is out of bounds:', \"{:e}\".format(t_min), 'is lower than', \"{:e}\".format(ti))\n",
    "    elif t_max > tf:\n",
    "        print('The upper boundary is out of bounds:', \"{:e}\".format(t_max),'is higher than', \"{:e}\".format(tf))\n",
    "    else:\n",
    "        print('The values are within the time range')\n",
    "    return ti, tf"
   ]
  },
  {
   "cell_type": "code",
   "execution_count": 25,
   "metadata": {},
   "outputs": [],
   "source": [
    "#For JetFit\n",
    "def Log2Linear(Log, Info):\n",
    "    Linear = {} #Defined as a dictionary\n",
    "    for i, key in enumerate(Info['Fit']): #Going through all the parameters\n",
    "        if key in Info['Log']:  #If it is in logscale, then use the exponential or 10^X\n",
    "            if Info['LogType'] == 'Log10':\n",
    "                Linear[key] = np.power(10.,Log[key])\n",
    "            else:\n",
    "                Linear[key] = np.exp(Log[key])\n",
    "        else:\n",
    "            Linear[key] = Log[key]\n",
    "    # print(Linear['E'],Linear) #Debug statement to see the full dict\n",
    "    return Linear\n"
   ]
  },
  {
   "cell_type": "code",
   "execution_count": 26,
   "metadata": {},
   "outputs": [],
   "source": [
    "def light_curve_jetfit(P):\n",
    "\n",
    "    ti, tf = range_time_tau()\n",
    "    #print(FluxGenerator.Axes[0])\n",
    "\n",
    "    #Calculate flux\n",
    "    flux_jet = np.asarray(FluxGenerator.GetSpectral(tl, nul, P))\n",
    "    print('flux', flux_jet)\n",
    "\n",
    "    return flux_jet"
   ]
  },
  {
   "cell_type": "code",
   "execution_count": 27,
   "metadata": {},
   "outputs": [
    {
     "name": "stdout",
     "output_type": "stream",
     "text": [
      "The time range allowed by tau is: [ 5.486040e+03 , 5.486040e+08 ]\n",
      "The values are within the time range\n",
      "flux [0.00013946 0.0001785  0.00022695 0.00028714 0.00036329 0.00045964\n",
      " 0.00056372 0.00068905 0.00084223 0.00102119 0.00120428 0.0014202\n",
      " 0.00167483 0.00197354 0.002324   0.0027367  0.00322268 0.00376093\n",
      " 0.00438321 0.00510846 0.00590766 0.00661473 0.00740644 0.0082929\n",
      " 0.00922243 0.010191   0.01126129 0.01244399 0.01353657 0.01468095\n",
      " 0.01592207 0.01721705 0.01833526 0.01952609 0.02079426 0.02215298\n",
      " 0.02360971 0.02516224 0.02681685 0.02843872 0.03012317 0.03190739\n",
      " 0.03377946 0.0356365  0.03759563 0.03966246 0.04168351 0.04360694\n",
      " 0.04561912 0.04772415 0.05047675 0.05355647 0.05682409 0.06019989\n",
      " 0.06291146 0.06574517 0.06870651 0.07204352 0.07589098 0.0799439\n",
      " 0.08421327 0.08863292 0.09325662 0.09812152 0.10290755 0.1032903\n",
      " 0.10367448 0.10406008 0.10341592 0.10120195 0.09903538 0.09691519\n",
      " 0.08832918 0.07824518 0.06931241 0.06135666 0.05334099 0.04637249\n",
      " 0.04031436 0.03472163 0.029412   0.02491432 0.02110443 0.01799672\n",
      " 0.01539421 0.01316805 0.01126428 0.00970522 0.00836193 0.00720457\n",
      " 0.00624815 0.0054916  0.00482666 0.00424223 0.00375819 0.0033435\n",
      " 0.00297456 0.00264634 0.00237355 0.00212933]\n"
     ]
    }
   ],
   "source": [
    "#Transform the log variables from the P dictionnary to linear ones\n",
    "J = Log2Linear(J,Info) \n",
    "\n",
    "#Create FluxGeneratorClass based on the given table\n",
    "FluxGenerator = FluxGeneratorClass(Table)\n",
    "\n",
    "#Get the lightcurve from the function\n",
    "Fljet = light_curve_jetfit(J)"
   ]
  },
  {
   "cell_type": "code",
   "execution_count": 38,
   "metadata": {},
   "outputs": [
    {
     "name": "stdout",
     "output_type": "stream",
     "text": [
      "[  170000.           181217.09772986   193174.33240961   205920.5404422\n",
      "   219507.78059941   233991.54664323   249430.99397651   265889.18124881\n",
      "   283433.327904     302135.08872164   322070.84647347   343322.02389013\n",
      "   365975.41621242   390123.54568525   415865.03944215   443305.03232365\n",
      "   472555.59627491   503736.19807614   536974.18727548   572405.31631715\n",
      "   610174.29498904   650435.38145458   693353.01228244   739102.47404753\n",
      "   787870.61924621   839856.62944957   895272.82881197   954345.55125711\n",
      "  1017316.06488364  1084441.55736575  1155996.18637337  1232272.19930218\n",
      "  1313581.12688667  1400255.05557132  1492647.98383648  1591137.26801869\n",
      "  1696125.1635304   1808040.46777392  1927340.2714596   2054511.82548113\n",
      "  2190074.53097278  2334582.06067632  2488624.62028214  2652831.35898005\n",
      "  2827872.93906548  3014464.27509565  3213367.45378345  3425394.84655431\n",
      "  3651412.42747881  3892343.31013212  4149171.5178258   4422946.00261058\n",
      "  4714784.92946462  5025880.24316511  5357502.53649549  5711006.2396711\n",
      "  6087835.15217842  6489528.3396212   6917726.41965791  7374178.26270351\n",
      "  7860748.13476332  8379423.31157196  8932322.19513542  9521702.9658263\n",
      " 10149972.80536976 10819697.72838903 11533613.06266496 12294634.62091392\n",
      " 13105870.60971235 13970634.32420688 14892457.68045862 15875105.64069118\n",
      " 16922591.59035894 18039193.72983893 19229472.54769489 20498289.44687835\n",
      " 21850826.59994091 23292608.11435155 24829522.59436362 26467847.19158002\n",
      " 28214273.24244485 30075933.59737148 32060431.75312765 34175872.90745946\n",
      " 36430897.06279076 38834714.31420169 41397142.46581146 44128647.12919999\n",
      " 47040384.4676401  50144246.76072123 53452910.97545848 56979890.54226635\n",
      " 60739590.54726298 64747366.56632438 69019587.38118125 73573701.83370754\n",
      " 78428310.09145112 83603239.61547312 89119626.14076632 95000000.        ] [3.e+09 3.e+09 3.e+09 3.e+09 3.e+09 3.e+09 3.e+09 3.e+09 3.e+09 3.e+09\n",
      " 3.e+09 3.e+09 3.e+09 3.e+09 3.e+09 3.e+09 3.e+09 3.e+09 3.e+09 3.e+09\n",
      " 3.e+09 3.e+09 3.e+09 3.e+09 3.e+09 3.e+09 3.e+09 3.e+09 3.e+09 3.e+09\n",
      " 3.e+09 3.e+09 3.e+09 3.e+09 3.e+09 3.e+09 3.e+09 3.e+09 3.e+09 3.e+09\n",
      " 3.e+09 3.e+09 3.e+09 3.e+09 3.e+09 3.e+09 3.e+09 3.e+09 3.e+09 3.e+09\n",
      " 3.e+09 3.e+09 3.e+09 3.e+09 3.e+09 3.e+09 3.e+09 3.e+09 3.e+09 3.e+09\n",
      " 3.e+09 3.e+09 3.e+09 3.e+09 3.e+09 3.e+09 3.e+09 3.e+09 3.e+09 3.e+09\n",
      " 3.e+09 3.e+09 3.e+09 3.e+09 3.e+09 3.e+09 3.e+09 3.e+09 3.e+09 3.e+09\n",
      " 3.e+09 3.e+09 3.e+09 3.e+09 3.e+09 3.e+09 3.e+09 3.e+09 3.e+09 3.e+09\n",
      " 3.e+09 3.e+09 3.e+09 3.e+09 3.e+09 3.e+09 3.e+09 3.e+09 3.e+09 3.e+09]\n"
     ]
    }
   ],
   "source": [
    "print(tl, nul)"
   ]
  },
  {
   "cell_type": "code",
   "execution_count": 28,
   "metadata": {},
   "outputs": [
    {
     "name": "stdout",
     "output_type": "stream",
     "text": [
      "[2.91779343e-18 3.08699890e-18 3.26601673e-18 3.45541594e-18\n",
      " 3.65579858e-18 3.86780156e-18 4.09209876e-18 4.32940313e-18\n",
      " 4.58046897e-18 4.84609431e-18 5.12712348e-18 5.42444974e-18\n",
      " 5.73901817e-18 6.07182868e-18 6.42393911e-18 6.79646869e-18\n",
      " 7.19060154e-18 7.60759044e-18 8.04876084e-18 8.51551503e-18\n",
      " 9.00933663e-18 9.53179531e-18 1.00845517e-17 1.06693629e-17\n",
      " 1.12880877e-17 1.19426927e-17 1.26352588e-17 1.33679873e-17\n",
      " 1.41432071e-17 1.49633825e-17 1.58311205e-17 1.67491791e-17\n",
      " 1.77204765e-17 1.87481002e-17 1.98353164e-17 2.09855810e-17\n",
      " 2.22025502e-17 2.34900922e-17 2.48522995e-17 2.62935022e-17\n",
      " 2.78182810e-17 2.94314828e-17 3.11382351e-17 3.29439630e-17\n",
      " 3.48544062e-17 3.68756371e-17 3.90140804e-17 4.12765333e-17\n",
      " 4.36701872e-17 4.62026504e-17 4.88819727e-17 5.17166703e-17\n",
      " 5.47157537e-17 5.78887556e-17 6.12457616e-17 6.47974422e-17\n",
      " 6.85550868e-17 7.25306392e-17 7.67367359e-17 8.11867465e-17\n",
      " 8.58948155e-17 9.08759078e-17 9.61458562e-17 1.01721412e-16\n",
      " 1.07620296e-16 1.13861260e-16 1.20464141e-16 1.27449925e-16\n",
      " 1.34840819e-16 1.42660314e-16 1.50933266e-16 1.59685970e-16\n",
      " 1.68946247e-16 1.78743531e-16 1.89108965e-16 2.00075495e-16\n",
      " 2.11677979e-16 2.23953295e-16 2.36940463e-16 2.50680762e-16\n",
      " 2.65217866e-16 2.80597984e-16 2.96870000e-16 3.14085638e-16\n",
      " 3.32299617e-16 3.51569831e-16 3.71957533e-16 3.93527526e-16\n",
      " 4.16348371e-16 4.40492604e-16 4.66036971e-16 4.93062665e-16\n",
      " 5.21655588e-16 5.51906625e-16 5.83911930e-16 6.17773233e-16\n",
      " 6.53598164e-16 6.91500595e-16 7.31601000e-16 7.74026841e-16]\n"
     ]
    }
   ],
   "source": [
    "def get_integrated_jetfit(P):\n",
    "\n",
    "    #The function takes as an input an array with two columns, so we split the data into two arrays with points (because points/2 fails)\n",
    "    mid_point = nus[int(points/2)]\n",
    "    nus_col = np.column_stack((np.geomspace(nu_min, mid_point, points), np.geomspace(mid_point, nu_max, points)))\n",
    "    \n",
    "    #print('time', time)\n",
    "    #Calculate flux\n",
    "    Fsjet = np.asarray(FluxGenerator.GetIntegratedFlux(ts, nus_col, P))\n",
    "    print(Fsjet)\n",
    "\n",
    "    return nus_col, Fsjet\n",
    "\n",
    "nusj, Fsjet = get_integrated_jetfit(J)"
   ]
  },
  {
   "cell_type": "markdown",
   "metadata": {},
   "source": [
    "### Get the data points from GW170817"
   ]
  },
  {
   "cell_type": "code",
   "execution_count": 29,
   "metadata": {},
   "outputs": [],
   "source": [
    "#Declare lists for the variables\n",
    "t_gw = []\n",
    "nu_gw = []\n",
    "Fl_gw = []\n",
    "Flerr_gw = []\n",
    "\n",
    "with open(gw,'r') as file:\n",
    "\n",
    "    for line in file:\n",
    "        #Ignore the comments\n",
    "        if line.startswith('#'): \n",
    "            continue\n",
    "        \n",
    "        #Split line into columns and remove the spaces\n",
    "        columns = line.strip().split()  \n",
    "\n",
    "        t_gw.append(float(columns[0]))\n",
    "        Fl_gw.append(float(columns[1]))\n",
    "        Flerr_gw.append(float(columns[2]))\n",
    "        nu_gw.append(float(columns[3]))\n",
    "\n",
    "# Convert lists to arrays\n",
    "t_gw = np.array(t_gw) #Contrary to the others, the time is in days\n",
    "Fl_gw = np.array(Fl_gw)\n",
    "Flerr_gw = np.array(Flerr_gw)\n",
    "nu_gw = np.array(nu_gw)        "
   ]
  },
  {
   "cell_type": "code",
   "execution_count": 30,
   "metadata": {},
   "outputs": [
    {
     "name": "stdout",
     "output_type": "stream",
     "text": [
      "7e-06\n"
     ]
    }
   ],
   "source": [
    "print(B['epsilon_B'])"
   ]
  },
  {
   "cell_type": "code",
   "execution_count": 31,
   "metadata": {},
   "outputs": [
    {
     "name": "stdout",
     "output_type": "stream",
     "text": [
      "[0.0187 0.0151 0.0145 0.0225 0.0256 0.034  0.044  0.048  0.061  0.07\n",
      " 0.103  0.098  0.073  0.069  0.0647 0.055  0.0403 0.0439 0.0464 0.0312\n",
      " 0.0148 0.005 ] [3.e+09 3.e+09 3.e+09 3.e+09 3.e+09 3.e+09 3.e+09 3.e+09 3.e+09 3.e+09\n",
      " 3.e+09 3.e+09 3.e+09 3.e+09 3.e+09 3.e+09 3.e+09 3.e+09 3.e+09 3.e+09\n",
      " 3.e+09 3.e+09]\n"
     ]
    }
   ],
   "source": [
    "print(Fl_gw,nu_gw)"
   ]
  },
  {
   "cell_type": "markdown",
   "metadata": {},
   "source": [
    "## Plot the Lightcurves and Spectra"
   ]
  },
  {
   "cell_type": "code",
   "execution_count": 32,
   "metadata": {},
   "outputs": [
    {
     "name": "stderr",
     "output_type": "stream",
     "text": [
      "/tmp/ipykernel_56536/4194358729.py:42: UserWarning: FigureCanvasAgg is non-interactive, and thus cannot be shown\n",
      "  fig1.show()\n",
      "/tmp/ipykernel_56536/4194358729.py:43: UserWarning: FigureCanvasAgg is non-interactive, and thus cannot be shown\n",
      "  fig2.show()\n"
     ]
    },
    {
     "data": {
      "image/png": "[encoded data removed]",
      "text/plain": [
       "<Figure size 640x480 with 1 Axes>"
      ]
     },
     "metadata": {},
     "output_type": "display_data"
    },
    {
     "data": {
      "image/png": "[encoded data removed]",
      "text/plain": [
       "<Figure size 640x480 with 1 Axes>"
      ]
     },
     "metadata": {},
     "output_type": "display_data"
    }
   ],
   "source": [
    "#To get a Label\n",
    "Label = {\n",
    "    r'$E_{iso}$': B['E'],\n",
    "    r'$n$': B['n'],\n",
    "    r'$\\eta_0$': J['Eta0'],\n",
    "    r'$\\gamma_B$': J['GammaB'],\n",
    "    r'$\\theta_{obs}$': B['theta_obs'],\n",
    "    r'$\\epsilon_e$': B['epsilon_E'],\n",
    "    r'$\\epsilon_b$': B['epsilon_B']\n",
    "}\n",
    "\n",
    "labels = [\"{}: {}\".format(key, value) for key, value in Label.items()]\n",
    "\n",
    "\n",
    "#For Plotting the lightcurve and spectrum of Afterglowpy and Boxfit\n",
    "fig1, ax1 = plt.subplots(1, 1)\n",
    "[ax1.plot(convert_ts_td(tl), afterglowpys[i][0], label= f\"Afterglowpy ({name_types_jets[i]})\", linestyle='dashed') for i in range(len(afterglowpys))] #convert_ts_td(tl)\n",
    "#ax1.plot(convert_ts_td(tl), Fnula, label=\"Afterglowpy\") #convert_ts_td(tl)\n",
    "ax1.plot(convert_ts_td(tbox), Flbox, label=\"BoxFit\") #convert_ts_td(tbox)\n",
    "ax1.plot(convert_ts_td(tl), Fljet, label=\"JetFit\") #convert_ts_td(tlj) Fljet*1e-6\n",
    "ax1.scatter(t_gw, Fl_gw, label = \"GW170817\", marker = '+')\n",
    "ax1.errorbar(t_gw, Fl_gw,yerr=Flerr_gw,linestyle='', color='black')\n",
    "#ax1.plot(convert_ts_td(tl), Fldeep , label=\"DeepGlow\")\n",
    "ax1.set_title(\"{}\".format(\",\".join(labels)))\n",
    "ax1.set(xscale='log', xlabel=r'$t$ (s)',\n",
    "       yscale='log', ylabel=r'$F_\\nu$ (mJy)')\n",
    "ax1.legend()\n",
    "ax1.set_ylim(10**-4,)\n",
    "fig1.savefig(\"lightcurve_comp.png\")\n",
    "\n",
    "fig2, ax2 = plt.subplots(1, 1)\n",
    "[ax2.plot(nus, afterglowpys[i][1], label= f\"Afterglowpy ({name_types_jets[i]})\", linestyle='dashed') for i in range(len(afterglowpys))] #convert_ts_td(tl)\n",
    "#ax2.plot(nus, Fnusa, label=\"Afterglowpy\")\n",
    "ax2.plot(nus, Fnubox, label=\"BoxFit\")\n",
    "ax2.plot(nusj, Fsjet, label=\"JetFit\")\n",
    "ax2.set_title(\"Spectrum from different models\")\n",
    "ax2.set(xscale='log', xlabel=r'$\\nu$ (Hz)',\n",
    "       yscale='log', ylabel=r'$F_\\nu$ (mJy)')\n",
    "ax2.legend()\n",
    "fig2.savefig(\"spectrum_comp.png\")\n",
    "\n",
    "fig1.show()\n",
    "fig2.show()"
   ]
  },
  {
   "cell_type": "code",
   "execution_count": 33,
   "metadata": {},
   "outputs": [],
   "source": [
    "def time_flux_peaks(Fnu, t):\n",
    "    \n",
    "    Fnu_peak = np.max(Fnu)\n",
    "    t_peak = t[np.argmax(Fnu)]\n",
    "\n",
    "    return Fnu_peak, t_peak"
   ]
  },
  {
   "cell_type": "code",
   "execution_count": 34,
   "metadata": {},
   "outputs": [
    {
     "name": "stdout",
     "output_type": "stream",
     "text": [
      "3.5921013390500116\n"
     ]
    }
   ],
   "source": [
    "import random\n",
    "\n",
    "print(np.random.uniform(1,10))\n",
    "#Rescaling as in Nakar\n",
    "\n",
    "def rescaling( theta_obs, theta_0,E, n, epse, nu, d_L,p, Fl, t, ): #maybe change this with **kwargs but beware that not all dictionnaries have the same key name for the same physical variable (or the same scale, check jetfit)\n",
    "\n",
    "    #Get the old ratio, should be constrained between 10 and 3\n",
    "    ratio = theta_obs/theta_0\n",
    "    print('The ratio is', ratio)\n",
    "\n",
    "    #Get the new angle values with the same ratio, theta_obs contrained between 0 and 1.57, theta_0 between 0.045 and 0.5, wrote a statement in case out of bounds\n",
    "    theta_obs_re = np.random.uniform(0.045*ratio,1.57)\n",
    "    theta_0_re = theta_obs_re/ratio\n",
    "\n",
    "    if theta_0_re > 0.5 or theta_0_re < 0.045:\n",
    "        print('Random theta j out of bounds for this ratio and theta obs', theta_0_re)\n",
    "\n",
    "    #Get the previous t_peak and f_peak\n",
    "    Fl_peak, t_peak = time_flux_peaks(Fl, t)\n",
    "\n",
    "    #Get the new t_peak and F_peak\n",
    "    n_re = (((theta_obs_re - theta_0_re)**2*E**(1/3))/t_peak)**(1/3)\n",
    "    epsb_re = ((Fl_peak)/E*(n**(p+1/4))*(epse**(p-1))*(theta_obs**(-2*p))*(nu**(-(p-1)/2))*(d_L**-2))**(4/p+1)\n",
    "\n",
    "    #Calculate the \n",
    "    return theta_obs_re, theta_0_re, epsb_re, n_re"
   ]
  },
  {
   "cell_type": "code",
   "execution_count": 35,
   "metadata": {},
   "outputs": [
    {
     "name": "stdout",
     "output_type": "stream",
     "text": [
      "The ratio is 6.302533045326672\n"
     ]
    },
    {
     "data": {
      "text/plain": [
       "(1.4154677275209395, 0.22458711717037466, 0.0, 4202.175311992503)"
      ]
     },
     "execution_count": 35,
     "metadata": {},
     "output_type": "execute_result"
    }
   ],
   "source": [
    "rescaling(B['theta_obs'], B['theta_0'], B['E'], B['n'], B['epsilon_E'], nus[0], B['d_L'], B['p'], Flbox, tbox)"
   ]
  },
  {
   "cell_type": "code",
   "execution_count": 36,
   "metadata": {},
   "outputs": [
    {
     "name": "stdout",
     "output_type": "stream",
     "text": [
      "0.44 0.0698132 1.0208249320351635e+53 0.01 0.1 3000000000.0 1.2e+26 2.15 [0.000000e+00 0.000000e+00 0.000000e+00 0.000000e+00 0.000000e+00\n",
      " 0.000000e+00 0.000000e+00 0.000000e+00 0.000000e+00 0.000000e+00\n",
      " 0.000000e+00 0.000000e+00 0.000000e+00 0.000000e+00 0.000000e+00\n",
      " 0.000000e+00 0.000000e+00 0.000000e+00 0.000000e+00 0.000000e+00\n",
      " 0.000000e+00 0.000000e+00 0.000000e+00 0.000000e+00 0.000000e+00\n",
      " 0.000000e+00 1.514814e-07 5.788921e-07 3.179579e-07 1.605276e-06\n",
      " 1.146922e-06 1.009551e-06 1.345201e-06 3.443389e-06 4.166948e-06\n",
      " 5.654103e-06 6.742736e-06 9.847781e-06 2.094393e-04 2.552282e-04\n",
      " 2.037469e-04 2.132972e-04 4.321848e-04 9.433319e-05 1.537710e-04\n",
      " 3.178266e-04 2.610757e-04 4.121081e-04 5.768680e-04 6.926996e-04\n",
      " 9.077013e-03 7.291952e-04 1.510852e-02 2.759316e-03 3.246507e-03\n",
      " 1.998786e-02 1.053599e-02 2.487351e-02 2.544006e-02 3.255536e-02\n",
      " 4.605091e-02 2.518185e-02 5.959249e-02 4.972027e-02 3.256786e-02\n",
      " 4.553438e-02 3.057072e-02 4.911814e-02 5.767249e-02 3.074812e-02\n",
      " 4.168612e-02 3.823738e-02 2.134749e-02 1.987377e-02 2.563178e-02\n",
      " 1.353895e-02 1.041297e-02 1.481716e-02 1.039254e-02 5.128795e-03\n",
      " 4.831725e-03 3.381619e-03 2.910818e-03 1.984534e-03 1.631586e-03\n",
      " 1.941625e-03 1.518690e-03 1.138101e-03 8.837133e-04 6.959287e-04\n",
      " 6.699027e-04 6.082212e-04 4.756725e-04 3.895723e-04 3.377004e-04\n",
      " 2.744197e-04 2.661737e-04 2.376291e-04 2.110763e-04 1.809600e-04] [  170000.    181217.1   193174.3   205920.5   219507.8   233991.5\n",
      "   249431.    265889.2   283433.3   302135.1   322070.8   343322.\n",
      "   365975.4   390123.5   415865.    443305.    472555.6   503736.2\n",
      "   536974.2   572405.3   610174.3   650435.4   693353.    739102.5\n",
      "   787870.6   839856.6   895272.8   954345.6  1017316.   1084442.\n",
      "  1155996.   1232272.   1313581.   1400255.   1492648.   1591137.\n",
      "  1696125.   1808040.   1927340.   2054512.   2190075.   2334582.\n",
      "  2488625.   2652831.   2827873.   3014464.   3213367.   3425395.\n",
      "  3651412.   3892343.   4149172.   4422946.   4714785.   5025880.\n",
      "  5357503.   5711006.   6087835.   6489528.   6917726.   7374178.\n",
      "  7860748.   8379423.   8932322.   9521703.  10149970.  10819700.\n",
      " 11533610.  12294630.  13105870.  13970630.  14892460.  15875110.\n",
      " 16922590.  18039190.  19229470.  20498290.  21850830.  23292610.\n",
      " 24829520.  26467850.  28214270.  30075930.  32060430.  34175870.\n",
      " 36430900.  38834710.  41397140.  44128650.  47040380.  50144250.\n",
      " 53452910.  56979890.  60739590.  64747370.  69019590.  73573700.\n",
      " 78428310.  83603240.  89119630.  95000000. ]\n"
     ]
    }
   ],
   "source": [
    "print(B['theta_obs'], B['theta_0'], B['E'], B['n'], B['epsilon_E'], nus[0], B['d_L'], B['p'], Flbox, tbox)"
   ]
  },
  {
   "cell_type": "markdown",
   "metadata": {},
   "source": [
    "This table indicates the input of each model as well as the units"
   ]
  },
  {
   "cell_type": "markdown",
   "metadata": {},
   "source": [
    "| Input Parameter | BoxFit | Afterglowpy | JetFit | JetSimpy |\n",
    "|:--------:|:--------:|:--------:| :--------:| :--------:|\n",
    "|  $\\theta_{obs}$   |  Row 1   |  Row 1   | Row 1   | Row 1   |\n",
    "|  $\\theta_{j}$    |  Row 2   |  Row 2   | Row 1   | Row 1   |\n",
    "|  $\\theta_{wing}$    |  Row 2   |  Row 2   | Row 1   | Row 1   |\n",
    "|  $n$    |  Row 2   |  Row 2   | Row 1   | Row 1   |\n",
    "|  $p$    |  Row 2   |  Row 2   | Row 1   | Row 1   |\n",
    "|  $E$   |  Row 3   |  Row 3   | Row 1   | Row 1   |\n",
    "|  $E_{iso}$   |  Row 3   |  Row 3   | Row 1   | Row 1   |\n",
    "|  $\\eta_0$   |  Row 3   |  Row 3   | Row 1   | Row 1   |\n",
    "|  $\\gamma_B$   |  Row 3   |  Row 3   | Row 1   | Row 1   |\n",
    "|  $\\epsilon_B$   |  Row 3   |  Row 3   | Row 1   | Row 1   |\n",
    "|  $\\epsilon_E$   |  Row 3   |  Row 3   | Row 1   | Row 1   |\n",
    "|  $\\xi_N$   |  Row 3   |  Row 3   | Row 1   | Row 1   |\n",
    "|  $d_L$   |  Row 3   |  Row 3   | Row 1   | Row 1   |\n",
    "|  $z$   |  Row 3   |  Row 3   | Row 1   | Row 1   |\n",
    "|  $b$   |  Row 3   |  Row 3   | Row 1   | Row 1   |"
   ]
  },
  {
   "cell_type": "markdown",
   "metadata": {},
   "source": []
  },
  {
   "cell_type": "code",
   "execution_count": 39,
   "metadata": {},
   "outputs": [],
   "source": [
    "# #Theta Linspace\n",
    "# theta = np.linspace(0, np.pi, 1000) \n",
    "\n",
    "# #Constructing the Eiso linspace\n",
    "# theta_c = D['theta_0']\n",
    "# b = A['b']\n",
    "# E_0 = 1.0208249320351635e+53\n",
    "# gb = D['GammaB']\n",
    "# e0 = D['Eta0']\n",
    "\n",
    "# # Top Hat np.heaviside(-thetalinsp+theta_c,thetalinsp[999]- theta_c)\n",
    "# Eiso_th = E_0*np.heaviside(-theta+theta_c,theta[999]-theta_c) # Using the heaviside funcion that is 0 for x < 0 and 1 for x > 1 with x running from 1 to -9 to get only a small potion that is = 1 with sharp edges\n",
    "\n",
    "# # Gaussian\n",
    "# Eiso_g = E_0*np.exp(-0.5*(theta/theta_c)**2) \n",
    "\n",
    "# # Power-Law\n",
    "# Eiso_pl = E_0*( 1 + (1/b)*(theta/theta_c)**2 )**(-b/2)\n",
    "\n",
    "# # Boosted Fireball\n",
    "# v0 = np.sqrt(1 - 1/e0**2)\n",
    "# vb = np.sqrt(1 - 1/gb**2) \n",
    "# sin_fact = gb*vb*np.sin(theta) #convert_deg_to_rad(thetalinsp)\n",
    "# gamma_max_0 = gb*(e0 + vb*e0*v0)\n",
    "# gamma_max = gb*(e0 + vb*np.cos(theta))*np.sqrt((e0*v0)**2 - sin_fact**2)/(1 + sin_fact**2)\n",
    "# #Eiso = (E_0/4*np.pi)*(gamma_max/gamma_max_0)**3\n",
    "\n",
    "# #Eiso = B[\"E\"] * np.exp(- 0.5 * (theta / B[\"theta_0\"]) ** 2)\n",
    "\n",
    "# # Lorentz fator\n",
    "# lf = (calc_lf(D['Eta0'], D['GammaB']) - 1) * np.exp(- 0.5 * (theta / D[\"theta_0\"]) ** 2) + 1"
   ]
  },
  {
   "cell_type": "markdown",
   "metadata": {},
   "source": [
    "### Attempt to verify that only the ratio $\\theta_{obs}$/$\\theta_j$ is constrained"
   ]
  },
  {
   "cell_type": "code",
   "execution_count": null,
   "metadata": {},
   "outputs": [],
   "source": [
    "def time_flux_peaks(Fnu, t):\n",
    "    \n",
    "    Fnu_peak = np.max(Fnu)\n",
    "    t_peak = t[np.argmax(Fnu)]\n",
    "\n",
    "    return Fnu_peak, t_peak\n",
    "import random\n",
    "\n",
    "print(np.random.uniform(1,10))\n",
    "#Rescaling as in Nakar\n",
    "\n",
    "def rescaling( theta_obs, theta_0,E, n, epse, nu, d_L,p, Fl, t, ): #maybe change this with **kwargs but beware that not all dictionnaries have the same key name for the same physical variable (or the same scale, check jetfit)\n",
    "\n",
    "    #Get the old ratio, should be constrained between 10 and 3\n",
    "    ratio = theta_obs/theta_0\n",
    "    print('The ratio is', ratio)\n",
    "\n",
    "    #Get the new angle values with the same ratio, theta_obs contrained between 0 and 1.57, theta_0 between 0.045 and 0.5, wrote a statement in case out of bounds\n",
    "    theta_obs_re = np.random.uniform(0.045*ratio,1.57)\n",
    "    theta_0_re = theta_obs_re/ratio\n",
    "\n",
    "    if theta_0_re > 0.5 or theta_0_re < 0.045:\n",
    "        print('Random theta j out of bounds for this ratio and theta obs', theta_0_re)\n",
    "\n",
    "    #Get the previous t_peak and f_peak\n",
    "    Fl_peak, t_peak = time_flux_peaks(Fl, t)\n",
    "\n",
    "    #Get the new t_peak and F_peak\n",
    "    n_re = (((theta_obs_re - theta_0_re)**2*E**(1/3))/t_peak)**(1/3)\n",
    "    epsb_re = ((Fl_peak)/E*(n**(p+1/4))*(epse**(p-1))*(theta_obs**(-2*p))*(nu**(-(p-1)/2))*(d_L**-2))**(4/p+1)\n",
    "\n",
    "    #Calculate the \n",
    "    return theta_obs_re, theta_0_re, epsb_re, n_re\n",
    "rescaling(D['theta_obs'], D['theta_0'], D['E'], D['n'], D['epsilon_E'], freqs[0], D['d_L'], D['p'], Fl_box, time_box)"
   ]
  },
  {
   "cell_type": "markdown",
   "metadata": {},
   "source": []
  },
  {
   "cell_type": "code",
   "execution_count": null,
   "metadata": {},
   "outputs": [],
   "source": [
    "# Function to calculate the flux with JetFit for spectra\n",
    "def get_integrated_jetfit(P): \n",
    "\n",
    "    # The function takes as an input an array with two columns, so splitting the data into two arrays with points (because points/2 fails)\n",
    "    mid_point = freqs[int(points/2)]\n",
    "    nus_col   = np.column_stack((np.geomspace(nu_min, mid_point, points), np.geomspace(mid_point, nu_max, points)))\n",
    "    \n",
    "    Fsjet = np.asarray(FluxGenerator.GetIntegratedFlux(time, nus_col, P))\n",
    "\n",
    "    return nus_col, Fsjet"
   ]
  },
  {
   "cell_type": "markdown",
   "metadata": {},
   "source": []
  },
  {
   "cell_type": "markdown",
   "metadata": {},
   "source": []
  },
  {
   "cell_type": "markdown",
   "metadata": {},
   "source": []
  },
  {
   "cell_type": "markdown",
   "metadata": {},
   "source": []
  },
  {
   "cell_type": "markdown",
   "metadata": {},
   "source": []
  },
  {
   "cell_type": "markdown",
   "metadata": {},
   "source": []
  }
 ],
 "metadata": {
  "kernelspec": {
   "display_name": "JetFit",
   "language": "python",
   "name": "python3"
  },
  "language_info": {
   "codemirror_mode": {
    "name": "ipython",
    "version": 3
   },
   "file_extension": ".py",
   "mimetype": "text/x-python",
   "name": "python",
   "nbconvert_exporter": "python",
   "pygments_lexer": "ipython3",
   "version": "3.12.2"
  }
 },
 "nbformat": 4,
 "nbformat_minor": 2
}
