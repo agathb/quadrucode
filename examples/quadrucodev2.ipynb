{
 "cells": [
  {
   "cell_type": "code",
   "execution_count": 1,
   "metadata": {},
   "outputs": [],
   "source": [
    "import numpy as np\n",
    "import emcee as em\n",
    "import pandas as pd\n",
    "\n",
    "#import sys\n",
    "#sys.path.append(\"/home/agath/anaconda3/envs/JetFit/lib/python3.12/site-packages/afterglowpy/\")\n",
    "import afterglowpy as grb\n",
    "\n",
    "#from DeepGlow import Emulator\n",
    "\n",
    "from FitterClass import *\n",
    "from FluxGeneratorClass import *\n",
    "from collections import defaultdict\n",
    "\n",
    "import matplotlib.pyplot as plt #For plotting\n",
    "\n",
    "#import jetsimpy"
   ]
  },
  {
   "cell_type": "code",
   "execution_count": 2,
   "metadata": {},
   "outputs": [],
   "source": [
    "#Parameters for JetFit\n",
    "Table = \"./Table.h5\"\n",
    "\n",
    "#Importing the files from BOXFIT\n",
    "settings = '/home/agath/boxfitoutput/boxfitsettings.txt'\n",
    "lightcurve_box = '/home/agath/boxfitoutput/lightcurve.txt'\n",
    "spectrum_box = '/home/agath/boxfitoutput/spectrum.txt'\n",
    "\n",
    "#Data from GW170817\n",
    "gw = '/home/agath/boxfitoutput/GW170817_3GHz_VLAobs.txt'"
   ]
  },
  {
   "cell_type": "markdown",
   "metadata": {},
   "source": [
    "### Boxfit\n",
    "\n",
    "To import the input parameters, and keep them for the rest of the code, and get the output values of BoxFit"
   ]
  },
  {
   "cell_type": "code",
   "execution_count": 3,
   "metadata": {},
   "outputs": [],
   "source": [
    "def read_boxfit(settings): #Read the parameters from boxfit and apply them to afterglowpy and maybe jetfit\n",
    "    B = {} #Declare an empty dictionary\n",
    "    with open(settings,'r') as f:\n",
    "        for line in f:\n",
    "            #Check if line is not an overall comment and has an equal and a comment to describe the parameter\n",
    "            if not line.strip().startswith('!') and '=' in line and '!' in line: \n",
    "                keyval_extra = line.strip().split('!') #Split the key + value from the comment using the !\n",
    "                key_value = keyval_extra[0].split('=') #Split the key from the value using the = \n",
    "                key, value = key_value[0].strip(), key_value[1].strip() #Store them\n",
    "                \n",
    "                #If the value is a number, store it in B, and convert it from a str to a float\n",
    "                if value.isdigit() or 'e-' in value or 'e' in value or '.' in value:\n",
    "                    if not '.txt' in value: #Because simplex and grbdata could get past this point\n",
    "                        B[key] = float(value) \n",
    "    return B"
   ]
  },
  {
   "cell_type": "code",
   "execution_count": 4,
   "metadata": {},
   "outputs": [],
   "source": [
    "B = read_boxfit(settings)"
   ]
  },
  {
   "cell_type": "code",
   "execution_count": 5,
   "metadata": {},
   "outputs": [],
   "source": [
    "#Parameters common to all three models\n",
    "t_min = B['t_0']\n",
    "t_max = B['t_1'] \n",
    "\n",
    "nu_min = B['nu_0']\n",
    "nu_max = B['nu_1']\n",
    "\n",
    "points = int(B['no_points'])"
   ]
  },
  {
   "cell_type": "code",
   "execution_count": 6,
   "metadata": {},
   "outputs": [],
   "source": [
    "#The corresponding linspaces\n",
    "tl = np.geomspace(t_min, t_max, points)\n",
    "nus = np.geomspace(nu_min, nu_max, points)\n",
    "\n",
    "nul = np.ones(nus.shape)*nu_min\n",
    "ts = np.ones(tl.shape)*t_min"
   ]
  },
  {
   "cell_type": "code",
   "execution_count": 7,
   "metadata": {},
   "outputs": [],
   "source": [
    "#Initialize the lists for Boxfit\n",
    "tbox =  []\n",
    "nubox =  []\n",
    "Flbox =  []\n",
    "Fnubox =  []\n",
    "\n",
    "def read_data_box(f, lightcurve = True): #lightcurve = true when getting the lightcurve data, = false for the spectrum\n",
    "    #Dummy index\n",
    "    i = 0\n",
    "\n",
    "    #Loop on the line\n",
    "    for line in f:\n",
    "\n",
    "        #Ignore line if it's a comment\n",
    "        if line.startswith('#'):\n",
    "            i = i + 1\n",
    "            continue  # The loop restarts\n",
    "    \n",
    "        #Split line into columns and remove the commas\n",
    "        columns = line.strip().replace(',','').split()  \n",
    "\n",
    "        #Add data to lists        \n",
    "        if lightcurve == True:\n",
    "            tbox.append(float(columns[1]))\n",
    "            Flbox.append(float(columns[3]))\n",
    "        else:\n",
    "            nubox.append(float(columns[2]))\n",
    "            Fnubox.append(float(columns[3]))\n",
    "            \n",
    "        \n",
    "\n",
    "# To read the data from Boxfit and plot it \n",
    "with open(lightcurve_box, 'r') as f1, open(spectrum_box, 'r') as f2:\n",
    "    read_data_box(f1, lightcurve=True)\n",
    "    read_data_box(f2,lightcurve=False)\n",
    "\n",
    "# Convert lists to arrays\n",
    "tbox = np.array(tbox) #Just here to make sure it's the same as the linspace, same for nu\n",
    "nubox = np.array(nubox)\n",
    "Fnubox = np.array(Fnubox)\n",
    "Flbox = np.array(Flbox)\n"
   ]
  },
  {
   "cell_type": "code",
   "execution_count": 8,
   "metadata": {},
   "outputs": [],
   "source": [
    "# print(convert_E_Eiso(2.5e50,B['theta_0']))"
   ]
  },
  {
   "cell_type": "code",
   "execution_count": 9,
   "metadata": {},
   "outputs": [],
   "source": [
    "#print('be',B['E'],'je',J['E'],'log10je',np.log(J['E']),'10**jE',10**J['E'],'Ae',A['E0'])\n",
    "#print('bn',B['n'],'jn',J['n'],'log10jn',np.log(J['n']),'10**jn',10**J['n'],'an',A['n0'])"
   ]
  },
  {
   "cell_type": "markdown",
   "metadata": {},
   "source": [
    "Small useful functions "
   ]
  },
  {
   "cell_type": "code",
   "execution_count": 10,
   "metadata": {},
   "outputs": [],
   "source": [
    "#Converts E to Eiso\n",
    "def convert_E_Eiso(E,theta):\n",
    "    #Theta being the half opening angle of the jet\n",
    "    Eiso = 2*E/(1-np.cos(theta/2)) #\n",
    "    return Eiso "
   ]
  },
  {
   "cell_type": "code",
   "execution_count": 11,
   "metadata": {},
   "outputs": [],
   "source": [
    "#Converts Eiso to E\n",
    "def convert_Eiso_E(Eiso,theta):\n",
    "    #Theta being the half opening angle of the jet\n",
    "    E = Eiso*(1-np.cos(theta/2))/2 #\n",
    "    return E "
   ]
  },
  {
   "cell_type": "code",
   "execution_count": 12,
   "metadata": {},
   "outputs": [],
   "source": [
    "# convert_Eiso_E(8.2e53,B['theta_0'])"
   ]
  },
  {
   "cell_type": "code",
   "execution_count": 13,
   "metadata": {},
   "outputs": [],
   "source": [
    "#Converts time in s to time in days\n",
    "def convert_ts_td(t):\n",
    "    return t/(60*60*24)"
   ]
  },
  {
   "cell_type": "code",
   "execution_count": 14,
   "metadata": {},
   "outputs": [],
   "source": [
    "#Calculate the lorentz factor \n",
    "def calc_lf(eta_0, gamma_B):\n",
    "    gamma = 2*eta_0*gamma_B\n",
    "    return gamma"
   ]
  },
  {
   "cell_type": "markdown",
   "metadata": {},
   "source": [
    "### Afterglowpy"
   ]
  },
  {
   "cell_type": "code",
   "execution_count": 15,
   "metadata": {},
   "outputs": [],
   "source": [
    "#Afterglowpy dictionary contining the specifics of the jet and environment parameters\n",
    "A = {'jetType':     grb.jet.TopHat,     # Top-Hat jet\n",
    "     'specType':    0,                  # Basic Synchrotron Spectrum\n",
    "     'thetaWing':   B['theta_obs'],  # Outer truncation angle\n",
    "     'thetaObs':    B['theta_obs'],   # Viewing angle in radians, (roughly 20 degrees)\n",
    "     'E0':          B['E'], # Isotropic-equivalent energy in erg\n",
    "     'thetaCore':   B['theta_0'],    # Half-opening angle in radians\n",
    "     'n0':          B['n'],    # circumburst density in cm^{-3}\n",
    "     'p':           B['p'],    # electron energy distribution index\n",
    "     'epsilon_e':   B['epsilon_E'],    # epsilon_e\n",
    "     'epsilon_B':   B['epsilon_B'],   # epsilon_B\n",
    "     'xi_N':        B['ksi_N'],    # Fraction of electrons accelerated\n",
    "     'd_L':         B['d_L'], # Luminosity distance in cm (40Mpc)\n",
    "     'z':           B['z'],   # redshift\n",
    "     'b':           4.5}  #power for power-law structure theta**(-b)\n",
    "\n"
   ]
  },
  {
   "cell_type": "code",
   "execution_count": 16,
   "metadata": {},
   "outputs": [],
   "source": [
    "def light_curve_afterglowpy(A):\n",
    "    # Calculate the flux for both\n",
    "    Fnula = grb.fluxDensity(tl, nul, **A)\n",
    "    Fnusa = grb.fluxDensity(ts, nus, **A)\n",
    "\n",
    "    return Fnula, Fnusa\n",
    "\n",
    "Fnula, Fnusa = light_curve_afterglowpy(A)"
   ]
  },
  {
   "cell_type": "code",
   "execution_count": 17,
   "metadata": {},
   "outputs": [],
   "source": [
    "#Get multiple geometries from Afterglowpy\n",
    "types_jets = [grb.jet.TopHat, grb.jet.Gaussian, grb.jet.GaussianCore, grb.jet.PowerLaw, grb.jet.PowerLawCore]\n",
    "name_types_jets = ['TopHat', 'Gaussian', 'GaussianCore', 'PowerLaw', 'PowerLawCore']\n",
    "\n",
    "afterglowpys = [light_curve_afterglowpy(A) for A['jetType'] in types_jets]\n",
    "\n",
    "#print(np.shape(afterglowpys))"
   ]
  },
  {
   "cell_type": "markdown",
   "metadata": {},
   "source": [
    "### DeepGlow"
   ]
  },
  {
   "cell_type": "code",
   "execution_count": 18,
   "metadata": {},
   "outputs": [],
   "source": [
    "#Insert here the training code for DeepGlow"
   ]
  },
  {
   "cell_type": "code",
   "execution_count": 19,
   "metadata": {},
   "outputs": [],
   "source": [
    "# #For DeepGlow\n",
    "# model = Emulator(simtype='ism')\n",
    "\n",
    "# abs_factor = (B['p'] - 2)/(B['p'] - 1)\n",
    "\n",
    "# deep_array = [B['z'],           #redshift\n",
    "#               np.log10(B['d_L']/10**28),    #luminosity distance (log10 of 10^28 cm)\n",
    "#               np.log10(B['E']/10**53),    #isotropic-equivalent energy (log10 of 10^53 erg)\n",
    "#               np.log10(B['n']),     #circumburst medium density (log10 of cm^-3)\n",
    "#               B['theta_0'],    #jet half-opening angle (rad)\n",
    "#               B['theta_obs']/B['theta_0'],   #off-axis observer angle as a fraction of the jet half-opening angle\n",
    "#               B['p'],    #electron spectral index\n",
    "#               np.log10(B['epsilon_E']*abs_factor),   # energy fraction in accelerated electrons (in log10), with factor of (p-2)/p-1 absorbed\n",
    "#               np.log10(B['epsilon_B']),  #energy fraction in magnetic field (in log10)\n",
    "#               np.log10(B['ksi_N'])  #fraction of electrons accelerated (in log10)\n",
    "#               ]\n",
    "\n",
    "# Fldeep = model.flux(params=deep_array, t_obs=tl, nu_obs=nul)\n"
   ]
  },
  {
   "cell_type": "markdown",
   "metadata": {},
   "source": [
    "### JetFit"
   ]
  },
  {
   "cell_type": "code",
   "execution_count": 20,
   "metadata": {},
   "outputs": [],
   "source": [
    "#JetFit informations\n",
    "Info = {\n",
    "    'Fit': np.array(['E', 'Eta0', 'GammaB','theta_obs','epsb','epse','n','p','z','xiN','dL','theta_obs']),         # Fitting parameters (Parameter names see P dictionary below)\n",
    "    'Log': np.array([]),        # Set parameters in log scale 'E','n','epse','epsb' (mesured in log for mcmc analysis)\n",
    "    'LogType': 'Log10',                              # Log scale type: Log10 or Log\n",
    "    'ThetaObsPrior': 'Sine',                         # Prior for observation angle: Sine or Uniform\n",
    "    'FluxType': 'Spectral'                           # Flux type: Spectral or Integrated\n",
    "}\n",
    "\n",
    "#JetFit bounds for parameters in linear scale\n",
    "FitBound = {\n",
    "    'E': np.array([1e-6, 1e3]),\n",
    "    'n': np.array([1e-6, 1e3]),\n",
    "    'Eta0': np.array([2.,10.]),\n",
    "    'GammaB': np.array([1.,12.]),\n",
    "    'theta_obs': np.array([0.,1.]),\n",
    "    'epse': np.array([1e-6,1.]),\n",
    "    'epsb': np.array([1e-6,1.]),\n",
    "    'p': np.array([2.,4.])\n",
    "}\n",
    "\n",
    "#JetFit dict\n",
    "Explore = False # For non-fiting parameters, P set default values. \n",
    "\n",
    "J = {\n",
    "    'E': convert_Eiso_E(B['E'],B['theta_0'])/10**50, #E/10^50 convert_Eiso_E(B['E'],B['theta_0'])\n",
    "    'Eta0': 8,\n",
    "    'GammaB': 12,\n",
    "    'dL': B['d_L']/10**28, #dl/10^28 cm\n",
    "    'epsb': 7e-6, #B['epsilon_B']\n",
    "    'epse': B['epsilon_E'],\n",
    "    'n': B['n'], #np/1 cm-3\n",
    "    'p': B['p'],\n",
    "    'theta_obs': B['theta_obs'],\n",
    "    'xiN': B['ksi_N'],\n",
    "    'z': B['z']\n",
    "}\n"
   ]
  },
  {
   "cell_type": "code",
   "execution_count": 21,
   "metadata": {},
   "outputs": [],
   "source": [
    "#Calculates the range for time with respect to the bounds of tau for jetfit\n",
    "\n",
    "def range_time_tau():\n",
    "    #print('jn',J['n'],'je',J['E'],'jz',J['z'],'tmin',t_min,'tmax',t_max)\n",
    "\n",
    "    #The range and formula from the paper\n",
    "    tau_min = 8.64e2\n",
    "    tau_max = 8.64e7\n",
    "    scale = (1. + J['z'])*(J['E']/J['n'])**(1./3.)\n",
    "    ti = tau_min*scale\n",
    "    tf = tau_max*scale\n",
    "\n",
    "    print('The time range allowed by tau is: [',\"{:e}\".format(ti),',',\"{:e}\".format(tf),']')\n",
    "\n",
    "    if t_min < ti:\n",
    "        print('The lower boundary is out of bounds:', \"{:e}\".format(t_min), 'is lower than', \"{:e}\".format(ti))\n",
    "    elif t_max > tf:\n",
    "        print('The upper boundary is out of bounds:', \"{:e}\".format(t_max),'is higher than', \"{:e}\".format(tf))\n",
    "    else:\n",
    "        print('The values are within the time range')\n",
    "    return ti, tf"
   ]
  },
  {
   "cell_type": "code",
   "execution_count": 22,
   "metadata": {},
   "outputs": [],
   "source": [
    "#For JetFit\n",
    "def Log2Linear(Log, Info):\n",
    "    Linear = {} #Defined as a dictionary\n",
    "    for i, key in enumerate(Info['Fit']): #Going through all the parameters\n",
    "        if key in Info['Log']:  #If it is in logscale, then use the exponential or 10^X\n",
    "            if Info['LogType'] == 'Log10':\n",
    "                Linear[key] = np.power(10.,Log[key])\n",
    "            else:\n",
    "                Linear[key] = np.exp(Log[key])\n",
    "        else:\n",
    "            Linear[key] = Log[key]\n",
    "    # print(Linear['E'],Linear) #Debug statement to see the full dict\n",
    "    return Linear\n"
   ]
  },
  {
   "cell_type": "code",
   "execution_count": 23,
   "metadata": {},
   "outputs": [],
   "source": [
    "def light_curve_jetfit(P):\n",
    "\n",
    "    ti, tf = range_time_tau()\n",
    "    #print(FluxGenerator.Axes[0])\n",
    "\n",
    "    #Calculate flux\n",
    "    flux_jet = np.asarray(FluxGenerator.GetSpectral(tl, nul, P))\n",
    "    print('flux', flux_jet)\n",
    "\n",
    "    return flux_jet"
   ]
  },
  {
   "cell_type": "code",
   "execution_count": 24,
   "metadata": {},
   "outputs": [
    {
     "name": "stdout",
     "output_type": "stream",
     "text": [
      "The time range allowed by tau is: [ 5.494067e+03 , 5.494067e+08 ]\n",
      "The values are within the time range\n",
      "Made it to the if\n",
      "break1\n",
      "break2\n",
      "sucessfully through the if\n",
      "flux [0.00013928 0.00017828 0.00022672 0.00028685 0.00036293 0.00045918\n",
      " 0.00056361 0.0006889  0.00084205 0.00102182 0.00120502 0.00142107\n",
      " 0.00167585 0.00197481 0.0023255  0.00273847 0.00322477 0.00376425\n",
      " 0.00438709 0.00511298 0.0059183  0.00662665 0.00741978 0.00830784\n",
      " 0.00924182 0.01021243 0.01128498 0.01247016 0.01357085 0.01471813\n",
      " 0.01596239 0.01726785 0.01838936 0.0195837  0.02085562 0.02221796\n",
      " 0.02367896 0.02523604 0.02689551 0.02852614 0.03021578 0.03200548\n",
      " 0.03388643 0.03574935 0.03771468 0.03978806 0.04182355 0.04375344\n",
      " 0.04577238 0.04788448 0.05062998 0.05371905 0.05699659 0.0604036\n",
      " 0.06312434 0.06596764 0.068939   0.07227412 0.07613389 0.08019979\n",
      " 0.08448283 0.08891901 0.09355763 0.09843823 0.10335113 0.10373553\n",
      " 0.10412137 0.10450863 0.10392196 0.10169716 0.09951999 0.09738942\n",
      " 0.08896389 0.07880742 0.06981046 0.0618241  0.05374736 0.04672577\n",
      " 0.04062149 0.03500694 0.02965369 0.02511905 0.02127785 0.01814055\n",
      " 0.01551724 0.01327329 0.01135383 0.00978116 0.00842737 0.00726095\n",
      " 0.00629418 0.00553206 0.00486222 0.00427348 0.00378482 0.00336719\n",
      " 0.00299564 0.00266509 0.00238991 0.00214401]\n"
     ]
    }
   ],
   "source": [
    "#Transform the log variables from the P dictionnary to linear ones\n",
    "J = Log2Linear(J,Info) \n",
    "\n",
    "#Create FluxGeneratorClass based on the given table\n",
    "FluxGenerator = FluxGeneratorClass(Table)\n",
    "\n",
    "#Get the lightcurve from the function\n",
    "Fljet = light_curve_jetfit(J)"
   ]
  },
  {
   "cell_type": "code",
   "execution_count": 25,
   "metadata": {},
   "outputs": [
    {
     "name": "stdout",
     "output_type": "stream",
     "text": [
      "Made it to the if\n",
      "break1\n",
      "break2\n",
      "sucessfully through the if\n",
      "[2.91411312e-18 3.08310517e-18 3.26189719e-18 3.45105752e-18\n",
      " 3.65118740e-18 3.86292297e-18 4.08693726e-18 4.32394231e-18\n",
      " 4.57469148e-18 4.83998178e-18 5.12065647e-18 5.41760770e-18\n",
      " 5.73177937e-18 6.06417008e-18 6.41583639e-18 6.78789608e-18\n",
      " 7.18153180e-18 7.59799474e-18 8.03860867e-18 8.50477413e-18\n",
      " 8.99797286e-18 9.51977255e-18 1.00718318e-17 1.06559053e-17\n",
      " 1.12738496e-17 1.19276290e-17 1.26193215e-17 1.33511258e-17\n",
      " 1.41253678e-17 1.49445087e-17 1.58111521e-17 1.67280528e-17\n",
      " 1.76981251e-17 1.87244526e-17 1.98102975e-17 2.09591112e-17\n",
      " 2.21745454e-17 2.34604633e-17 2.48209525e-17 2.62603373e-17\n",
      " 2.77831929e-17 2.93943599e-17 3.10989594e-17 3.29024097e-17\n",
      " 3.48104432e-17 3.68291247e-17 3.89648707e-17 4.12244699e-17\n",
      " 4.36151046e-17 4.61443735e-17 4.88203162e-17 5.16514384e-17\n",
      " 5.46467389e-17 5.78157386e-17 6.11685103e-17 6.47157111e-17\n",
      " 6.84686160e-17 7.24391539e-17 7.66399454e-17 8.10843430e-17\n",
      " 8.57864735e-17 9.07612831e-17 9.60245843e-17 1.01593107e-16\n",
      " 1.07484551e-16 1.13717643e-16 1.20312195e-16 1.27289169e-16\n",
      " 1.34670740e-16 1.42480372e-16 1.50742889e-16 1.59484553e-16\n",
      " 1.68733149e-16 1.78518076e-16 1.88870436e-16 1.99823133e-16\n",
      " 2.11410982e-16 2.23670816e-16 2.36641602e-16 2.50364570e-16\n",
      " 2.64883338e-16 2.80244056e-16 2.96495549e-16 3.13689471e-16\n",
      " 3.31880476e-16 3.51126385e-16 3.71488371e-16 3.93031157e-16\n",
      " 4.15823217e-16 4.39936997e-16 4.65449143e-16 4.92440749e-16\n",
      " 5.20997607e-16 5.51210487e-16 5.83175422e-16 6.16994015e-16\n",
      " 6.52773760e-16 6.90628383e-16 7.30678208e-16 7.73050536e-16]\n"
     ]
    }
   ],
   "source": [
    "def get_integrated_jetfit(P):\n",
    "\n",
    "    #The function takes as an input an array with two columns, so we split the data into two arrays with points (because points/2 fails)\n",
    "    mid_point = nus[int(points/2)]\n",
    "    nus_col = np.column_stack((np.geomspace(nu_min, mid_point, points), np.geomspace(mid_point, nu_max, points)))\n",
    "    \n",
    "    #print('time', time)\n",
    "    #Calculate flux\n",
    "    Fsjet = np.asarray(FluxGenerator.GetIntegratedFlux(ts, nus_col, P))\n",
    "    print(Fsjet)\n",
    "\n",
    "    return nus_col, Fsjet\n",
    "\n",
    "nusj, Fsjet = get_integrated_jetfit(J)"
   ]
  },
  {
   "cell_type": "markdown",
   "metadata": {},
   "source": [
    "### JetSimpy"
   ]
  },
  {
   "cell_type": "code",
   "execution_count": 26,
   "metadata": {},
   "outputs": [],
   "source": [
    "import jetsimpy"
   ]
  },
  {
   "cell_type": "code",
   "execution_count": 27,
   "metadata": {},
   "outputs": [
    {
     "name": "stdout",
     "output_type": "stream",
     "text": [
      "192\n"
     ]
    }
   ],
   "source": [
    "print(calc_lf(J['Eta0'], J['GammaB']))"
   ]
  },
  {
   "cell_type": "code",
   "execution_count": 28,
   "metadata": {},
   "outputs": [],
   "source": [
    "JS = dict(\n",
    "    Eiso = B['E'],        # (Jet) Isotropic equivalent energy\n",
    "    lf = calc_lf(J['Eta0'], J['GammaB']),           # (Jet) Lorentz factor\n",
    "    theta_c = B['theta_0'],      # (Jet) half opening angle\n",
    "    n0 = B['n'],             # (ISM) constant number density\n",
    "    k = 0,            # (ISM) wind power index\n",
    "    A = 0,              # (ISM) wind amplitude\n",
    "    eps_e = B['epsilon_E'],        # (Radiation) epsilon_e\n",
    "    eps_b = B['epsilon_B'],       # (Radiation) epsilon_b\n",
    "    p = B['p'],           # (Radiation) electron power index\n",
    "    theta_v = B['theta_obs'],      # (Radiation) viewing angle\n",
    "    d = B['d_L'],         # (radiation) distance (Mpc)\n",
    "    z = B['z'],            # (radiation) redshift\n",
    "    b = 1,              # (radiation) magnetic field anisotropy\n",
    ")"
   ]
  },
  {
   "cell_type": "code",
   "execution_count": 29,
   "metadata": {},
   "outputs": [],
   "source": [
    "theta = theta = np.linspace(0, np.pi, 1000) #np.linspace(0.045,B['theta_obs'],100)\n",
    "Eiso = B[\"E\"] * np.exp(- 0.5 * (theta / B[\"theta_0\"]) ** 2)\n",
    "lf = (calc_lf(J['Eta0'], J['GammaB']) - 1) * np.exp(- 0.5 * (theta / B[\"theta_0\"]) ** 2) + 1\n",
    "\n",
    "jet1 = jetsimpy.Afterglow(\n",
    "    theta,           # array of theta\n",
    "    Eiso,            # array of isotropic equivalent energy\n",
    "    lf,              # array of initial lorentz factor\n",
    "    0,          # scale of wind density\n",
    "    B['n'],         # constant number density\n",
    "    spread=False,    # (default = True) with/without spreading effect \n",
    "    coast=False,      # (default = True) with/without coasting. If this is \"False\", the initial lorentz factor data will be omitted.\n",
    ")"
   ]
  },
  {
   "cell_type": "code",
   "execution_count": 30,
   "metadata": {},
   "outputs": [],
   "source": [
    "# calculate the afterglow flux density (unit: mJy)\n",
    "\n",
    "tday = np.logspace(-2, 3, 100)\n",
    "tsec = tday* 3600 * 24\n",
    "#time_log = np.log(tl)\n",
    "\n",
    "Fl_js = jet1.FluxDensity(\n",
    "    tl,           # [second] observing time span\n",
    "    nul,                # [Hz]     observing frequency\n",
    "    JS,                 # parameter dictionary for radiation\n",
    "    rtol=1e-2,         # (default=1e-2) integration error tolerance\n",
    "    model=\"sync\",      # default radiation model\n",
    ")"
   ]
  },
  {
   "cell_type": "code",
   "execution_count": 31,
   "metadata": {},
   "outputs": [
    {
     "name": "stdout",
     "output_type": "stream",
     "text": [
      "[1.00000000e-02 1.12332403e-02 1.26185688e-02 1.41747416e-02\n",
      " 1.59228279e-02 1.78864953e-02 2.00923300e-02 2.25701972e-02\n",
      " 2.53536449e-02 2.84803587e-02 3.19926714e-02 3.59381366e-02\n",
      " 4.03701726e-02 4.53487851e-02 5.09413801e-02 5.72236766e-02\n",
      " 6.42807312e-02 7.22080902e-02 8.11130831e-02 9.11162756e-02\n",
      " 1.02353102e-01 1.14975700e-01 1.29154967e-01 1.45082878e-01\n",
      " 1.62975083e-01 1.83073828e-01 2.05651231e-01 2.31012970e-01\n",
      " 2.59502421e-01 2.91505306e-01 3.27454916e-01 3.67837977e-01\n",
      " 4.13201240e-01 4.64158883e-01 5.21400829e-01 5.85702082e-01\n",
      " 6.57933225e-01 7.39072203e-01 8.30217568e-01 9.32603347e-01\n",
      " 1.04761575e+00 1.17681195e+00 1.32194115e+00 1.48496826e+00\n",
      " 1.66810054e+00 1.87381742e+00 2.10490414e+00 2.36448941e+00\n",
      " 2.65608778e+00 2.98364724e+00 3.35160265e+00 3.76493581e+00\n",
      " 4.22924287e+00 4.75081016e+00 5.33669923e+00 5.99484250e+00\n",
      " 6.73415066e+00 7.56463328e+00 8.49753436e+00 9.54548457e+00\n",
      " 1.07226722e+01 1.20450354e+01 1.35304777e+01 1.51991108e+01\n",
      " 1.70735265e+01 1.91791026e+01 2.15443469e+01 2.42012826e+01\n",
      " 2.71858824e+01 3.05385551e+01 3.43046929e+01 3.85352859e+01\n",
      " 4.32876128e+01 4.86260158e+01 5.46227722e+01 6.13590727e+01\n",
      " 6.89261210e+01 7.74263683e+01 8.69749003e+01 9.77009957e+01\n",
      " 1.09749877e+02 1.23284674e+02 1.38488637e+02 1.55567614e+02\n",
      " 1.74752840e+02 1.96304065e+02 2.20513074e+02 2.47707636e+02\n",
      " 2.78255940e+02 3.12571585e+02 3.51119173e+02 3.94420606e+02\n",
      " 4.43062146e+02 4.97702356e+02 5.59081018e+02 6.28029144e+02\n",
      " 7.05480231e+02 7.92482898e+02 8.90215085e+02 1.00000000e+03] [8.64000000e+02 9.70551964e+02 1.09024435e+03 1.22469768e+03\n",
      " 1.37573233e+03 1.54539319e+03 1.73597731e+03 1.95006504e+03\n",
      " 2.19055492e+03 2.46070299e+03 2.76416681e+03 3.10505501e+03\n",
      " 3.48798291e+03 3.91813503e+03 4.40133524e+03 4.94412566e+03\n",
      " 5.55385517e+03 6.23877899e+03 7.00817038e+03 7.87244621e+03\n",
      " 8.84330803e+03 9.93390044e+03 1.11589891e+04 1.25351606e+04\n",
      " 1.40810472e+04 1.58175787e+04 1.77682663e+04 1.99595206e+04\n",
      " 2.24210092e+04 2.51860585e+04 2.82921048e+04 3.17812012e+04\n",
      " 3.57005871e+04 4.01033275e+04 4.50490316e+04 5.06046599e+04\n",
      " 5.68454306e+04 6.38558384e+04 7.17307979e+04 8.05769292e+04\n",
      " 9.05140010e+04 1.01676553e+05 1.14215715e+05 1.28301258e+05\n",
      " 1.44123886e+05 1.61897825e+05 1.81863718e+05 2.04291885e+05\n",
      " 2.29485984e+05 2.57787122e+05 2.89578469e+05 3.25290454e+05\n",
      " 3.65406584e+05 4.10469998e+05 4.61090814e+05 5.17954392e+05\n",
      " 5.81830617e+05 6.53584315e+05 7.34186969e+05 8.24729867e+05\n",
      " 9.26438880e+05 1.04069106e+06 1.16903328e+06 1.31320318e+06\n",
      " 1.47515269e+06 1.65707447e+06 1.86143157e+06 2.09099082e+06\n",
      " 2.34886024e+06 2.63853116e+06 2.96392546e+06 3.32944870e+06\n",
      " 3.74004975e+06 4.20128777e+06 4.71940752e+06 5.30142388e+06\n",
      " 5.95521686e+06 6.68963822e+06 7.51463138e+06 8.44136603e+06\n",
      " 9.48238933e+06 1.06517958e+07 1.19654182e+07 1.34410419e+07\n",
      " 1.50986454e+07 1.69606712e+07 1.90523296e+07 2.14019397e+07\n",
      " 2.40413132e+07 2.70061849e+07 3.03366966e+07 3.40779404e+07\n",
      " 3.82805694e+07 4.30014836e+07 4.83046000e+07 5.42617181e+07\n",
      " 6.09534920e+07 6.84705224e+07 7.69145834e+07 8.64000000e+07] [  170000.           181217.09772986   193174.33240961   205920.5404422\n",
      "   219507.78059941   233991.54664323   249430.99397651   265889.18124881\n",
      "   283433.327904     302135.08872164   322070.84647347   343322.02389013\n",
      "   365975.41621242   390123.54568525   415865.03944215   443305.03232365\n",
      "   472555.59627491   503736.19807614   536974.18727548   572405.31631715\n",
      "   610174.29498904   650435.38145458   693353.01228244   739102.47404753\n",
      "   787870.61924621   839856.62944957   895272.82881197   954345.55125711\n",
      "  1017316.06488364  1084441.55736575  1155996.18637337  1232272.19930218\n",
      "  1313581.12688667  1400255.05557132  1492647.98383648  1591137.26801869\n",
      "  1696125.1635304   1808040.46777392  1927340.2714596   2054511.82548113\n",
      "  2190074.53097278  2334582.06067632  2488624.62028214  2652831.35898005\n",
      "  2827872.93906548  3014464.27509565  3213367.45378345  3425394.84655431\n",
      "  3651412.42747881  3892343.31013212  4149171.5178258   4422946.00261058\n",
      "  4714784.92946462  5025880.24316511  5357502.53649549  5711006.2396711\n",
      "  6087835.15217842  6489528.3396212   6917726.41965791  7374178.26270351\n",
      "  7860748.13476332  8379423.31157196  8932322.19513542  9521702.9658263\n",
      " 10149972.80536976 10819697.72838903 11533613.06266496 12294634.62091392\n",
      " 13105870.60971235 13970634.32420688 14892457.68045862 15875105.64069118\n",
      " 16922591.59035894 18039193.72983893 19229472.54769489 20498289.44687835\n",
      " 21850826.59994091 23292608.11435155 24829522.59436362 26467847.19158002\n",
      " 28214273.24244485 30075933.59737148 32060431.75312765 34175872.90745946\n",
      " 36430897.06279076 38834714.31420169 41397142.46581146 44128647.12919999\n",
      " 47040384.4676401  50144246.76072123 53452910.97545848 56979890.54226635\n",
      " 60739590.54726298 64747366.56632438 69019587.38118125 73573701.83370754\n",
      " 78428310.09145112 83603239.61547312 89119626.14076632 95000000.        ] [12.04355372 12.10745103 12.17134834 12.23524565 12.29914296 12.36304027\n",
      " 12.42693758 12.49083489 12.5547322  12.61862951 12.68252682 12.74642413\n",
      " 12.81032144 12.87421875 12.93811606 13.00201337 13.06591068 13.12980799\n",
      " 13.1937053  13.25760261 13.32149992 13.38539724 13.44929455 13.51319186\n",
      " 13.57708917 13.64098648 13.70488379 13.7687811  13.83267841 13.89657572\n",
      " 13.96047303 14.02437034 14.08826765 14.15216496 14.21606227 14.27995958\n",
      " 14.34385689 14.4077542  14.47165151 14.53554882 14.59944613 14.66334344\n",
      " 14.72724075 14.79113806 14.85503538 14.91893269 14.98283    15.04672731\n",
      " 15.11062462 15.17452193 15.23841924 15.30231655 15.36621386 15.43011117\n",
      " 15.49400848 15.55790579 15.6218031  15.68570041 15.74959772 15.81349503\n",
      " 15.87739234 15.94128965 16.00518696 16.06908427 16.13298158 16.19687889\n",
      " 16.26077621 16.32467352 16.38857083 16.45246814 16.51636545 16.58026276\n",
      " 16.64416007 16.70805738 16.77195469 16.835852   16.89974931 16.96364662\n",
      " 17.02754393 17.09144124 17.15533855 17.21923586 17.28313317 17.34703048\n",
      " 17.41092779 17.4748251  17.53872241 17.60261972 17.66651703 17.73041435\n",
      " 17.79431166 17.85820897 17.92210628 17.98600359 18.0499009  18.11379821\n",
      " 18.17769552 18.24159283 18.30549014 18.36938745]\n"
     ]
    }
   ],
   "source": [
    "print(tday, tsec, tl, np.log(tl))"
   ]
  },
  {
   "cell_type": "code",
   "execution_count": 32,
   "metadata": {},
   "outputs": [
    {
     "name": "stdout",
     "output_type": "stream",
     "text": [
      "[6.43491463e-52 6.89267957e-52 7.41296631e-52 7.96283045e-52\n",
      " 8.54218068e-52 9.18310926e-52 9.89655562e-52 1.06149425e-51\n",
      " 1.14110696e-51 1.22988365e-51 1.32039408e-51 1.41966911e-51\n",
      " 1.46687537e-51 1.64149341e-51 1.76884414e-51 1.90591432e-51\n",
      " 2.04600227e-51 2.20280644e-51 2.37690575e-51 2.55248096e-51\n",
      " 2.74940605e-51 2.96377073e-51 3.18569804e-51 3.43540554e-51\n",
      " 3.70443895e-51 3.98133914e-51 4.29544615e-51 4.63355868e-51\n",
      " 4.97391127e-51 5.36699556e-51 5.79423577e-51 6.22279022e-51\n",
      " 6.71053210e-51 7.23097423e-51 7.77251698e-51 8.37100740e-51\n",
      " 9.01814575e-51 9.68603427e-51 1.04524715e-50 1.12447744e-50\n",
      " 1.20769916e-50 1.30309007e-50 1.39939181e-50 1.50465896e-50\n",
      " 1.61896333e-50 1.73832614e-50 1.86864078e-50 2.00727571e-50\n",
      " 2.15387820e-50 2.31076175e-50 2.48219164e-50 2.65991674e-50\n",
      " 2.84816474e-50 3.05590470e-50 3.26584173e-50 3.48993420e-50\n",
      " 3.74176254e-50 3.98897259e-50 4.25765969e-50 4.54209523e-50\n",
      " 4.82522695e-50 5.13881731e-50 5.46296020e-50 5.77873605e-50\n",
      " 6.13606375e-50 6.49856232e-50 6.83928820e-50 7.22874929e-50\n",
      " 7.61515522e-50 7.98174534e-50 8.35399474e-50 8.74450577e-50\n",
      " 9.09958502e-50 9.44253771e-50 9.77846492e-50 1.00755680e-49\n",
      " 1.03305318e-49 1.05161532e-49 1.06942999e-49 1.07739311e-49\n",
      " 1.07516307e-49 1.06510867e-49 1.04562877e-49 1.01830032e-49\n",
      " 9.75190364e-50 9.30690583e-50 8.79214274e-50 8.14845555e-50\n",
      " 7.47036710e-50 6.78614026e-50 6.10122587e-50 5.43991477e-50\n",
      " 4.79455577e-50 4.20312293e-50 3.69015763e-50 3.19763511e-50\n",
      " 2.76430040e-50 2.41596923e-50 2.10570715e-50 1.81587072e-50]\n"
     ]
    }
   ],
   "source": [
    "print(Fl_js)"
   ]
  },
  {
   "cell_type": "markdown",
   "metadata": {},
   "source": [
    "### Get the data points from GW170817"
   ]
  },
  {
   "cell_type": "code",
   "execution_count": 33,
   "metadata": {},
   "outputs": [],
   "source": [
    "#Declare lists for the variables\n",
    "t_gw = []\n",
    "nu_gw = []\n",
    "Fl_gw = []\n",
    "Flerr_gw = []\n",
    "\n",
    "with open(gw,'r') as file:\n",
    "\n",
    "    for line in file:\n",
    "        #Ignore the comments\n",
    "        if line.startswith('#'): \n",
    "            continue\n",
    "        \n",
    "        #Split line into columns and remove the spaces\n",
    "        columns = line.strip().split()  \n",
    "\n",
    "        t_gw.append(float(columns[0]))\n",
    "        Fl_gw.append(float(columns[1]))\n",
    "        Flerr_gw.append(float(columns[2]))\n",
    "        nu_gw.append(float(columns[3]))\n",
    "\n",
    "# Convert lists to arrays\n",
    "t_gw = np.array(t_gw) #Contrary to the others, the time is in days\n",
    "Fl_gw = np.array(Fl_gw)\n",
    "Flerr_gw = np.array(Flerr_gw)\n",
    "nu_gw = np.array(nu_gw)        "
   ]
  },
  {
   "cell_type": "code",
   "execution_count": 34,
   "metadata": {},
   "outputs": [
    {
     "name": "stdout",
     "output_type": "stream",
     "text": [
      "7e-06\n"
     ]
    }
   ],
   "source": [
    "print(B['epsilon_B'])"
   ]
  },
  {
   "cell_type": "markdown",
   "metadata": {},
   "source": [
    "## Plot the Lightcurves and Spectra"
   ]
  },
  {
   "cell_type": "code",
   "execution_count": 35,
   "metadata": {},
   "outputs": [
    {
     "name": "stderr",
     "output_type": "stream",
     "text": [
      "/tmp/ipykernel_66858/331479846.py:42: UserWarning: FigureCanvasAgg is non-interactive, and thus cannot be shown\n",
      "  fig1.show()\n",
      "/tmp/ipykernel_66858/331479846.py:43: UserWarning: FigureCanvasAgg is non-interactive, and thus cannot be shown\n",
      "  fig2.show()\n"
     ]
    },
    {
     "data": {
      "image/png": "[encoded data removed]",
      "text/plain": [
       "<Figure size 640x480 with 1 Axes>"
      ]
     },
     "metadata": {},
     "output_type": "display_data"
    },
    {
     "data": {
      "image/png": "[encoded data removed]",
      "text/plain": [
       "<Figure size 640x480 with 1 Axes>"
      ]
     },
     "metadata": {},
     "output_type": "display_data"
    }
   ],
   "source": [
    "#To get a Label\n",
    "Label = {\n",
    "    r'$E_{iso}$': B['E'],\n",
    "    r'$n$': B['n'],\n",
    "    r'$\\eta_0$': J['Eta0'],\n",
    "    r'$\\gamma_B$': J['GammaB'],\n",
    "    r'$\\theta_{obs}$': B['theta_obs'],\n",
    "    r'$\\epsilon_e$': B['epsilon_E'],\n",
    "    r'$\\epsilon_b$': B['epsilon_B']\n",
    "}\n",
    "\n",
    "labels = [\"{}: {}\".format(key, value) for key, value in Label.items()]\n",
    "\n",
    "\n",
    "#For Plotting the lightcurve and spectrum of Afterglowpy and Boxfit\n",
    "fig1, ax1 = plt.subplots(1, 1)\n",
    "[ax1.plot(convert_ts_td(tl), afterglowpys[i][0], label= f\"Afterglowpy ({name_types_jets[i]})\", linestyle='dashed') for i in range(len(afterglowpys))] #convert_ts_td(tl)\n",
    "#ax1.plot(convert_ts_td(tl), Fnula, label=\"Afterglowpy\") #convert_ts_td(tl)\n",
    "ax1.plot(convert_ts_td(tbox), Flbox, label=\"BoxFit\") #convert_ts_td(tbox)\n",
    "ax1.plot(convert_ts_td(tl), Fljet, label=\"JetFit\") #convert_ts_td(tlj) Fljet*1e-6\n",
    "ax1.plot(convert_ts_td(tl), Fl_js, label=\"JetSimpy\") #convert_ts_td(tlj) \n",
    "ax1.scatter(t_gw, Fl_gw, label = \"GW170817\", marker = '+')\n",
    "ax1.errorbar(t_gw, Fl_gw,yerr=Flerr_gw,linestyle='', color='black')\n",
    "#ax1.plot(convert_ts_td(tl), Fldeep , label=\"DeepGlow\")\n",
    "ax1.set_title(\"{}\".format(\",\".join(labels)))\n",
    "ax1.set(xscale='log', xlabel=r'$t$ (d)',\n",
    "       yscale='log', ylabel=r'$F_\\nu$ (mJy)')\n",
    "ax1.legend()\n",
    "fig1.savefig(\"lightcurve_comp.png\")\n",
    "\n",
    "fig2, ax2 = plt.subplots(1, 1)\n",
    "[ax2.plot(nus, afterglowpys[i][1], label= f\"Afterglowpy ({name_types_jets[i]})\", linestyle='dashed') for i in range(len(afterglowpys))] #convert_ts_td(tl)\n",
    "#ax2.plot(nus, Fnusa, label=\"Afterglowpy\")\n",
    "ax2.plot(nus, Fnubox, label=\"BoxFit\")\n",
    "ax2.plot(nusj, Fsjet, label=\"JetFit\")\n",
    "ax2.set_title(\"Spectrum from different models\")\n",
    "ax2.set(xscale='log', xlabel=r'$\\nu$ (Hz)',\n",
    "       yscale='log', ylabel=r'$F_\\nu$ (mJy)')\n",
    "ax2.legend()\n",
    "fig2.savefig(\"spectrum_comp.png\")\n",
    "\n",
    "fig1.show()\n",
    "fig2.show()"
   ]
  },
  {
   "cell_type": "code",
   "execution_count": 36,
   "metadata": {},
   "outputs": [],
   "source": [
    "def time_flux_peaks(Fnu, t):\n",
    "    \n",
    "    Fnu_peak = np.max(Fnu)\n",
    "    t_peak = t[np.argmax(Fnu)]\n",
    "\n",
    "    return Fnu_peak, t_peak"
   ]
  },
  {
   "cell_type": "code",
   "execution_count": 37,
   "metadata": {},
   "outputs": [
    {
     "name": "stdout",
     "output_type": "stream",
     "text": [
      "6.145835086069409\n"
     ]
    }
   ],
   "source": [
    "import random\n",
    "\n",
    "print(np.random.uniform(1,10))\n",
    "#Rescaling as in Nakar\n",
    "\n",
    "def rescaling( theta_obs, theta_0,E, n, epse, nu, d_L,p, Fl, t, ): #maybe change this with **kwargs but beware that not all dictionnaries have the same key name for the same physical variable (or the same scale, check jetfit)\n",
    "\n",
    "    #Get the old ratio, should be constrained between 10 and 3\n",
    "    ratio = theta_obs/theta_0\n",
    "    print('The ratio is', ratio)\n",
    "\n",
    "    #Get the new angle values with the same ratio, theta_obs contrained between 0 and 1.57, theta_0 between 0.045 and 0.5, wrote a statement in case out of bounds\n",
    "    theta_obs_re = np.random.uniform(0.045*ratio,1.57)\n",
    "    theta_0_re = theta_obs_re/ratio\n",
    "\n",
    "    if theta_0_re > 0.5 or theta_0_re < 0.045:\n",
    "        print('Random theta j out of bounds for this ratio and theta obs', theta_0_re)\n",
    "\n",
    "    #Get the previous t_peak and f_peak\n",
    "    Fl_peak, t_peak = time_flux_peaks(Fl, t)\n",
    "\n",
    "    #Get the new t_peak and F_peak\n",
    "    n_re = (((theta_obs_re - theta_0_re)**2*E**(1/3))/t_peak)**(1/3)\n",
    "    epsb_re = ((Fl_peak)/E*(n**(p+1/4))*(epse**(p-1))*(theta_obs**(-2*p))*(nu**(-(p-1)/2))*(d_L**-2))**(4/p+1)\n",
    "\n",
    "    #Calculate the \n",
    "    return theta_obs_re, theta_0_re, epsb_re, n_re"
   ]
  },
  {
   "cell_type": "code",
   "execution_count": 38,
   "metadata": {},
   "outputs": [
    {
     "name": "stdout",
     "output_type": "stream",
     "text": [
      "The ratio is 6.302533045326672\n"
     ]
    },
    {
     "data": {
      "text/plain": [
       "(0.47300783936243324, 0.07505043384313051, 0.0, 2017.9441596243091)"
      ]
     },
     "execution_count": 38,
     "metadata": {},
     "output_type": "execute_result"
    }
   ],
   "source": [
    "rescaling(B['theta_obs'], B['theta_0'], B['E'], B['n'], B['epsilon_E'], nus[0], B['d_L'], B['p'], Flbox, tbox)"
   ]
  },
  {
   "cell_type": "code",
   "execution_count": 39,
   "metadata": {},
   "outputs": [
    {
     "name": "stdout",
     "output_type": "stream",
     "text": [
      "0.44 0.0698132 8.2e+53 0.01 0.1 3000000000.0 1.2e+26 2.15 [0.000000e+00 0.000000e+00 0.000000e+00 0.000000e+00 0.000000e+00\n",
      " 0.000000e+00 0.000000e+00 0.000000e+00 0.000000e+00 0.000000e+00\n",
      " 0.000000e+00 0.000000e+00 0.000000e+00 0.000000e+00 0.000000e+00\n",
      " 0.000000e+00 0.000000e+00 0.000000e+00 0.000000e+00 0.000000e+00\n",
      " 0.000000e+00 0.000000e+00 0.000000e+00 0.000000e+00 0.000000e+00\n",
      " 0.000000e+00 0.000000e+00 0.000000e+00 0.000000e+00 0.000000e+00\n",
      " 0.000000e+00 0.000000e+00 0.000000e+00 0.000000e+00 0.000000e+00\n",
      " 0.000000e+00 3.897125e-06 5.826222e-06 1.335798e-05 1.677449e-05\n",
      " 4.280379e-05 2.933031e-05 2.176504e-04 5.083077e-05 2.020521e-04\n",
      " 2.448073e-04 2.729999e-04 5.444855e-04 1.238075e-03 5.966083e-04\n",
      " 1.298743e-03 2.445588e-03 3.238559e-03 4.026531e-03 2.172621e-03\n",
      " 7.526688e-03 6.692049e-03 1.591019e-02 2.370925e-02 1.497245e-02\n",
      " 2.051997e-02 7.182280e-02 5.829150e-02 9.322699e-02 7.878746e-02\n",
      " 2.451701e-01 2.273180e-01 1.816446e-01 3.515144e-01 2.108499e-01\n",
      " 4.300696e-01 4.155978e-01 3.478256e-01 6.704278e-01 4.660883e-01\n",
      " 5.210685e-01 5.003336e-01 3.030222e-01 6.450302e-01 5.682070e-01\n",
      " 3.290680e-01 4.834688e-01 3.324483e-01 1.749840e-01 3.064294e-01\n",
      " 2.219134e-01 1.138991e-01 1.560815e-01 1.433562e-01 8.550828e-02\n",
      " 4.937890e-02 4.603233e-02 3.536268e-02 2.525120e-02 1.738181e-02\n",
      " 1.895582e-02 1.699818e-02 1.313986e-02 1.028045e-02 7.978696e-03] [  170000.    181217.1   193174.3   205920.5   219507.8   233991.5\n",
      "   249431.    265889.2   283433.3   302135.1   322070.8   343322.\n",
      "   365975.4   390123.5   415865.    443305.    472555.6   503736.2\n",
      "   536974.2   572405.3   610174.3   650435.4   693353.    739102.5\n",
      "   787870.6   839856.6   895272.8   954345.6  1017316.   1084442.\n",
      "  1155996.   1232272.   1313581.   1400255.   1492648.   1591137.\n",
      "  1696125.   1808040.   1927340.   2054512.   2190075.   2334582.\n",
      "  2488625.   2652831.   2827873.   3014464.   3213367.   3425395.\n",
      "  3651412.   3892343.   4149172.   4422946.   4714785.   5025880.\n",
      "  5357503.   5711006.   6087835.   6489528.   6917726.   7374178.\n",
      "  7860748.   8379423.   8932322.   9521703.  10149970.  10819700.\n",
      " 11533610.  12294630.  13105870.  13970630.  14892460.  15875110.\n",
      " 16922590.  18039190.  19229470.  20498290.  21850830.  23292610.\n",
      " 24829520.  26467850.  28214270.  30075930.  32060430.  34175870.\n",
      " 36430900.  38834710.  41397140.  44128650.  47040380.  50144250.\n",
      " 53452910.  56979890.  60739590.  64747370.  69019590.  73573700.\n",
      " 78428310.  83603240.  89119630.  95000000. ]\n"
     ]
    }
   ],
   "source": [
    "print(B['theta_obs'], B['theta_0'], B['E'], B['n'], B['epsilon_E'], nus[0], B['d_L'], B['p'], Flbox, tbox)"
   ]
  },
  {
   "cell_type": "code",
   "execution_count": null,
   "metadata": {},
   "outputs": [],
   "source": []
  }
 ],
 "metadata": {
  "kernelspec": {
   "display_name": "JetFit",
   "language": "python",
   "name": "python3"
  },
  "language_info": {
   "codemirror_mode": {
    "name": "ipython",
    "version": 3
   },
   "file_extension": ".py",
   "mimetype": "text/x-python",
   "name": "python",
   "nbconvert_exporter": "python",
   "pygments_lexer": "ipython3",
   "version": "3.12.2"
  }
 },
 "nbformat": 4,
 "nbformat_minor": 2
}
