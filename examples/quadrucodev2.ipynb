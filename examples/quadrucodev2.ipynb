{
 "cells": [
  {
   "cell_type": "code",
   "execution_count": 1,
   "metadata": {},
   "outputs": [],
   "source": [
    "import numpy as np\n",
    "import emcee as em\n",
    "import pandas as pd\n",
    "import matplotlib.pyplot as plt"
   ]
  },
  {
   "cell_type": "markdown",
   "metadata": {},
   "source": [
    "### Boxfit\n",
    "\n",
    "To import the input parameters, and keep them for the rest of the code, and get the output values of BoxFit"
   ]
  },
  {
   "cell_type": "code",
   "execution_count": 2,
   "metadata": {},
   "outputs": [],
   "source": [
    "# Importing the files from BOXFIT\n",
    "# Change the path here according to the output directory of BoxFit \n",
    "settings = '/home/agath/boxfitoutput/boxfitsettings.txt'\n",
    "lightcurve_box = '/home/agath/boxfitoutput/lightcurve.txt'\n",
    "spectrum_box = '/home/agath/boxfitoutput/spectrum.txt'"
   ]
  },
  {
   "cell_type": "code",
   "execution_count": 3,
   "metadata": {},
   "outputs": [],
   "source": [
    "# Function to read the parameters from boxfitsettings \n",
    "def read_boxfit(settings): \n",
    "    B = {} # Declare an empty dictionary\n",
    "    with open(settings,'r') as f:\n",
    "        for line in f:\n",
    "            # Check if line is not an overall comment, has an equal and a comment to describe the parameter\n",
    "            if not line.strip().startswith('!') and '=' in line and '!' in line: \n",
    "                keyval_extra = line.strip().split('!')                  #Split the key + value from the comment using the !\n",
    "                key_value = keyval_extra[0].split('=')                  #Split the key from the value using the = \n",
    "                key, value = key_value[0].strip(), key_value[1].strip() #Store them\n",
    "                \n",
    "                #If the value is a number, store it in B, and convert it from a string to a float\n",
    "                if value.isdigit() or 'e-' in value or 'e' in value or '.' in value:\n",
    "                    #Additionnal condition because simplex and grbdata could get past this point\n",
    "                    if not '.txt' in value: \n",
    "                        B[key] = float(value) \n",
    "    return B"
   ]
  },
  {
   "cell_type": "code",
   "execution_count": 4,
   "metadata": {},
   "outputs": [],
   "source": [
    "B = read_boxfit(settings)"
   ]
  },
  {
   "cell_type": "code",
   "execution_count": 5,
   "metadata": {},
   "outputs": [],
   "source": [
    "#Boundaries for the time and the frequencies \n",
    "t_min = B['t_0']\n",
    "t_max = B['t_1'] \n",
    "\n",
    "nu_min = B['nu_0']\n",
    "nu_max = B['nu_1']\n",
    "\n",
    "points = int(B['no_points'])"
   ]
  },
  {
   "cell_type": "code",
   "execution_count": 6,
   "metadata": {},
   "outputs": [],
   "source": [
    "#The corresponding linspaces\n",
    "tl = np.geomspace(t_min, t_max, points)\n",
    "nus = np.geomspace(nu_min, nu_max, points)\n",
    "\n",
    "nul = np.ones(nus.shape)*nu_min\n",
    "ts = np.ones(tl.shape)*t_min"
   ]
  },
  {
   "cell_type": "code",
   "execution_count": 7,
   "metadata": {},
   "outputs": [],
   "source": [
    "#Initialize the lists for Boxfit\n",
    "tbox =  []\n",
    "nubox =  []\n",
    "Flbox =  []\n",
    "Fnubox =  []\n",
    "\n",
    "def read_data_box(f, lightcurve = True): #lightcurve = true when getting the lightcurve data, lightcurve = false for the spectrum\n",
    "    #Dummy index\n",
    "    i = 0\n",
    "\n",
    "    #Loop on the line\n",
    "    for line in f:\n",
    "\n",
    "        #Ignore line if it's a comment\n",
    "        if line.startswith('#'):\n",
    "            i = i + 1\n",
    "            continue  # The loop restarts\n",
    "    \n",
    "        #Split line into columns and remove the commas\n",
    "        columns = line.strip().replace(',','').split()  \n",
    "\n",
    "        #Add data to lists        \n",
    "        if lightcurve == True:\n",
    "            tbox.append(float(columns[1]))\n",
    "            Flbox.append(float(columns[3]))\n",
    "        else:\n",
    "            nubox.append(float(columns[2]))\n",
    "            Fnubox.append(float(columns[3]))\n",
    "            \n",
    "        \n",
    "\n",
    "# To read the data from Boxfit and plot it \n",
    "with open(lightcurve_box, 'r') as f1, open(spectrum_box, 'r') as f2:\n",
    "    read_data_box(f1, lightcurve=True)  #Getting the lightcurve\n",
    "    read_data_box(f2,lightcurve=False)  #Getting the spectrum\n",
    "\n",
    "# Convert lists to arrays\n",
    "tbox = np.array(tbox)       #Just here to make sure it's the same as the linspace tl\n",
    "nubox = np.array(nubox)     #Same for nus\n",
    "Fnubox = np.array(Fnubox)\n",
    "Flbox = np.array(Flbox)\n"
   ]
  },
  {
   "cell_type": "markdown",
   "metadata": {},
   "source": [
    "Small useful functions "
   ]
  },
  {
   "cell_type": "code",
   "execution_count": 8,
   "metadata": {},
   "outputs": [],
   "source": [
    "#Converts E to Eiso\n",
    "def convert_E_Eiso(E,theta):\n",
    "    Eiso = E/(1-np.cos(theta))  #Theta being the half opening angle of the jet\n",
    "    print(E, np.cos(theta))\n",
    "    return Eiso "
   ]
  },
  {
   "cell_type": "code",
   "execution_count": 9,
   "metadata": {},
   "outputs": [],
   "source": [
    "#Converts Eiso to E\n",
    "def convert_Eiso_E(Eiso,theta):\n",
    "    E = Eiso*(1-np.cos(theta)) #Theta being the half opening angle of the jet\n",
    "    return E "
   ]
  },
  {
   "cell_type": "code",
   "execution_count": 10,
   "metadata": {},
   "outputs": [
    {
     "name": "stdout",
     "output_type": "stream",
     "text": [
      "2.5e+50 0.9975510002532796\n",
      "1.0208249320351635e+53\n"
     ]
    }
   ],
   "source": [
    "print(convert_E_Eiso(2.5*10**50,0.07))"
   ]
  },
  {
   "cell_type": "code",
   "execution_count": 11,
   "metadata": {},
   "outputs": [],
   "source": [
    "#Converts time in s to time in days\n",
    "def convert_ts_td(t):\n",
    "    return t/(60*60*24)"
   ]
  },
  {
   "cell_type": "code",
   "execution_count": 12,
   "metadata": {},
   "outputs": [],
   "source": [
    "#Calculate the lorentz factor \n",
    "def calc_lf(eta_0, gamma_B):\n",
    "    gamma = 2*eta_0*gamma_B\n",
    "    return gamma"
   ]
  },
  {
   "cell_type": "markdown",
   "metadata": {},
   "source": [
    "### Afterglowpy"
   ]
  },
  {
   "cell_type": "code",
   "execution_count": 13,
   "metadata": {},
   "outputs": [],
   "source": [
    "import afterglowpy as grb"
   ]
  },
  {
   "cell_type": "code",
   "execution_count": 14,
   "metadata": {},
   "outputs": [],
   "source": [
    "#Afterglowpy dictionary contining the specifics of the jet and environment parameters\n",
    "A = {'jetType':     grb.jet.TopHat,     # Top-Hat jet\n",
    "     'specType':    0,                  # Basic Synchrotron Spectrum\n",
    "     'thetaWing':   2*B['theta_obs'],     # Outer truncation angle\n",
    "     'thetaObs':    B['theta_obs'],     # Viewing angle in radians, (roughly 20 degrees)\n",
    "     'E0':          1.0208249320351635e+53,             # Isotropic-equivalent energy in erg\n",
    "     'thetaCore':   B['theta_0'],       # Half-opening angle in radians\n",
    "     'n0':          B['n'],             # circumburst density in cm^{-3}\n",
    "     'p':           B['p'],             # electron energy distribution index\n",
    "     'epsilon_e':   B['epsilon_E'],     # epsilon_e\n",
    "     'epsilon_B':   B['epsilon_B'],     # epsilon_B\n",
    "     'xi_N':        B['ksi_N'],         # Fraction of electrons accelerated\n",
    "     'd_L':         B['d_L'],           # Luminosity distance in cm (40Mpc)\n",
    "     'z':           B['z'],             # redshift\n",
    "     'b':           4.5}                # power for power-law structure theta**(-b)\n",
    "\n"
   ]
  },
  {
   "cell_type": "code",
   "execution_count": 15,
   "metadata": {},
   "outputs": [
    {
     "name": "stdout",
     "output_type": "stream",
     "text": [
      "8.2e+53\n"
     ]
    }
   ],
   "source": [
    "print(B['E'])"
   ]
  },
  {
   "cell_type": "code",
   "execution_count": 16,
   "metadata": {},
   "outputs": [],
   "source": [
    "def light_curve_afterglowpy(A):\n",
    "    # Calculate the fluxes\n",
    "    Fnula = grb.fluxDensity(tl, nul, **A)   # For the lightcurve\n",
    "    Fnusa = grb.fluxDensity(ts, nus, **A)   # For the spectrum\n",
    "\n",
    "    return Fnula, Fnusa\n",
    "\n",
    "Fnula, Fnusa = light_curve_afterglowpy(A)"
   ]
  },
  {
   "cell_type": "code",
   "execution_count": 17,
   "metadata": {},
   "outputs": [],
   "source": [
    "#Get multiple geometries from Afterglowpy\n",
    "\n",
    "#Here are all the types of jets and their names\n",
    "types_jets = [grb.jet.TopHat, grb.jet.Gaussian, grb.jet.PowerLaw,  grb.jet.GaussianCore, grb.jet.PowerLawCore]\n",
    "name_types_jets = ['TopHat', 'Gaussian', 'PowerLaw', 'GaussianCore','PowerLawCore']\n",
    "\n",
    "#Make a loop over them and store the fluxes for each jet\n",
    "afterglowpys = [light_curve_afterglowpy(A) for A['jetType'] in types_jets]"
   ]
  },
  {
   "cell_type": "markdown",
   "metadata": {},
   "source": [
    "### DeepGlow"
   ]
  },
  {
   "cell_type": "code",
   "execution_count": 18,
   "metadata": {},
   "outputs": [],
   "source": [
    "#Insert here the training code for DeepGlow"
   ]
  },
  {
   "cell_type": "code",
   "execution_count": 19,
   "metadata": {},
   "outputs": [],
   "source": [
    "# #For DeepGlow\n",
    "# model = Emulator(simtype='ism')\n",
    "\n",
    "# abs_factor = (B['p'] - 2)/(B['p'] - 1)\n",
    "\n",
    "# deep_array = [B['z'],           #redshift\n",
    "#               np.log10(B['d_L']/10**28),    #luminosity distance (log10 of 10^28 cm)\n",
    "#               np.log10(B['E']/10**53),    #isotropic-equivalent energy (log10 of 10^53 erg)\n",
    "#               np.log10(B['n']),     #circumburst medium density (log10 of cm^-3)\n",
    "#               B['theta_0'],    #jet half-opening angle (rad)\n",
    "#               B['theta_obs']/B['theta_0'],   #off-axis observer angle as a fraction of the jet half-opening angle\n",
    "#               B['p'],    #electron spectral index\n",
    "#               np.log10(B['epsilon_E']*abs_factor),   # energy fraction in accelerated electrons (in log10), with factor of (p-2)/p-1 absorbed\n",
    "#               np.log10(B['epsilon_B']),  #energy fraction in magnetic field (in log10)\n",
    "#               np.log10(B['ksi_N'])  #fraction of electrons accelerated (in log10)\n",
    "#               ]\n",
    "\n",
    "# Fldeep = model.flux(params=deep_array, t_obs=tl, nu_obs=nul)\n"
   ]
  },
  {
   "cell_type": "markdown",
   "metadata": {},
   "source": [
    "### JetFit"
   ]
  },
  {
   "cell_type": "code",
   "execution_count": 20,
   "metadata": {},
   "outputs": [],
   "source": [
    "from FitterClass import *\n",
    "from FluxGeneratorClass import *\n",
    "from collections import defaultdict"
   ]
  },
  {
   "cell_type": "code",
   "execution_count": 21,
   "metadata": {},
   "outputs": [],
   "source": [
    "#Importing the precomputed fluxes to put in the JetFit functions\n",
    "Table = \"./Table.h5\""
   ]
  },
  {
   "cell_type": "code",
   "execution_count": 22,
   "metadata": {},
   "outputs": [],
   "source": [
    "#Function that removes the logscales\n",
    "def Log2Linear(Log, Info):\n",
    "    Linear = {} #Defined as a dictionary\n",
    "    for i, key in enumerate(Info['Fit']):   #Going through all the parameters\n",
    "        if key in Info['Log']:              #If it is in logscale, then use the exponential or 10^X\n",
    "            if Info['LogType'] == 'Log10':\n",
    "                Linear[key] = np.power(10.,Log[key])\n",
    "            else:\n",
    "                Linear[key] = np.exp(Log[key])\n",
    "        else:\n",
    "            Linear[key] = Log[key]\n",
    "    # print(Linear['E'],Linear) #Debug statement to see the full dict\n",
    "    return Linear\n"
   ]
  },
  {
   "cell_type": "code",
   "execution_count": 23,
   "metadata": {},
   "outputs": [],
   "source": [
    "#Calculates the range for time with respect to the bounds of tau for jetfit\n",
    "\n",
    "def range_time_tau():\n",
    "    #The range and formula from the paper\n",
    "    tau_min = 8.64e2\n",
    "    tau_max = 8.64e7\n",
    "    scale = (1. + J['z'])*(J['E']/J['n'])**(1./3.)\n",
    "    ti = tau_min*scale\n",
    "    tf = tau_max*scale\n",
    "\n",
    "    print('The time range allowed by tau is: [',\"{:e}\".format(ti),',',\"{:e}\".format(tf),']')\n",
    "\n",
    "    if t_min < ti:\n",
    "        print('The lower boundary is out of bounds:', \"{:e}\".format(t_min), 'is lower than', \"{:e}\".format(ti))\n",
    "    elif t_max > tf:\n",
    "        print('The upper boundary is out of bounds:', \"{:e}\".format(t_max),'is higher than', \"{:e}\".format(tf))\n",
    "    else:\n",
    "        print('The values are within the time range.')\n",
    "    return ti, tf"
   ]
  },
  {
   "cell_type": "code",
   "execution_count": 24,
   "metadata": {},
   "outputs": [],
   "source": [
    "def light_curve_jetfit(P):\n",
    "    #Call to the function to know if we are in the domain of validity of JetFit\n",
    "    ti, tf = range_time_tau()\n",
    "    \n",
    "    #Calculate flux\n",
    "    flux_jet = np.asarray(FluxGenerator.GetSpectral(tl, nul, P))\n",
    "\n",
    "    return flux_jet"
   ]
  },
  {
   "cell_type": "code",
   "execution_count": 25,
   "metadata": {},
   "outputs": [],
   "source": [
    "def get_integrated_jetfit(P):\n",
    "\n",
    "    #The function takes as an input an array with two columns, so we split the data into two arrays with points (because points/2 fails)\n",
    "    mid_point = nus[int(points/2)]\n",
    "    nus_col = np.column_stack((np.geomspace(nu_min, mid_point, points), np.geomspace(mid_point, nu_max, points)))\n",
    "    \n",
    "    #Calculate flux\n",
    "    Fsjet = np.asarray(FluxGenerator.GetIntegratedFlux(ts, nus_col, P))\n",
    "\n",
    "    return nus_col, Fsjet"
   ]
  },
  {
   "cell_type": "code",
   "execution_count": 26,
   "metadata": {},
   "outputs": [
    {
     "name": "stdout",
     "output_type": "stream",
     "text": [
      "The time range allowed by tau is: [ 5.495818e+03 , 5.495818e+08 ]\n",
      "The values are within the time range.\n"
     ]
    }
   ],
   "source": [
    "#JetFit informations\n",
    "Info = {\n",
    "    'Fit': np.array(['E', 'Eta0', 'GammaB','theta_obs','epsb','epse','n','p','z','xiN','dL','theta_obs']),  # Fitting parameters (Parameter names see P dictionary below)\n",
    "    'Log': np.array([]),                                                                                    # Set parameters in log scale 'E','n','epse','epsb' (mesured in log for mcmc analysis)\n",
    "    'LogType': 'Log10',                                                                                     # Log scale type: Log10 or Log\n",
    "    'ThetaObsPrior': 'Sine',                                                                                # Prior for observation angle: Sine or Uniform\n",
    "    'FluxType': 'Spectral'                                                                                  # Flux type: Spectral or Integrated\n",
    "}\n",
    "\n",
    "#JetFit bounds for parameters in linear scale\n",
    "FitBound = {\n",
    "    'E': np.array([1e-6, 1e3]),         \n",
    "    'n': np.array([1e-6, 1e3]),\n",
    "    'Eta0': np.array([2.,10.]),\n",
    "    'GammaB': np.array([1.,12.]),\n",
    "    'theta_obs': np.array([0.,1.]),\n",
    "    'epse': np.array([1e-6,1.]),\n",
    "    'epsb': np.array([1e-6,1.]),\n",
    "    'p': np.array([2.,4.])\n",
    "}\n",
    "\n",
    "#JetFit dict\n",
    "Explore = False # For non-fiting parameters, P set default values. \n",
    "\n",
    "J = {\n",
    "    'E': 2.5,    # E0/10^50, need to convert because B takes Eiso as an input convert_Eiso_E(B['E'],B['theta_0'])/10**50\n",
    "    'Eta0': 8,                                          #8\n",
    "    'GammaB': 12,                                       #12\n",
    "    'dL': B['d_L']/10**28,                              # dl/10^28 cm\n",
    "    'epsb': B['epsilon_B'],\n",
    "    'epse': B['epsilon_E'],\n",
    "    'n': B['n'],                                        # has no unit because cm^{-3}/1cm^{-3}\n",
    "    'p': B['p'],\n",
    "    'theta_obs': B['theta_obs'],                        # This is the half opening angle\n",
    "    'xiN': B['ksi_N'],\n",
    "    'z': B['z']\n",
    "}\n",
    "\n",
    "#Transform the log variables from the P dictionnary to linear ones\n",
    "J = Log2Linear(J,Info) \n",
    "\n",
    "#Create FluxGeneratorClass based on the given table\n",
    "FluxGenerator = FluxGeneratorClass(Table)\n",
    "\n",
    "#Get the lightcurve from the function\n",
    "Fljet = light_curve_jetfit(J)\n",
    "\n",
    "#Get the integrated lightcurve from the function\n",
    "nusj, Fsjet = get_integrated_jetfit(J)"
   ]
  },
  {
   "cell_type": "markdown",
   "metadata": {},
   "source": [
    "### JetSimpy"
   ]
  },
  {
   "cell_type": "code",
   "execution_count": 27,
   "metadata": {},
   "outputs": [],
   "source": [
    "import jetsimpy"
   ]
  },
  {
   "cell_type": "code",
   "execution_count": 28,
   "metadata": {},
   "outputs": [],
   "source": [
    "JS = dict(\n",
    "    Eiso = 1.0208249320351635e+53,                          # (Jet) Isotropic equivalent energy\n",
    "    lf = calc_lf(J['Eta0'], J['GammaB']),   # (Jet) Lorentz factor\n",
    "    theta_c = B['theta_0'],                 # (Jet) half opening angle\n",
    "    n0 = B['n'],                            # (ISM) constant number density\n",
    "    k = 0,                                  # (ISM) wind power index\n",
    "    A = 0,                                  # (ISM) wind amplitude\n",
    "    eps_e = B['epsilon_E'],                 # (Radiation) epsilon_e\n",
    "    eps_b = B['epsilon_B'],                 # (Radiation) epsilon_b\n",
    "    p = B['p'],                             # (Radiation) electron power index\n",
    "    theta_v = B['theta_obs'],               # (Radiation) viewing angle\n",
    "    d = B['d_L']/3.08e24,                   # (radiation) distance (Mpc)\n",
    "    z = B['z'],                             # (radiation) redshift\n",
    "    b = 1,                                  # (radiation) magnetic field anisotropy\n",
    ")"
   ]
  },
  {
   "cell_type": "code",
   "execution_count": 29,
   "metadata": {},
   "outputs": [
    {
     "name": "stderr",
     "output_type": "stream",
     "text": [
      "/tmp/ipykernel_23083/2736781951.py:25: RuntimeWarning: invalid value encountered in sqrt\n",
      "  gamma_max = gb*(e0 + vb*np.cos(theta))*np.sqrt((e0*v0)**2 - sin_fact**2)/(1 + sin_fact**2)\n"
     ]
    }
   ],
   "source": [
    "#Theta Linspace\n",
    "theta = np.linspace(0, np.pi, 1000) \n",
    "\n",
    "#Constructing the Eiso linspace\n",
    "theta_c = B['theta_0']\n",
    "b = A['b']\n",
    "E_0 = 1.0208249320351635e+53\n",
    "gb = J['GammaB']\n",
    "e0 = J['Eta0']\n",
    "\n",
    "# Top Hat np.heaviside(-thetalinsp+theta_c,thetalinsp[999]- theta_c)\n",
    "Eiso_th = E_0*np.heaviside(-theta+theta_c,theta[999]-theta_c) # Using the heaviside funcion that is 0 for x < 0 and 1 for x > 1 with x running from 1 to -9 to get only a small potion that is = 1 with sharp edges\n",
    "\n",
    "# Gaussian\n",
    "Eiso_g = E_0*np.exp(-0.5*(theta/theta_c)**2) \n",
    "\n",
    "# Power-Law\n",
    "Eiso_pl = E_0*( 1 + (1/b)*(theta/theta_c)**2 )**(-b/2)\n",
    "\n",
    "# Boosted Fireball\n",
    "v0 = np.sqrt(1 - 1/e0**2)\n",
    "vb = np.sqrt(1 - 1/gb**2) \n",
    "sin_fact = gb*vb*np.sin(theta) #convert_deg_to_rad(thetalinsp)\n",
    "gamma_max_0 = gb*(e0 + vb*e0*v0)\n",
    "gamma_max = gb*(e0 + vb*np.cos(theta))*np.sqrt((e0*v0)**2 - sin_fact**2)/(1 + sin_fact**2)\n",
    "#Eiso = (E_0/4*np.pi)*(gamma_max/gamma_max_0)**3\n",
    "\n",
    "#Eiso = B[\"E\"] * np.exp(- 0.5 * (theta / B[\"theta_0\"]) ** 2)\n",
    "\n",
    "# Lorentz fator\n",
    "lf = (calc_lf(J['Eta0'], J['GammaB']) - 1) * np.exp(- 0.5 * (theta / B[\"theta_0\"]) ** 2) + 1"
   ]
  },
  {
   "cell_type": "code",
   "execution_count": 30,
   "metadata": {},
   "outputs": [],
   "source": [
    "def flux_jetsimpy(theta, Eiso, lf):\n",
    "    jet1 = jetsimpy.Afterglow(\n",
    "        theta,           # array of theta\n",
    "        Eiso,            # array of isotropic equivalent energy\n",
    "        lf,              # array of initial lorentz factor\n",
    "        0,               # scale of wind density\n",
    "        B['n'],          # constant number density\n",
    "        spread=True,    # (default = True) with/without spreading effect \n",
    "        coast=False,     # (default = True) with/without coasting. If this is \"False\", the initial lorentz factor data will be omitted.\n",
    "    )\n",
    "    # calculate the afterglow flux density (unit: mJy)\n",
    "    Fl_js = jet1.FluxDensity(\n",
    "        tl,                 # [second] observing time span\n",
    "        nul,                # [Hz]     observing frequency\n",
    "        JS,                 # parameter dictionary for radiation\n",
    "        rtol=1e-2,          # (default=1e-2) integration error tolerance\n",
    "        model=\"sync\",       # default radiation model\n",
    "    )\n",
    "    return Fl_js"
   ]
  },
  {
   "cell_type": "code",
   "execution_count": 31,
   "metadata": {},
   "outputs": [],
   "source": [
    "energy_jets = [Eiso_th, Eiso_g, Eiso_pl]\n",
    "jetsimpys = [flux_jetsimpy(theta, Eiso, lf) for Eiso in energy_jets]"
   ]
  },
  {
   "cell_type": "markdown",
   "metadata": {},
   "source": [
    "### Get the data points from an event "
   ]
  },
  {
   "cell_type": "code",
   "execution_count": 32,
   "metadata": {},
   "outputs": [],
   "source": [
    "# Getting the data from GW170817\n",
    "gw = '/home/agath/boxfitoutput/GW170817_3GHz_VLAobs.txt'\n",
    "\n",
    "#Declare lists for the variables\n",
    "t_gw = []\n",
    "nu_gw = []\n",
    "Fl_gw = []\n",
    "Flerr_gw = []\n",
    "\n",
    "with open(gw,'r') as file:\n",
    "\n",
    "    for line in file:\n",
    "        #Ignore the comments in the file\n",
    "        if line.startswith('#'): \n",
    "            continue\n",
    "        \n",
    "        #Split line into columns and remove the spaces\n",
    "        columns = line.strip().split()  \n",
    "\n",
    "        t_gw.append(float(columns[0]))\n",
    "        Fl_gw.append(float(columns[1]))\n",
    "        Flerr_gw.append(float(columns[2]))\n",
    "        nu_gw.append(float(columns[3]))\n",
    "\n",
    "# Convert lists to arrays\n",
    "t_gw = np.array(t_gw) #Contrary to the others, the time is in days\n",
    "Fl_gw = np.array(Fl_gw)\n",
    "Flerr_gw = np.array(Flerr_gw)\n",
    "nu_gw = np.array(nu_gw)        "
   ]
  },
  {
   "cell_type": "markdown",
   "metadata": {},
   "source": [
    "## Plot the Lightcurves and Spectra"
   ]
  },
  {
   "cell_type": "code",
   "execution_count": 47,
   "metadata": {},
   "outputs": [
    {
     "name": "stderr",
     "output_type": "stream",
     "text": [
      "/tmp/ipykernel_23083/2503574654.py:57: UserWarning: FigureCanvasAgg is non-interactive, and thus cannot be shown\n",
      "  fig1.show()\n"
     ]
    },
    {
     "data": {
      "image/png": "[encoded data removed]",
      "text/plain": [
       "<Figure size 640x480 with 1 Axes>"
      ]
     },
     "metadata": {},
     "output_type": "display_data"
    }
   ],
   "source": [
    "#To get a Label\n",
    "Label = {\n",
    "    r'$E_{iso}$': B['E'],\n",
    "    r'$n$': B['n'],\n",
    "    r'$\\eta_0$': J['Eta0'],\n",
    "    r'$\\gamma_B$': J['GammaB'],\n",
    "    r'$\\theta_{obs}$': B['theta_obs'],\n",
    "    r'$\\epsilon_e$': B['epsilon_E'],\n",
    "    r'$\\epsilon_b$': B['epsilon_B']\n",
    "}\n",
    "\n",
    "labels = [\"{}: {}\".format(key, value) for key, value in Label.items()]\n",
    "\n",
    "\n",
    "#Instructions for plotting the lightcurve\n",
    "\n",
    "fig1, ax1 = plt.subplots(1, 1)\n",
    "\n",
    "# Top Hat\n",
    "#ax1.plot(convert_ts_td(tbox), Flbox, label=\"BoxFit\") #convert_ts_td(tbox)\n",
    "ax1.plot(convert_ts_td(tl), afterglowpys[0][0], label=\"Afterglowpy (Top Hat)\", color = 'tab:blue', linestyle='dashed')\n",
    "ax1.plot(convert_ts_td(tl), jetsimpys[0], label=\"JetSimpy (Top Hat)\", color = 'tab:blue', linestyle='dotted') #convert_ts_td(tlj)\n",
    "\n",
    "#Gaussian\n",
    "ax1.plot(convert_ts_td(tl), afterglowpys[1][0], label=\"Afterglowpy (Gaussian)\", color = 'tab:orange', linestyle='dashed')\n",
    "ax1.plot(convert_ts_td(tl), jetsimpys[1], label=\"JetSimpy (Gaussian)\", color = 'tab:orange', linestyle='dotted') #convert_ts_td(tlj) \n",
    "\n",
    "#Power-Law\n",
    "ax1.plot(convert_ts_td(tl), afterglowpys[2][0], label=\"Afterglowpy (Power-Law)\", color = 'tab:green', linestyle='dashed')\n",
    "ax1.plot(convert_ts_td(tl), jetsimpys[2], label=\"JetSimpy (Power-Law)\", color = 'tab:green', linestyle='dotted') #convert_ts_td(tlj)\n",
    "\n",
    "\n",
    "#Boosted ireball (JetFit)\n",
    "ax1.plot(convert_ts_td(tl), Fljet, label=\"JetFit\", color = 'tab:red') #convert_ts_td(tlj) Fljet*1e-6\n",
    "\n",
    "\n",
    "# Afterglowpy for every jet type\n",
    "#[ax1.plot(convert_ts_td(tl), afterglowpys[i][0], label= f\"Afterglowpy ({name_types_jets[i]})\", linestyle='dashed') for i in range(3)] #convert_ts_td(tl) #len(afterglowpys)\n",
    "#ax1.plot(convert_ts_td(tl), Fnula, label=\"Afterglowpy\") #convert_ts_td(tl)\n",
    "\n",
    "\n",
    "#Event data with its errorbars\n",
    "ax1.scatter(t_gw, Fl_gw, label = \"GW170817\", marker = '+')\n",
    "ax1.errorbar(t_gw, Fl_gw,yerr=Flerr_gw,linestyle='', color='black')\n",
    "\n",
    "#DeepGlow\n",
    "#ax1.plot(convert_ts_td(tl), Fldeep , label=\"DeepGlow\")\n",
    "\n",
    "#ax1.set_title(\"{}\".format(\",\".join(labels)))\n",
    "ax1.set(xscale='log', xlabel=r'time elapsed (d)',\n",
    "       yscale='log', ylabel=r'$F_\\nu$ (mJy)')\n",
    "ax1.legend(bbox_to_anchor=(1.05, 1), loc='upper left')\n",
    "ax1.set_ylim(10**-2,)\n",
    "plt.subplots_adjust(right=0.85)\n",
    "fig1.savefig(\"lightcurve_comp.png\", bbox_inches='tight')\n",
    "\n",
    "fig1.show()\n",
    "\n",
    "# #Instructions for plotting the spectrum\n",
    "\n",
    "# fig2, ax2 = plt.subplots(1, 1)\n",
    "# [ax2.plot(nus, afterglowpys[i][1], label= f\"Afterglowpy ({name_types_jets[i]})\", linestyle='dashed') for i in range(len(afterglowpys))] #convert_ts_td(tl)\n",
    "# #ax2.plot(nus, Fnusa, label=\"Afterglowpy\")\n",
    "# ax2.plot(nus, Fnubox, label=\"BoxFit\")\n",
    "# ax2.plot(nusj, Fsjet, label=\"JetFit\")\n",
    "# ax2.set_title(\"Spectrum from different models\")\n",
    "# ax2.set(xscale='log', xlabel=r'$\\nu$ (Hz)',\n",
    "#        yscale='log', ylabel=r'$F_\\nu$ (mJy)')\n",
    "# ax2.legend()\n",
    "# fig2.savefig(\"spectrum_comp.png\")\n",
    "#fig2.show()\n",
    "\n"
   ]
  },
  {
   "cell_type": "markdown",
   "metadata": {},
   "source": [
    "### Table of the input of each model"
   ]
  },
  {
   "cell_type": "markdown",
   "metadata": {},
   "source": [
    "This table indicates the input of each model with its units (or a . when there's no unit). "
   ]
  },
  {
   "cell_type": "markdown",
   "metadata": {},
   "source": [
    "| Input Parameter | BoxFit | Afterglowpy | JetFit | JetSimpy |\n",
    "|:--------:|:--------:|:--------:| :--------:| :--------:|\n",
    "|  $\\theta_{obs}$   | . rad   | . rad  |   | . rad  |\n",
    "|  $\\theta_{j}$    | . rad   |  . rad  |   | . rad  |\n",
    "|  $\\theta_{wing}$    |    |  rad   |   |  |\n",
    "|  $n$    | . $cm^{-3}$   | . $cm^{-3}$   | . $cm^{-3}$/1 $cm^{-3}$  | . $cm^{-3}$   |\n",
    "|  $p$    |  .  |  .   | .   | .  |\n",
    "|  $E$   |     |     | . erg / 10^50   |    |\n",
    "|  $E_{iso}$   |  . erg   | . erg   |   | . erg   |\n",
    "|  $\\eta_0$   |     |    | .   |    |\n",
    "|  $\\gamma_B$    |     |    | .   |    |\n",
    "|  $\\Gamma$    |     |    |    | .  |\n",
    "|  $\\epsilon_B$   |  .  |  .   | .   | .  |\n",
    "|  $\\epsilon_E$   |  .   |  .  | .  | .  |\n",
    "|  $\\xi_N$   |  .  |  .   | .   |   |\n",
    "|  $d_L$   |  cm   |  cm   | cm  | Mpc   |\n",
    "|  $z$   |  .  |  .   | .   | .  |\n",
    "|  $b$   |    |  .   |   | .  |"
   ]
  },
  {
   "cell_type": "markdown",
   "metadata": {},
   "source": [
    "Table of the inputs of each model for generating the lightcurves above."
   ]
  },
  {
   "cell_type": "code",
   "execution_count": 34,
   "metadata": {},
   "outputs": [
    {
     "name": "stdout",
     "output_type": "stream",
     "text": [
      "                   BoxFit                 Afterglowpy              JetFit  \\\n",
      "theta_obs        0.44 rad                    0.44 rad                       \n",
      "theta_j     0.0698132 rad               0.0698132 rad                       \n",
      "theta_wing                                   0.88 rad                       \n",
      "eta_0                                                                   8   \n",
      "gamma_B                                                                12   \n",
      "lf                                                                          \n",
      "E                                                      2.50e+00 erg/10^50   \n",
      "E_iso         8.2e+53 erg  1.0208249320351635e+53 erg                       \n",
      "n              0.01 cm^-3                  0.01 cm^-3                0.01   \n",
      "p                    2.15                        2.15                2.15   \n",
      "b                                                 4.5                       \n",
      "eps_e                 0.1                         0.1                 0.1   \n",
      "eps_b               7e-06                       7e-06               7e-06   \n",
      "xi_N                  1.0                         1.0                 1.0   \n",
      "d_L            1.2e+26 cm                  1.2e+26 cm      0.012 cm/10^28   \n",
      "z                 0.00973                     0.00973             0.00973   \n",
      "\n",
      "                              JetSimpy  \n",
      "theta_obs                     0.44 rad  \n",
      "theta_j                  0.0698132 rad  \n",
      "theta_wing                              \n",
      "eta_0                                   \n",
      "gamma_B                                 \n",
      "lf                                 192  \n",
      "E                                       \n",
      "E_iso       1.0208249320351635e+53 erg  \n",
      "n                           0.01 cm^-3  \n",
      "p                                 2.15  \n",
      "b                                    1  \n",
      "eps_e                              0.1  \n",
      "eps_b                            7e-06  \n",
      "xi_N                                    \n",
      "d_L                       3.90e+01 Mpc  \n",
      "z                              0.00973  \n"
     ]
    }
   ],
   "source": [
    "import pandas as pd\n",
    "\n",
    "models = {\n",
    "    \"BoxFit\": [B['theta_obs'], B['theta_0'], '', '', '', '', '', B['E'], B['n'], B['p'], '', B['epsilon_E'], B['epsilon_B'], B['ksi_N'], B['d_L'], B['z']],\n",
    "    \"Afterglowpy\": [A['thetaObs'], A['thetaCore'], A['thetaWing'], '','', '', '', A['E0'], A['n0'], A['p'], A['b'], A['epsilon_e'], A['epsilon_B'], A['xi_N'], A['d_L'], A['z']],\n",
    "    \"JetFit\": ['', '','', J['Eta0'], J['GammaB'], '', format(J['E'],'.2e'), '', J['n'], J['p'], '', J['epse'], J['epsb'], J['xiN'], J['dL'], J['z']],\n",
    "    \"JetSimpy\": [JS['theta_v'], JS['theta_c'], '', '', '', JS['lf'], '', JS['Eiso'], JS['n0'], JS['p'], JS['b'], JS['eps_e'], JS['eps_b'], '', format(JS['d'],'.2e'), JS['z']]\n",
    "}\n",
    "\n",
    "# The format is the following:\n",
    "# \"Model\": [D['thetaObs'], D['thetaCore'], D['thetaWing'], D['Eta0'], D['GammaB'], D['E'], D['Eiso'], D['n0'], D['p'], D['b'], D['epsilon_e'], D['epsilon_B'], D['xi_N'], D['d_L'], D['z']]\n",
    "\n",
    "variables = ['theta_obs','theta_j', 'theta_wing', 'eta_0', 'gamma_B', 'lf', 'E', 'E_iso', 'n', 'p', 'b', 'eps_e', 'eps_b', 'xi_N', 'd_L', 'z']\n",
    "\n",
    "variables_unit_B = [' rad', ' rad', '', '', '', '','', ' erg', ' cm^-3', '', '', '', '', '', ' cm', '']\n",
    "variables_unit_A = [' rad', ' rad', ' rad', '', '', '','', ' erg', ' cm^-3', '', '', '', '', '', ' cm', '']\n",
    "variables_unit_J = ['', '', '', '', '', '',' erg/10^50', '', '', '', '', '', '', '', ' cm/10^28', '']\n",
    "variables_unit_JS = [' rad', ' rad', '', '', '', '', '',' erg', ' cm^-3', '', '', '', '', '', ' Mpc', '']\n",
    "\n",
    "df = pd.DataFrame(models, variables)\n",
    "df['BoxFit'] = df['BoxFit'].astype(str) + variables_unit_B\n",
    "df['Afterglowpy'] = df['Afterglowpy'].astype(str) + variables_unit_A\n",
    "df['JetFit'] = df['JetFit'].astype(str) + variables_unit_J\n",
    "df['JetSimpy'] = df['JetSimpy'].astype(str) + variables_unit_JS\n",
    "\n",
    "print(df)"
   ]
  },
  {
   "cell_type": "markdown",
   "metadata": {},
   "source": [
    "### Attempt to verify that only the ratio $\\theta_{obs}$/$\\theta_j$ is constrained"
   ]
  },
  {
   "cell_type": "code",
   "execution_count": 35,
   "metadata": {},
   "outputs": [],
   "source": [
    "def time_flux_peaks(Fnu, t):\n",
    "    \n",
    "    Fnu_peak = np.max(Fnu)\n",
    "    t_peak = t[np.argmax(Fnu)]\n",
    "\n",
    "    return Fnu_peak, t_peak"
   ]
  },
  {
   "cell_type": "code",
   "execution_count": 36,
   "metadata": {},
   "outputs": [
    {
     "name": "stdout",
     "output_type": "stream",
     "text": [
      "6.304221897627295\n"
     ]
    }
   ],
   "source": [
    "import random\n",
    "\n",
    "print(np.random.uniform(1,10))\n",
    "#Rescaling as in Nakar\n",
    "\n",
    "def rescaling( theta_obs, theta_0,E, n, epse, nu, d_L,p, Fl, t, ): #maybe change this with **kwargs but beware that not all dictionnaries have the same key name for the same physical variable (or the same scale, check jetfit)\n",
    "\n",
    "    #Get the old ratio, should be constrained between 10 and 3\n",
    "    ratio = theta_obs/theta_0\n",
    "    print('The ratio is', ratio)\n",
    "\n",
    "    #Get the new angle values with the same ratio, theta_obs contrained between 0 and 1.57, theta_0 between 0.045 and 0.5, wrote a statement in case out of bounds\n",
    "    theta_obs_re = np.random.uniform(0.045*ratio,1.57)\n",
    "    theta_0_re = theta_obs_re/ratio\n",
    "\n",
    "    if theta_0_re > 0.5 or theta_0_re < 0.045:\n",
    "        print('Random theta j out of bounds for this ratio and theta obs', theta_0_re)\n",
    "\n",
    "    #Get the previous t_peak and f_peak\n",
    "    Fl_peak, t_peak = time_flux_peaks(Fl, t)\n",
    "\n",
    "    #Get the new t_peak and F_peak\n",
    "    n_re = (((theta_obs_re - theta_0_re)**2*E**(1/3))/t_peak)**(1/3)\n",
    "    epsb_re = ((Fl_peak)/E*(n**(p+1/4))*(epse**(p-1))*(theta_obs**(-2*p))*(nu**(-(p-1)/2))*(d_L**-2))**(4/p+1)\n",
    "\n",
    "    #Calculate the \n",
    "    return theta_obs_re, theta_0_re, epsb_re, n_re"
   ]
  },
  {
   "cell_type": "code",
   "execution_count": 37,
   "metadata": {},
   "outputs": [
    {
     "name": "stdout",
     "output_type": "stream",
     "text": [
      "The ratio is 6.302533045326672\n"
     ]
    },
    {
     "data": {
      "text/plain": [
       "(0.47364460439144435, 0.0751514670347745, 0.0, 1977.1906784650475)"
      ]
     },
     "execution_count": 37,
     "metadata": {},
     "output_type": "execute_result"
    }
   ],
   "source": [
    "rescaling(B['theta_obs'], B['theta_0'], B['E'], B['n'], B['epsilon_E'], nus[0], B['d_L'], B['p'], Flbox, tbox)"
   ]
  },
  {
   "cell_type": "markdown",
   "metadata": {},
   "source": [
    "### Attempt to calculate the flux peak for every model"
   ]
  },
  {
   "cell_type": "code",
   "execution_count": 38,
   "metadata": {},
   "outputs": [
    {
     "name": "stdout",
     "output_type": "stream",
     "text": [
      "0.10460664450890762\n",
      "3.1094952779504923e-06 2.9725600056750773e-05\n"
     ]
    }
   ],
   "source": [
    "# Variables\n",
    "E = B['E']\n",
    "n = B['n']\n",
    "p = B['p']\n",
    "eps_e = B['epsilon_E']\n",
    "eps_B = B['epsilon_B']\n",
    "d = B['d_L']\n",
    "nu = nul[0]\n",
    "theta_obs = B['theta_0']\n",
    "\n",
    "def flux_peak(F):\n",
    "    actual_peak = np.amax(F)\n",
    "    flux_peak = E*np.power(n,(p+1)/4)*np.power(eps_e,p-1)*np.power(eps_B,(p+1)/4)*np.power(theta_obs,-2*p)*np.power(nu,-(p-1)/2)*np.power(d,-2)\n",
    "    constant = flux_peak/actual_peak\n",
    "    return flux_peak, constant\n",
    "\n",
    "#flux_peak, constant = flux_peak(Flbox)\n",
    "#print(flux_peak, constant)\n",
    "\n",
    "print(np.amax(Fljet))\n",
    "abcdefg, hijklmn = flux_peak(Fljet)\n",
    "#print(flux_peak_jet, constant_jet)\n",
    "print(abcdefg, hijklmn)"
   ]
  },
  {
   "cell_type": "markdown",
   "metadata": {},
   "source": [
    "## Plotting E($\\theta$) for every jet structure"
   ]
  },
  {
   "cell_type": "code",
   "execution_count": 39,
   "metadata": {},
   "outputs": [],
   "source": [
    "def convert_deg_to_rad(deg):\n",
    "    return deg*np.pi/180"
   ]
  },
  {
   "cell_type": "code",
   "execution_count": 40,
   "metadata": {},
   "outputs": [],
   "source": [
    "def convert_rad_to_deg(rad):\n",
    "    return rad*180/np.pi"
   ]
  },
  {
   "cell_type": "code",
   "execution_count": 41,
   "metadata": {},
   "outputs": [
    {
     "data": {
      "text/plain": [
       "0.17453292519943295"
      ]
     },
     "execution_count": 41,
     "metadata": {},
     "output_type": "execute_result"
    }
   ],
   "source": [
    "convert_deg_to_rad(10)"
   ]
  },
  {
   "cell_type": "code",
   "execution_count": 42,
   "metadata": {},
   "outputs": [],
   "source": [
    "thetalinsp = np.linspace(0, 0.6981317007977318, 1000)\n",
    "\n",
    "# Fetching the variables\n",
    "\n",
    "theta_c = 0.0698132 # 10 degrees 0.17453292519943295\n",
    "b = A['b']\n",
    "E_iso = B['E']\n",
    "gb = J['GammaB']\n",
    "e0 = J['Eta0']\n",
    "c = 3*10**8 #speed of light in vacuum \n",
    "\n",
    "# Top Hat\n",
    "E_th = np.heaviside(-thetalinsp+theta_c,thetalinsp[999]- theta_c) # Using the heaviside funcion that is 0 for x < 0 and 1 for x > 1 with x running from 1 to -9 to get only a small potion that is = 1 with sharp edges\n",
    "\n",
    "# Gaussian\n",
    "E_g = np.exp(-0.5*(thetalinsp/theta_c)**2) \n",
    "\n",
    "# Power-Law\n",
    "E_pl = ( 1 + (1/b)*(thetalinsp/theta_c)**2 )**(-b/2)\n",
    "\n",
    "# Boosted Fireball\n",
    "v0 = np.sqrt(1 - 1/e0**2)\n",
    "vb = np.sqrt(1 - 1/gb**2) \n",
    "sin_fact = gb*vb*np.sin(thetalinsp)\n",
    "gamma_max_0 = gb*(e0 + vb*e0*v0)\n",
    "gamma_max = gb*(e0 + vb*np.cos(thetalinsp))*np.sqrt((e0*v0)**2 - sin_fact**2)/(1 + sin_fact**2)\n",
    "E_bf = (gamma_max/gamma_max_0)**3\n"
   ]
  },
  {
   "cell_type": "code",
   "execution_count": 43,
   "metadata": {},
   "outputs": [],
   "source": [
    "def normalize_E(E):\n",
    "    return E/E[0]"
   ]
  },
  {
   "cell_type": "code",
   "execution_count": 44,
   "metadata": {},
   "outputs": [
    {
     "data": {
      "image/png": "[encoded data removed]",
      "text/plain": [
       "<Figure size 640x480 with 1 Axes>"
      ]
     },
     "metadata": {},
     "output_type": "display_data"
    }
   ],
   "source": [
    "fig3, ax3 = plt.subplots(1, 1)\n",
    "plt.rcParams.update({'font.size': 15})\n",
    "ax3.plot(convert_rad_to_deg(thetalinsp), E_th, label=\"Top Hat\")\n",
    "ax3.plot(convert_rad_to_deg(thetalinsp), E_g, label=\"Gaussian\") \n",
    "ax3.plot(convert_rad_to_deg(thetalinsp), E_pl, label=\"Power-Law\") \n",
    "ax3.plot(convert_rad_to_deg(thetalinsp), normalize_E(E_bf), label=\"Boosted Fireball\") \n",
    "ax3.set_xlim(0,30)\n",
    "ax3.set_ylim(0,)\n",
    "#ax3.set_title(\"Energy per angle of structured jets\")\n",
    "ax3.set(xlabel=r'$\\theta$ (deg)', ylabel=r'$E$ ($E_0$)')\n",
    "ax3.legend()\n",
    "plt.tight_layout()\n",
    "fig3.savefig(\"profiles.png\")"
   ]
  }
 ],
 "metadata": {
  "kernelspec": {
   "display_name": "JetFit",
   "language": "python",
   "name": "python3"
  },
  "language_info": {
   "codemirror_mode": {
    "name": "ipython",
    "version": 3
   },
   "file_extension": ".py",
   "mimetype": "text/x-python",
   "name": "python",
   "nbconvert_exporter": "python",
   "pygments_lexer": "ipython3",
   "version": "3.12.2"
  }
 },
 "nbformat": 4,
 "nbformat_minor": 2
}
